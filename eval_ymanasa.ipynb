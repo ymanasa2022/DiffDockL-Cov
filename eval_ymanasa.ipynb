{
 "cells": [
  {
   "cell_type": "markdown",
   "metadata": {},
   "source": [
    "Evaluation for CSKDE95 and CovPDB. Use ***posebusters*** conda env"
   ]
  },
  {
   "cell_type": "code",
   "execution_count": 1,
   "metadata": {},
   "outputs": [],
   "source": [
    "import glob\n",
    "import os \n",
    "from posebusters import PoseBusters\n",
    "from pathlib import Path\n",
    "import pandas as pd\n",
    "from evaluate_cov import make_eval_df \n",
    "from evaluate_cov import score_model_eval\n",
    "from evaluate_cov import confidence_model_eval"
   ]
  },
  {
   "cell_type": "code",
   "execution_count": 2,
   "metadata": {},
   "outputs": [],
   "source": [
    "pose_bust_cols = ['file',\n",
    " 'molecule',\n",
    " 'mol_pred_loaded',\n",
    " 'mol_true_loaded',\n",
    " 'mol_cond_loaded',\n",
    " 'sanitization',\n",
    " 'inchi_convertible',\n",
    " 'all_atoms_connected',\n",
    " 'molecular_formula',\n",
    " 'molecular_bonds',\n",
    " 'double_bond_stereochemistry',\n",
    " 'tetrahedral_chirality',\n",
    " 'bond_lengths',\n",
    " 'bond_angles',\n",
    " 'internal_steric_clash',\n",
    " 'aromatic_ring_flatness',\n",
    " 'double_bond_flatness',\n",
    " 'internal_energy',\n",
    " 'protein-ligand_maximum_distance',\n",
    " 'minimum_distance_to_protein',\n",
    " 'minimum_distance_to_organic_cofactors',\n",
    " 'minimum_distance_to_inorganic_cofactors',\n",
    " 'minimum_distance_to_waters',\n",
    " 'volume_overlap_with_protein',\n",
    " 'volume_overlap_with_organic_cofactors',\n",
    " 'volume_overlap_with_inorganic_cofactors',\n",
    " 'volume_overlap_with_waters',\n",
    " 'rmsd_≤_2å',\n",
    " 'passes_valence_checks',\n",
    " 'passes_kekulization',\n",
    " 'inchi_crystal_valid',\n",
    " 'inchi_docked_valid',\n",
    " 'inchi_crystal',\n",
    " 'inchi_docked',\n",
    " 'inchi_overall',\n",
    " 'inchi_version',\n",
    " 'stereochemistry_preserved',\n",
    " 'hydrogens',\n",
    " 'net_charge',\n",
    " 'protons',\n",
    " 'stereo_sp3',\n",
    " 'stereo_sp3_inverted',\n",
    " 'stereo_type',\n",
    " 'number_bonds',\n",
    " 'shortest_bond_relative_length',\n",
    " 'longest_bond_relative_length',\n",
    " 'number_short_outlier_bonds',\n",
    " 'number_long_outlier_bonds',\n",
    " 'number_angles',\n",
    " 'most_extreme_relative_angle',\n",
    " 'number_outlier_angles',\n",
    " 'number_noncov_pairs',\n",
    " 'shortest_noncovalent_relative_distance',\n",
    " 'number_clashes',\n",
    " 'number_valid_bonds',\n",
    " 'number_valid_angles',\n",
    " 'number_valid_noncov_pairs',\n",
    " 'number_aromatic_rings_checked',\n",
    " 'number_aromatic_rings_pass',\n",
    " 'aromatic_ring_maximum_distance_from_plane',\n",
    " 'number_double_bonds_checked',\n",
    " 'number_double_bonds_pass',\n",
    " 'double_bond_maximum_distance_from_plane',\n",
    " 'ensemble_avg_energy',\n",
    " 'mol_pred_energy',\n",
    " 'energy_ratio',\n",
    " 'smallest_distance_protein',\n",
    " 'num_pairwise_clashes_protein',\n",
    " 'most_extreme_ligand_atom_id_protein',\n",
    " 'most_extreme_protein_atom_id_protein',\n",
    " 'most_extreme_ligand_element_protein',\n",
    " 'most_extreme_protein_element_protein',\n",
    " 'most_extreme_ligand_vdw_protein',\n",
    " 'most_extreme_protein_vdw_protein',\n",
    " 'most_extreme_sum_radii_protein',\n",
    " 'most_extreme_distance_protein',\n",
    " 'most_extreme_sum_radii_scaled_protein',\n",
    " 'most_extreme_relative_distance_protein',\n",
    " 'most_extreme_clash_protein',\n",
    " 'smallest_distance_organic_cofactors',\n",
    " 'not_too_far_away_organic_cofactors',\n",
    " 'num_pairwise_clashes_organic_cofactors',\n",
    " 'most_extreme_ligand_atom_id_organic_cofactors',\n",
    " 'most_extreme_protein_atom_id_organic_cofactors',\n",
    " 'most_extreme_ligand_element_organic_cofactors',\n",
    " 'most_extreme_protein_element_organic_cofactors',\n",
    " 'most_extreme_ligand_vdw_organic_cofactors',\n",
    " 'most_extreme_protein_vdw_organic_cofactors',\n",
    " 'most_extreme_sum_radii_organic_cofactors',\n",
    " 'most_extreme_distance_organic_cofactors',\n",
    " 'most_extreme_sum_radii_scaled_organic_cofactors',\n",
    " 'most_extreme_relative_distance_organic_cofactors',\n",
    " 'most_extreme_clash_organic_cofactors',\n",
    " 'smallest_distance_inorganic_cofactors',\n",
    " 'not_too_far_away_inorganic_cofactors',\n",
    " 'num_pairwise_clashes_inorganic_cofactors',\n",
    " 'most_extreme_ligand_atom_id_inorganic_cofactors',\n",
    " 'most_extreme_protein_atom_id_inorganic_cofactors',\n",
    " 'most_extreme_ligand_element_inorganic_cofactors',\n",
    " 'most_extreme_protein_element_inorganic_cofactors',\n",
    " 'most_extreme_ligand_vdw_inorganic_cofactors',\n",
    " 'most_extreme_protein_vdw_inorganic_cofactors',\n",
    " 'most_extreme_sum_radii_inorganic_cofactors',\n",
    " 'most_extreme_distance_inorganic_cofactors',\n",
    " 'most_extreme_sum_radii_scaled_inorganic_cofactors',\n",
    " 'most_extreme_relative_distance_inorganic_cofactors',\n",
    " 'most_extreme_clash_inorganic_cofactors',\n",
    " 'smallest_distance_waters',\n",
    " 'not_too_far_away_waters',\n",
    " 'num_pairwise_clashes_waters',\n",
    " 'most_extreme_ligand_atom_id_waters',\n",
    " 'most_extreme_protein_atom_id_waters',\n",
    " 'most_extreme_ligand_element_waters',\n",
    " 'most_extreme_protein_element_waters',\n",
    " 'most_extreme_ligand_vdw_waters',\n",
    " 'most_extreme_protein_vdw_waters',\n",
    " 'most_extreme_sum_radii_waters',\n",
    " 'most_extreme_distance_waters',\n",
    " 'most_extreme_sum_radii_scaled_waters',\n",
    " 'most_extreme_relative_distance_waters',\n",
    " 'most_extreme_clash_waters',\n",
    " 'volume_overlap_protein',\n",
    " 'volume_overlap_organic_cofactors',\n",
    " 'volume_overlap_inorganic_cofactors',\n",
    " 'volume_overlap_waters',\n",
    " 'rmsd',\n",
    " 'kabsch_rmsd',\n",
    " 'centroid_distance']\n"
   ]
  },
  {
   "cell_type": "code",
   "execution_count": 3,
   "metadata": {},
   "outputs": [
    {
     "name": "stdout",
     "output_type": "stream",
     "text": [
      "4cdc\n"
     ]
    },
    {
     "name": "stderr",
     "output_type": "stream",
     "text": [
      "/nfs/turbo/umms-maom/ymanasa/opt/DiffDockL-Cov/results/evaluate_cov.py:45: FutureWarning: The behavior of DataFrame concatenation with empty or all-NA entries is deprecated. In a future version, this will no longer exclude empty or all-NA columns when determining the result dtypes. To retain the old behavior, exclude the relevant entries before the concat operation.\n",
      "  all_pose_evals = pd.concat([all_pose_evals] + dfs, ignore_index=True)\n"
     ]
    },
    {
     "name": "stdout",
     "output_type": "stream",
     "text": [
      "6j4p\n",
      "not all poses were predicted for 6j4p, moving to next\n",
      "4qps\n",
      "not all poses were predicted for 4qps, moving to next\n",
      "1hbj\n",
      "4dmy\n"
     ]
    },
    {
     "name": "stderr",
     "output_type": "stream",
     "text": [
      "/nfs/turbo/umms-maom/ymanasa/opt/DiffDockL-Cov/results/evaluate_cov.py:45: FutureWarning: The behavior of DataFrame concatenation with empty or all-NA entries is deprecated. In a future version, this will no longer exclude empty or all-NA columns when determining the result dtypes. To retain the old behavior, exclude the relevant entries before the concat operation.\n",
      "  all_pose_evals = pd.concat([all_pose_evals] + dfs, ignore_index=True)\n",
      "Could not load molecule from /home/ymanasa/turbo/ymanasa/opt/DiffDockL-Cov/data/CSKDE95_datamol_af2/4luc/4luc_processed.pdb with error: Could not load molecule.\n",
      "[08:35:38] WARNING:  Problems/mismatches: Mobile-H( Hydrogens: Number; Mobile-H groups: Missing, Attachment points; Charge(s): Do not match; Proton balance: Does not match)\n",
      "\n",
      "[08:35:38] WARNING:  Problems/mismatches: Mobile-H( Hydrogens: Number; Mobile-H groups: Missing, Attachment points; Charge(s): Do not match; Proton balance: Does not match)\n",
      "\n"
     ]
    },
    {
     "name": "stdout",
     "output_type": "stream",
     "text": [
      "1qdq\n",
      "not all poses were predicted for 1qdq, moving to next\n",
      "4luc\n"
     ]
    },
    {
     "name": "stderr",
     "output_type": "stream",
     "text": [
      "Could not load molecule from /home/ymanasa/turbo/ymanasa/opt/DiffDockL-Cov/data/CSKDE95_datamol_af2/4luc/4luc_processed.pdb with error: Could not load molecule.\n",
      "[08:35:42] WARNING:  Problems/mismatches: Mobile-H( Hydrogens: Number; Mobile-H groups: Missing, Attachment points; Charge(s): Do not match; Proton balance: Does not match)\n",
      "\n",
      "[08:35:42] WARNING:  Problems/mismatches: Mobile-H( Hydrogens: Number; Mobile-H groups: Missing, Attachment points; Charge(s): Do not match; Proton balance: Does not match)\n",
      "\n",
      "Could not load molecule from /home/ymanasa/turbo/ymanasa/opt/DiffDockL-Cov/data/CSKDE95_datamol_af2/4luc/4luc_processed.pdb with error: Could not load molecule.\n",
      "[08:35:42] WARNING:  Problems/mismatches: Mobile-H( Hydrogens: Number; Mobile-H groups: Missing, Attachment points; Charge(s): Do not match; Proton balance: Does not match)\n",
      "\n",
      "[08:35:42] WARNING:  Problems/mismatches: Mobile-H( Hydrogens: Number; Mobile-H groups: Missing, Attachment points; Charge(s): Do not match; Proton balance: Does not match)\n",
      "\n",
      "Could not load molecule from /home/ymanasa/turbo/ymanasa/opt/DiffDockL-Cov/data/CSKDE95_datamol_af2/4luc/4luc_processed.pdb with error: Could not load molecule.\n",
      "[08:35:43] WARNING:  Problems/mismatches: Mobile-H( Hydrogens: Number; Mobile-H groups: Missing, Attachment points; Charge(s): Do not match; Proton balance: Does not match)\n",
      "\n",
      "[08:35:43] WARNING:  Problems/mismatches: Mobile-H( Hydrogens: Number; Mobile-H groups: Missing, Attachment points; Charge(s): Do not match; Proton balance: Does not match)\n",
      "\n",
      "Could not load molecule from /home/ymanasa/turbo/ymanasa/opt/DiffDockL-Cov/data/CSKDE95_datamol_af2/4luc/4luc_processed.pdb with error: Could not load molecule.\n",
      "[08:35:43] WARNING:  Problems/mismatches: Mobile-H( Hydrogens: Number; Mobile-H groups: Missing, Attachment points; Charge(s): Do not match; Proton balance: Does not match)\n",
      "\n",
      "[08:35:43] WARNING:  Problems/mismatches: Mobile-H( Hydrogens: Number; Mobile-H groups: Missing, Attachment points; Charge(s): Do not match; Proton balance: Does not match)\n",
      "\n",
      "Could not load molecule from /home/ymanasa/turbo/ymanasa/opt/DiffDockL-Cov/data/CSKDE95_datamol_af2/4luc/4luc_processed.pdb with error: Could not load molecule.\n",
      "[08:35:43] WARNING:  Problems/mismatches: Mobile-H( Hydrogens: Number; Mobile-H groups: Missing, Attachment points; Charge(s): Do not match; Proton balance: Does not match)\n",
      "\n",
      "[08:35:43] WARNING:  Problems/mismatches: Mobile-H( Hydrogens: Number; Mobile-H groups: Missing, Attachment points; Charge(s): Do not match; Proton balance: Does not match)\n",
      "\n",
      "Could not load molecule from /home/ymanasa/turbo/ymanasa/opt/DiffDockL-Cov/data/CSKDE95_datamol_af2/4luc/4luc_processed.pdb with error: Could not load molecule.\n",
      "[08:35:43] WARNING:  Problems/mismatches: Mobile-H( Hydrogens: Number; Mobile-H groups: Missing, Attachment points; Charge(s): Do not match; Proton balance: Does not match)\n",
      "\n",
      "[08:35:43] WARNING:  Problems/mismatches: Mobile-H( Hydrogens: Number; Mobile-H groups: Missing, Attachment points; Charge(s): Do not match; Proton balance: Does not match)\n",
      "\n",
      "Could not load molecule from /home/ymanasa/turbo/ymanasa/opt/DiffDockL-Cov/data/CSKDE95_datamol_af2/4luc/4luc_processed.pdb with error: Could not load molecule.\n",
      "[08:35:44] WARNING:  Problems/mismatches: Mobile-H( Hydrogens: Number; Mobile-H groups: Missing, Attachment points; Charge(s): Do not match; Proton balance: Does not match)\n",
      "\n",
      "[08:35:44] WARNING:  Problems/mismatches: Mobile-H( Hydrogens: Number; Mobile-H groups: Missing, Attachment points; Charge(s): Do not match; Proton balance: Does not match)\n",
      "\n",
      "Could not load molecule from /home/ymanasa/turbo/ymanasa/opt/DiffDockL-Cov/data/CSKDE95_datamol_af2/4luc/4luc_processed.pdb with error: Could not load molecule.\n",
      "[08:35:44] WARNING:  Problems/mismatches: Mobile-H( Hydrogens: Number; Mobile-H groups: Missing, Attachment points; Charge(s): Do not match; Proton balance: Does not match)\n",
      "\n",
      "[08:35:44] WARNING:  Problems/mismatches: Mobile-H( Hydrogens: Number; Mobile-H groups: Missing, Attachment points; Charge(s): Do not match; Proton balance: Does not match)\n",
      "\n",
      "Could not load molecule from /home/ymanasa/turbo/ymanasa/opt/DiffDockL-Cov/data/CSKDE95_datamol_af2/4luc/4luc_processed.pdb with error: Could not load molecule.\n",
      "[08:35:44] WARNING:  Problems/mismatches: Mobile-H( Hydrogens: Number; Mobile-H groups: Missing, Attachment points; Charge(s): Do not match; Proton balance: Does not match)\n",
      "\n",
      "[08:35:44] WARNING:  Problems/mismatches: Mobile-H( Hydrogens: Number; Mobile-H groups: Missing, Attachment points; Charge(s): Do not match; Proton balance: Does not match)\n",
      "\n",
      "[08:35:44] UFFTYPER: Unrecognized charge state for atom: 14\n"
     ]
    },
    {
     "name": "stdout",
     "output_type": "stream",
     "text": [
      "4i9o\n"
     ]
    },
    {
     "name": "stderr",
     "output_type": "stream",
     "text": [
      "[08:35:47] UFFTYPER: Unrecognized charge state for atom: 14\n",
      "[08:35:48] UFFTYPER: Unrecognized charge state for atom: 14\n",
      "[08:35:48] UFFTYPER: Unrecognized charge state for atom: 14\n",
      "[08:35:49] UFFTYPER: Unrecognized charge state for atom: 14\n",
      "[08:35:49] UFFTYPER: Unrecognized charge state for atom: 14\n",
      "[08:35:49] UFFTYPER: Unrecognized charge state for atom: 14\n",
      "[08:35:50] UFFTYPER: Unrecognized charge state for atom: 14\n",
      "[08:35:50] UFFTYPER: Unrecognized charge state for atom: 14\n",
      "[08:35:50] UFFTYPER: Unrecognized charge state for atom: 14\n"
     ]
    },
    {
     "name": "stdout",
     "output_type": "stream",
     "text": [
      "4mll\n",
      "not all poses were predicted for 4mll, moving to next\n",
      "6ary\n"
     ]
    },
    {
     "name": "stderr",
     "output_type": "stream",
     "text": [
      "Could not load molecule from /home/ymanasa/turbo/ymanasa/opt/DiffDockL-Cov/data/CSKDE95_datamol_af2/5vbm/5vbm_processed.pdb with error: Could not load molecule.\n"
     ]
    },
    {
     "name": "stdout",
     "output_type": "stream",
     "text": [
      "5vbm\n"
     ]
    },
    {
     "name": "stderr",
     "output_type": "stream",
     "text": [
      "Could not load molecule from /home/ymanasa/turbo/ymanasa/opt/DiffDockL-Cov/data/CSKDE95_datamol_af2/5vbm/5vbm_processed.pdb with error: Could not load molecule.\n",
      "Could not load molecule from /home/ymanasa/turbo/ymanasa/opt/DiffDockL-Cov/data/CSKDE95_datamol_af2/5vbm/5vbm_processed.pdb with error: Could not load molecule.\n",
      "Could not load molecule from /home/ymanasa/turbo/ymanasa/opt/DiffDockL-Cov/data/CSKDE95_datamol_af2/5vbm/5vbm_processed.pdb with error: Could not load molecule.\n",
      "Could not load molecule from /home/ymanasa/turbo/ymanasa/opt/DiffDockL-Cov/data/CSKDE95_datamol_af2/5vbm/5vbm_processed.pdb with error: Could not load molecule.\n",
      "Could not load molecule from /home/ymanasa/turbo/ymanasa/opt/DiffDockL-Cov/data/CSKDE95_datamol_af2/5vbm/5vbm_processed.pdb with error: Could not load molecule.\n",
      "Could not load molecule from /home/ymanasa/turbo/ymanasa/opt/DiffDockL-Cov/data/CSKDE95_datamol_af2/5vbm/5vbm_processed.pdb with error: Could not load molecule.\n",
      "Could not load molecule from /home/ymanasa/turbo/ymanasa/opt/DiffDockL-Cov/data/CSKDE95_datamol_af2/5vbm/5vbm_processed.pdb with error: Could not load molecule.\n",
      "Could not load molecule from /home/ymanasa/turbo/ymanasa/opt/DiffDockL-Cov/data/CSKDE95_datamol_af2/5vbm/5vbm_processed.pdb with error: Could not load molecule.\n",
      "Could not load molecule from /home/ymanasa/turbo/ymanasa/opt/DiffDockL-Cov/data/CSKDE95_datamol_af2/5vbm/5vbm_processed.pdb with error: Could not load molecule.\n",
      "[08:36:08] UFFTYPER: Unrecognized charge state for atom: 17\n"
     ]
    },
    {
     "name": "stdout",
     "output_type": "stream",
     "text": [
      "6hmu\n"
     ]
    },
    {
     "name": "stderr",
     "output_type": "stream",
     "text": [
      "[08:36:11] UFFTYPER: Unrecognized charge state for atom: 17\n",
      "[08:36:12] UFFTYPER: Unrecognized charge state for atom: 17\n",
      "[08:36:13] UFFTYPER: Unrecognized charge state for atom: 17\n",
      "[08:36:14] UFFTYPER: Unrecognized charge state for atom: 17\n",
      "[08:36:15] UFFTYPER: Unrecognized charge state for atom: 17\n",
      "[08:36:15] UFFTYPER: Unrecognized charge state for atom: 17\n",
      "[08:36:16] UFFTYPER: Unrecognized charge state for atom: 17\n",
      "[08:36:17] UFFTYPER: Unrecognized charge state for atom: 17\n",
      "[08:36:18] UFFTYPER: Unrecognized charge state for atom: 17\n"
     ]
    },
    {
     "name": "stdout",
     "output_type": "stream",
     "text": [
      "5p9m\n",
      "5j9z\n",
      "2xyp\n",
      "6vgy\n",
      "2xyg\n",
      "5ac0\n",
      "3sn8\n",
      "not all poses were predicted for 3sn8, moving to next\n",
      "1ghm\n"
     ]
    },
    {
     "name": "stderr",
     "output_type": "stream",
     "text": [
      "[08:38:03] UFFTYPER: Unrecognized charge state for atom: 5\n"
     ]
    },
    {
     "name": "stdout",
     "output_type": "stream",
     "text": [
      "3orz\n"
     ]
    },
    {
     "name": "stderr",
     "output_type": "stream",
     "text": [
      "[08:38:06] UFFTYPER: Unrecognized charge state for atom: 5\n",
      "[08:38:06] UFFTYPER: Unrecognized charge state for atom: 5\n",
      "[08:38:07] UFFTYPER: Unrecognized charge state for atom: 5\n",
      "[08:38:08] UFFTYPER: Unrecognized charge state for atom: 5\n",
      "[08:38:09] UFFTYPER: Unrecognized charge state for atom: 5\n",
      "[08:38:10] UFFTYPER: Unrecognized charge state for atom: 5\n",
      "[08:38:11] UFFTYPER: Unrecognized charge state for atom: 5\n",
      "[08:38:12] UFFTYPER: Unrecognized charge state for atom: 5\n",
      "[08:38:13] UFFTYPER: Unrecognized charge state for atom: 5\n",
      "[08:38:14] UFFTYPER: Unrecognized charge state for atom: 5\n"
     ]
    },
    {
     "name": "stdout",
     "output_type": "stream",
     "text": [
      "5maj\n"
     ]
    },
    {
     "name": "stderr",
     "output_type": "stream",
     "text": [
      "[08:38:15] UFFTYPER: Unrecognized charge state for atom: 5\n",
      "[08:38:15] UFFTYPER: Unrecognized charge state for atom: 5\n",
      "[08:38:16] UFFTYPER: Unrecognized charge state for atom: 5\n",
      "[08:38:17] UFFTYPER: Unrecognized charge state for atom: 5\n",
      "[08:38:17] UFFTYPER: Unrecognized charge state for atom: 5\n",
      "[08:38:18] UFFTYPER: Unrecognized charge state for atom: 5\n",
      "[08:38:19] UFFTYPER: Unrecognized charge state for atom: 5\n",
      "[08:38:20] UFFTYPER: Unrecognized charge state for atom: 5\n",
      "[08:38:20] UFFTYPER: Unrecognized charge state for atom: 5\n",
      "Could not load molecule from /home/ymanasa/turbo/ymanasa/opt/DiffDockL-Cov/data/CSKDE95_datamol_af2/5orl/5orl_processed.pdb with error: Could not load molecule.\n",
      "[08:38:21] WARNING:  Problems/mismatches: Mobile-H( Hydrogens: Locations or number, Number; Mobile-H groups: Attachment points, Number; Charge(s): Do not match; Proton balance: Does not match)\n",
      "\n",
      "[08:38:21] WARNING:  Problems/mismatches: Mobile-H( Hydrogens: Locations or number, Number; Mobile-H groups: Attachment points, Number; Charge(s): Do not match; Proton balance: Does not match)\n",
      "\n",
      "[08:38:21] UFFTYPER: Unrecognized charge state for atom: 11\n"
     ]
    },
    {
     "name": "stdout",
     "output_type": "stream",
     "text": [
      "5orl\n"
     ]
    },
    {
     "name": "stderr",
     "output_type": "stream",
     "text": [
      "Could not load molecule from /home/ymanasa/turbo/ymanasa/opt/DiffDockL-Cov/data/CSKDE95_datamol_af2/5orl/5orl_processed.pdb with error: Could not load molecule.\n",
      "[08:38:22] WARNING:  Problems/mismatches: Mobile-H( Hydrogens: Locations or number, Number; Mobile-H groups: Attachment points, Number; Charge(s): Do not match; Proton balance: Does not match)\n",
      "\n",
      "[08:38:22] WARNING:  Problems/mismatches: Mobile-H( Hydrogens: Locations or number, Number; Mobile-H groups: Attachment points, Number; Charge(s): Do not match; Proton balance: Does not match)\n",
      "\n",
      "[08:38:22] UFFTYPER: Unrecognized charge state for atom: 11\n",
      "Could not load molecule from /home/ymanasa/turbo/ymanasa/opt/DiffDockL-Cov/data/CSKDE95_datamol_af2/5orl/5orl_processed.pdb with error: Could not load molecule.\n",
      "[08:38:22] WARNING:  Problems/mismatches: Mobile-H( Hydrogens: Locations or number, Number; Mobile-H groups: Attachment points, Number; Charge(s): Do not match; Proton balance: Does not match)\n",
      "\n",
      "[08:38:22] WARNING:  Problems/mismatches: Mobile-H( Hydrogens: Locations or number, Number; Mobile-H groups: Attachment points, Number; Charge(s): Do not match; Proton balance: Does not match)\n",
      "\n",
      "[08:38:22] UFFTYPER: Unrecognized charge state for atom: 11\n",
      "Could not load molecule from /home/ymanasa/turbo/ymanasa/opt/DiffDockL-Cov/data/CSKDE95_datamol_af2/5orl/5orl_processed.pdb with error: Could not load molecule.\n",
      "[08:38:22] WARNING:  Problems/mismatches: Mobile-H( Hydrogens: Locations or number, Number; Mobile-H groups: Attachment points, Number; Charge(s): Do not match; Proton balance: Does not match)\n",
      "\n",
      "[08:38:22] WARNING:  Problems/mismatches: Mobile-H( Hydrogens: Locations or number, Number; Mobile-H groups: Attachment points, Number; Charge(s): Do not match; Proton balance: Does not match)\n",
      "\n",
      "[08:38:22] UFFTYPER: Unrecognized charge state for atom: 11\n",
      "Could not load molecule from /home/ymanasa/turbo/ymanasa/opt/DiffDockL-Cov/data/CSKDE95_datamol_af2/5orl/5orl_processed.pdb with error: Could not load molecule.\n",
      "[08:38:22] WARNING:  Problems/mismatches: Mobile-H( Hydrogens: Locations or number, Number; Mobile-H groups: Attachment points, Number; Charge(s): Do not match; Proton balance: Does not match)\n",
      "\n",
      "[08:38:22] WARNING:  Problems/mismatches: Mobile-H( Hydrogens: Locations or number, Number; Mobile-H groups: Attachment points, Number; Charge(s): Do not match; Proton balance: Does not match)\n",
      "\n",
      "[08:38:22] UFFTYPER: Unrecognized charge state for atom: 11\n",
      "Could not load molecule from /home/ymanasa/turbo/ymanasa/opt/DiffDockL-Cov/data/CSKDE95_datamol_af2/5orl/5orl_processed.pdb with error: Could not load molecule.\n",
      "[08:38:23] WARNING:  Problems/mismatches: Mobile-H( Hydrogens: Locations or number, Number; Mobile-H groups: Attachment points, Number; Charge(s): Do not match; Proton balance: Does not match)\n",
      "\n",
      "[08:38:23] WARNING:  Problems/mismatches: Mobile-H( Hydrogens: Locations or number, Number; Mobile-H groups: Attachment points, Number; Charge(s): Do not match; Proton balance: Does not match)\n",
      "\n",
      "[08:38:23] UFFTYPER: Unrecognized charge state for atom: 11\n",
      "Could not load molecule from /home/ymanasa/turbo/ymanasa/opt/DiffDockL-Cov/data/CSKDE95_datamol_af2/5orl/5orl_processed.pdb with error: Could not load molecule.\n",
      "[08:38:23] WARNING:  Problems/mismatches: Mobile-H( Hydrogens: Locations or number, Number; Mobile-H groups: Attachment points, Number; Charge(s): Do not match; Proton balance: Does not match)\n",
      "\n",
      "[08:38:23] WARNING:  Problems/mismatches: Mobile-H( Hydrogens: Locations or number, Number; Mobile-H groups: Attachment points, Number; Charge(s): Do not match; Proton balance: Does not match)\n",
      "\n",
      "[08:38:23] UFFTYPER: Unrecognized charge state for atom: 11\n",
      "Could not load molecule from /home/ymanasa/turbo/ymanasa/opt/DiffDockL-Cov/data/CSKDE95_datamol_af2/5orl/5orl_processed.pdb with error: Could not load molecule.\n",
      "[08:38:23] WARNING:  Problems/mismatches: Mobile-H( Hydrogens: Locations or number, Number; Mobile-H groups: Attachment points, Number; Charge(s): Do not match; Proton balance: Does not match)\n",
      "\n",
      "[08:38:23] WARNING:  Problems/mismatches: Mobile-H( Hydrogens: Locations or number, Number; Mobile-H groups: Attachment points, Number; Charge(s): Do not match; Proton balance: Does not match)\n",
      "\n",
      "[08:38:23] UFFTYPER: Unrecognized charge state for atom: 11\n",
      "Could not load molecule from /home/ymanasa/turbo/ymanasa/opt/DiffDockL-Cov/data/CSKDE95_datamol_af2/5orl/5orl_processed.pdb with error: Could not load molecule.\n",
      "[08:38:23] WARNING:  Problems/mismatches: Mobile-H( Hydrogens: Locations or number, Number; Mobile-H groups: Attachment points, Number; Charge(s): Do not match; Proton balance: Does not match)\n",
      "\n",
      "[08:38:23] WARNING:  Problems/mismatches: Mobile-H( Hydrogens: Locations or number, Number; Mobile-H groups: Attachment points, Number; Charge(s): Do not match; Proton balance: Does not match)\n",
      "\n",
      "[08:38:23] UFFTYPER: Unrecognized charge state for atom: 11\n",
      "Could not load molecule from /home/ymanasa/turbo/ymanasa/opt/DiffDockL-Cov/data/CSKDE95_datamol_af2/5orl/5orl_processed.pdb with error: Could not load molecule.\n",
      "[08:38:23] WARNING:  Problems/mismatches: Mobile-H( Hydrogens: Locations or number, Number; Mobile-H groups: Attachment points, Number; Charge(s): Do not match; Proton balance: Does not match)\n",
      "\n",
      "[08:38:23] WARNING:  Problems/mismatches: Mobile-H( Hydrogens: Locations or number, Number; Mobile-H groups: Attachment points, Number; Charge(s): Do not match; Proton balance: Does not match)\n",
      "\n",
      "[08:38:23] UFFTYPER: Unrecognized charge state for atom: 11\n"
     ]
    },
    {
     "name": "stdout",
     "output_type": "stream",
     "text": [
      "5dzj\n",
      "5qir\n",
      "6puh\n"
     ]
    },
    {
     "name": "stderr",
     "output_type": "stream",
     "text": [
      "[08:38:53] WARNING:  Problems/mismatches: Mobile-H( Mobile-H groups: Attachment points, Number)\n",
      "\n",
      "[08:38:53] WARNING:  Problems/mismatches: Mobile-H( Mobile-H groups: Attachment points, Number)\n",
      "\n"
     ]
    },
    {
     "name": "stdout",
     "output_type": "stream",
     "text": [
      "5u17\n"
     ]
    },
    {
     "name": "stderr",
     "output_type": "stream",
     "text": [
      "[08:38:55] WARNING:  Problems/mismatches: Mobile-H( Mobile-H groups: Attachment points, Number)\n",
      "\n",
      "[08:38:55] WARNING:  Problems/mismatches: Mobile-H( Mobile-H groups: Attachment points, Number)\n",
      "\n",
      "[08:38:55] WARNING:  Problems/mismatches: Mobile-H( Mobile-H groups: Attachment points, Number)\n",
      "\n",
      "[08:38:55] WARNING:  Problems/mismatches: Mobile-H( Mobile-H groups: Attachment points, Number)\n",
      "\n",
      "[08:38:56] WARNING:  Problems/mismatches: Mobile-H( Mobile-H groups: Attachment points, Number)\n",
      "\n",
      "[08:38:56] WARNING:  Problems/mismatches: Mobile-H( Mobile-H groups: Attachment points, Number)\n",
      "\n",
      "[08:38:57] WARNING:  Problems/mismatches: Mobile-H( Mobile-H groups: Attachment points, Number)\n",
      "\n",
      "[08:38:57] WARNING:  Problems/mismatches: Mobile-H( Mobile-H groups: Attachment points, Number)\n",
      "\n",
      "[08:38:57] WARNING:  Problems/mismatches: Mobile-H( Mobile-H groups: Attachment points, Number)\n",
      "\n",
      "[08:38:57] WARNING:  Problems/mismatches: Mobile-H( Mobile-H groups: Attachment points, Number)\n",
      "\n",
      "[08:38:58] WARNING:  Problems/mismatches: Mobile-H( Mobile-H groups: Attachment points, Number)\n",
      "\n",
      "[08:38:58] WARNING:  Problems/mismatches: Mobile-H( Mobile-H groups: Attachment points, Number)\n",
      "\n",
      "[08:38:59] WARNING:  Problems/mismatches: Mobile-H( Mobile-H groups: Attachment points, Number)\n",
      "\n",
      "[08:38:59] WARNING:  Problems/mismatches: Mobile-H( Mobile-H groups: Attachment points, Number)\n",
      "\n",
      "[08:38:59] WARNING:  Problems/mismatches: Mobile-H( Mobile-H groups: Attachment points, Number)\n",
      "\n",
      "[08:38:59] WARNING:  Problems/mismatches: Mobile-H( Mobile-H groups: Attachment points, Number)\n",
      "\n",
      "[08:39:00] WARNING:  Problems/mismatches: Mobile-H( Mobile-H groups: Attachment points, Number)\n",
      "\n",
      "[08:39:00] WARNING:  Problems/mismatches: Mobile-H( Mobile-H groups: Attachment points, Number)\n",
      "\n",
      "[08:39:00] WARNING:  Problems/mismatches: Mobile-H( Hydrogens: Locations or number, Number; Charge(s): Do not match; Proton balance: Does not match)\n",
      "\n",
      "[08:39:00] WARNING:  Problems/mismatches: Mobile-H( Hydrogens: Locations or number, Number; Charge(s): Do not match; Proton balance: Does not match)\n",
      "\n"
     ]
    },
    {
     "name": "stdout",
     "output_type": "stream",
     "text": [
      "3hhi\n",
      "not all poses were predicted for 3hhi, moving to next\n",
      "3h0e\n"
     ]
    },
    {
     "name": "stderr",
     "output_type": "stream",
     "text": [
      "[08:39:08] WARNING:  Problems/mismatches: Mobile-H( Hydrogens: Locations or number, Number; Charge(s): Do not match; Proton balance: Does not match)\n",
      "\n",
      "[08:39:08] WARNING:  Problems/mismatches: Mobile-H( Hydrogens: Locations or number, Number; Charge(s): Do not match; Proton balance: Does not match)\n",
      "\n",
      "[08:39:09] WARNING:  Problems/mismatches: Mobile-H( Hydrogens: Locations or number, Number; Charge(s): Do not match; Proton balance: Does not match)\n",
      "\n",
      "[08:39:09] WARNING:  Problems/mismatches: Mobile-H( Hydrogens: Locations or number, Number; Charge(s): Do not match; Proton balance: Does not match)\n",
      "\n",
      "[08:39:10] WARNING:  Problems/mismatches: Mobile-H( Hydrogens: Locations or number, Number; Charge(s): Do not match; Proton balance: Does not match)\n",
      "\n",
      "[08:39:10] WARNING:  Problems/mismatches: Mobile-H( Hydrogens: Locations or number, Number; Charge(s): Do not match; Proton balance: Does not match)\n",
      "\n",
      "[08:39:11] WARNING:  Problems/mismatches: Mobile-H( Hydrogens: Locations or number, Number; Charge(s): Do not match; Proton balance: Does not match)\n",
      "\n",
      "[08:39:11] WARNING:  Problems/mismatches: Mobile-H( Hydrogens: Locations or number, Number; Charge(s): Do not match; Proton balance: Does not match)\n",
      "\n",
      "[08:39:12] WARNING:  Problems/mismatches: Mobile-H( Hydrogens: Locations or number, Number; Charge(s): Do not match; Proton balance: Does not match)\n",
      "\n",
      "[08:39:12] WARNING:  Problems/mismatches: Mobile-H( Hydrogens: Locations or number, Number; Charge(s): Do not match; Proton balance: Does not match)\n",
      "\n",
      "[08:39:13] WARNING:  Problems/mismatches: Mobile-H( Hydrogens: Locations or number, Number; Charge(s): Do not match; Proton balance: Does not match)\n",
      "\n",
      "[08:39:13] WARNING:  Problems/mismatches: Mobile-H( Hydrogens: Locations or number, Number; Charge(s): Do not match; Proton balance: Does not match)\n",
      "\n",
      "[08:39:14] WARNING:  Problems/mismatches: Mobile-H( Hydrogens: Locations or number, Number; Charge(s): Do not match; Proton balance: Does not match)\n",
      "\n",
      "[08:39:14] WARNING:  Problems/mismatches: Mobile-H( Hydrogens: Locations or number, Number; Charge(s): Do not match; Proton balance: Does not match)\n",
      "\n",
      "[08:39:15] WARNING:  Problems/mismatches: Mobile-H( Hydrogens: Locations or number, Number; Charge(s): Do not match; Proton balance: Does not match)\n",
      "\n",
      "[08:39:15] WARNING:  Problems/mismatches: Mobile-H( Hydrogens: Locations or number, Number; Charge(s): Do not match; Proton balance: Does not match)\n",
      "\n",
      "[08:39:16] WARNING:  Problems/mismatches: Mobile-H( Hydrogens: Locations or number, Number; Charge(s): Do not match; Proton balance: Does not match)\n",
      "\n",
      "[08:39:16] WARNING:  Problems/mismatches: Mobile-H( Hydrogens: Locations or number, Number; Charge(s): Do not match; Proton balance: Does not match)\n",
      "\n"
     ]
    },
    {
     "name": "stdout",
     "output_type": "stream",
     "text": [
      "5qh8\n",
      "4cde\n",
      "5xhr\n",
      "not all poses were predicted for 5xhr, moving to next\n",
      "2g8e\n",
      "not all poses were predicted for 2g8e, moving to next\n",
      "3q7z\n",
      "not all poses were predicted for 3q7z, moving to next\n",
      "3ovx\n",
      "4an1\n"
     ]
    },
    {
     "name": "stderr",
     "output_type": "stream",
     "text": [
      "Could not load molecule from /home/ymanasa/turbo/ymanasa/opt/DiffDockL-Cov/data/CSKDE95_datamol_af2/3zmh/3zmh_processed.pdb with error: Could not load molecule.\n"
     ]
    },
    {
     "name": "stdout",
     "output_type": "stream",
     "text": [
      "3zmh\n"
     ]
    },
    {
     "name": "stderr",
     "output_type": "stream",
     "text": [
      "Could not load molecule from /home/ymanasa/turbo/ymanasa/opt/DiffDockL-Cov/data/CSKDE95_datamol_af2/3zmh/3zmh_processed.pdb with error: Could not load molecule.\n",
      "Could not load molecule from /home/ymanasa/turbo/ymanasa/opt/DiffDockL-Cov/data/CSKDE95_datamol_af2/3zmh/3zmh_processed.pdb with error: Could not load molecule.\n",
      "Could not load molecule from /home/ymanasa/turbo/ymanasa/opt/DiffDockL-Cov/data/CSKDE95_datamol_af2/3zmh/3zmh_processed.pdb with error: Could not load molecule.\n",
      "Could not load molecule from /home/ymanasa/turbo/ymanasa/opt/DiffDockL-Cov/data/CSKDE95_datamol_af2/3zmh/3zmh_processed.pdb with error: Could not load molecule.\n",
      "Could not load molecule from /home/ymanasa/turbo/ymanasa/opt/DiffDockL-Cov/data/CSKDE95_datamol_af2/3zmh/3zmh_processed.pdb with error: Could not load molecule.\n",
      "Could not load molecule from /home/ymanasa/turbo/ymanasa/opt/DiffDockL-Cov/data/CSKDE95_datamol_af2/3zmh/3zmh_processed.pdb with error: Could not load molecule.\n",
      "Could not load molecule from /home/ymanasa/turbo/ymanasa/opt/DiffDockL-Cov/data/CSKDE95_datamol_af2/3zmh/3zmh_processed.pdb with error: Could not load molecule.\n",
      "Could not load molecule from /home/ymanasa/turbo/ymanasa/opt/DiffDockL-Cov/data/CSKDE95_datamol_af2/3zmh/3zmh_processed.pdb with error: Could not load molecule.\n",
      "Could not load molecule from /home/ymanasa/turbo/ymanasa/opt/DiffDockL-Cov/data/CSKDE95_datamol_af2/3zmh/3zmh_processed.pdb with error: Could not load molecule.\n"
     ]
    },
    {
     "name": "stdout",
     "output_type": "stream",
     "text": [
      "5d11\n",
      "6yq2\n",
      "6iuo\n",
      "not all poses were predicted for 6iuo, moving to next\n",
      "4amz\n"
     ]
    },
    {
     "name": "stderr",
     "output_type": "stream",
     "text": [
      "Could not load molecule from /home/ymanasa/turbo/ymanasa/opt/DiffDockL-Cov/data/CSKDE95_datamol_af2/5l6p/5l6p_processed.pdb with error: Could not load molecule.\n"
     ]
    },
    {
     "name": "stdout",
     "output_type": "stream",
     "text": [
      "5l6p\n"
     ]
    },
    {
     "name": "stderr",
     "output_type": "stream",
     "text": [
      "Could not load molecule from /home/ymanasa/turbo/ymanasa/opt/DiffDockL-Cov/data/CSKDE95_datamol_af2/5l6p/5l6p_processed.pdb with error: Could not load molecule.\n",
      "Could not load molecule from /home/ymanasa/turbo/ymanasa/opt/DiffDockL-Cov/data/CSKDE95_datamol_af2/5l6p/5l6p_processed.pdb with error: Could not load molecule.\n",
      "Could not load molecule from /home/ymanasa/turbo/ymanasa/opt/DiffDockL-Cov/data/CSKDE95_datamol_af2/5l6p/5l6p_processed.pdb with error: Could not load molecule.\n",
      "Could not load molecule from /home/ymanasa/turbo/ymanasa/opt/DiffDockL-Cov/data/CSKDE95_datamol_af2/5l6p/5l6p_processed.pdb with error: Could not load molecule.\n",
      "Could not load molecule from /home/ymanasa/turbo/ymanasa/opt/DiffDockL-Cov/data/CSKDE95_datamol_af2/5l6p/5l6p_processed.pdb with error: Could not load molecule.\n",
      "Could not load molecule from /home/ymanasa/turbo/ymanasa/opt/DiffDockL-Cov/data/CSKDE95_datamol_af2/5l6p/5l6p_processed.pdb with error: Could not load molecule.\n",
      "Could not load molecule from /home/ymanasa/turbo/ymanasa/opt/DiffDockL-Cov/data/CSKDE95_datamol_af2/5l6p/5l6p_processed.pdb with error: Could not load molecule.\n",
      "Could not load molecule from /home/ymanasa/turbo/ymanasa/opt/DiffDockL-Cov/data/CSKDE95_datamol_af2/5l6p/5l6p_processed.pdb with error: Could not load molecule.\n",
      "Could not load molecule from /home/ymanasa/turbo/ymanasa/opt/DiffDockL-Cov/data/CSKDE95_datamol_af2/5l6p/5l6p_processed.pdb with error: Could not load molecule.\n"
     ]
    },
    {
     "name": "stdout",
     "output_type": "stream",
     "text": [
      "1ewl\n",
      "not all poses were predicted for 1ewl, moving to next\n",
      "2z9w\n",
      "6ezp\n",
      "2q9m\n"
     ]
    },
    {
     "name": "stderr",
     "output_type": "stream",
     "text": [
      "[08:41:34] UFFTYPER: Unrecognized charge state for atom: 5\n"
     ]
    },
    {
     "name": "stdout",
     "output_type": "stream",
     "text": [
      "3m2z\n"
     ]
    },
    {
     "name": "stderr",
     "output_type": "stream",
     "text": [
      "[08:41:35] UFFTYPER: Unrecognized charge state for atom: 5\n",
      "[08:41:35] UFFTYPER: Unrecognized charge state for atom: 5\n",
      "[08:41:36] UFFTYPER: Unrecognized charge state for atom: 5\n",
      "[08:41:36] UFFTYPER: Unrecognized charge state for atom: 5\n",
      "[08:41:37] UFFTYPER: Unrecognized charge state for atom: 5\n",
      "[08:41:37] UFFTYPER: Unrecognized charge state for atom: 5\n",
      "[08:41:37] UFFTYPER: Unrecognized charge state for atom: 5\n",
      "[08:41:38] UFFTYPER: Unrecognized charge state for atom: 5\n",
      "[08:41:38] UFFTYPER: Unrecognized charge state for atom: 5\n",
      "[08:41:39] WARNING:  Problems/mismatches: Mobile-H( Hydrogens: Locations or number; Mobile-H groups: One instead of multiple, Attachment points, Number)\n",
      "\n",
      "[08:41:39] WARNING:  Problems/mismatches: Mobile-H( Hydrogens: Locations or number; Mobile-H groups: One instead of multiple, Attachment points, Number)\n",
      "\n"
     ]
    },
    {
     "name": "stdout",
     "output_type": "stream",
     "text": [
      "5mjb\n"
     ]
    },
    {
     "name": "stderr",
     "output_type": "stream",
     "text": [
      "[08:41:42] WARNING:  Problems/mismatches: Mobile-H( Hydrogens: Locations or number; Mobile-H groups: One instead of multiple, Attachment points, Number)\n",
      "\n",
      "[08:41:42] WARNING:  Problems/mismatches: Mobile-H( Hydrogens: Locations or number; Mobile-H groups: One instead of multiple, Attachment points, Number)\n",
      "\n",
      "[08:41:43] WARNING:  Problems/mismatches: Mobile-H( Hydrogens: Locations or number; Mobile-H groups: One instead of multiple, Attachment points, Number)\n",
      "\n",
      "[08:41:43] WARNING:  Problems/mismatches: Mobile-H( Hydrogens: Locations or number; Mobile-H groups: One instead of multiple, Attachment points, Number)\n",
      "\n",
      "[08:41:44] WARNING:  Problems/mismatches: Mobile-H( Hydrogens: Locations or number; Mobile-H groups: One instead of multiple, Attachment points, Number)\n",
      "\n",
      "[08:41:44] WARNING:  Problems/mismatches: Mobile-H( Hydrogens: Locations or number; Mobile-H groups: One instead of multiple, Attachment points, Number)\n",
      "\n",
      "[08:41:45] WARNING:  Problems/mismatches: Mobile-H( Hydrogens: Locations or number; Mobile-H groups: One instead of multiple, Attachment points, Number)\n",
      "\n",
      "[08:41:45] WARNING:  Problems/mismatches: Mobile-H( Hydrogens: Locations or number; Mobile-H groups: One instead of multiple, Attachment points, Number)\n",
      "\n",
      "[08:41:46] WARNING:  Problems/mismatches: Mobile-H( Hydrogens: Locations or number; Mobile-H groups: One instead of multiple, Attachment points, Number)\n",
      "\n",
      "[08:41:46] WARNING:  Problems/mismatches: Mobile-H( Hydrogens: Locations or number; Mobile-H groups: One instead of multiple, Attachment points, Number)\n",
      "\n",
      "[08:41:47] WARNING:  Problems/mismatches: Mobile-H( Hydrogens: Locations or number; Mobile-H groups: One instead of multiple, Attachment points, Number)\n",
      "\n",
      "[08:41:47] WARNING:  Problems/mismatches: Mobile-H( Hydrogens: Locations or number; Mobile-H groups: One instead of multiple, Attachment points, Number)\n",
      "\n",
      "[08:41:48] WARNING:  Problems/mismatches: Mobile-H( Hydrogens: Locations or number; Mobile-H groups: One instead of multiple, Attachment points, Number)\n",
      "\n",
      "[08:41:48] WARNING:  Problems/mismatches: Mobile-H( Hydrogens: Locations or number; Mobile-H groups: One instead of multiple, Attachment points, Number)\n",
      "\n",
      "[08:41:49] WARNING:  Problems/mismatches: Mobile-H( Hydrogens: Locations or number; Mobile-H groups: One instead of multiple, Attachment points, Number)\n",
      "\n",
      "[08:41:49] WARNING:  Problems/mismatches: Mobile-H( Hydrogens: Locations or number; Mobile-H groups: One instead of multiple, Attachment points, Number)\n",
      "\n",
      "[08:41:50] WARNING:  Problems/mismatches: Mobile-H( Hydrogens: Locations or number; Mobile-H groups: One instead of multiple, Attachment points, Number)\n",
      "\n",
      "[08:41:50] WARNING:  Problems/mismatches: Mobile-H( Hydrogens: Locations or number; Mobile-H groups: One instead of multiple, Attachment points, Number)\n",
      "\n"
     ]
    },
    {
     "name": "stdout",
     "output_type": "stream",
     "text": [
      "1xrl\n"
     ]
    },
    {
     "name": "stderr",
     "output_type": "stream",
     "text": [
      "WARNING: Energy ratio module failed to calculate ensemble conformation energy for InChI=1S/C7H3.C3H4NO.C/c1-2-4-6-5(3-1)7(4)6;1-3(5)2-4;/h2-4H;2,5H,1H2;: Failed to generate conformations.\n",
      "WARNING: Energy ratio module failed to calculate ensemble conformation energy for InChI=1S/C7H3.C3H4NO.C/c1-2-4-6-5(3-1)7(4)6;1-3(5)2-4;/h2-4H;2,5H,1H2;: Failed to generate conformations.\n",
      "WARNING: Energy ratio module failed to calculate ensemble conformation energy for InChI=1S/C7H3.C3H4NO.C/c1-2-4-6-5(3-1)7(4)6;1-3(5)2-4;/h2-4H;2,5H,1H2;: Failed to generate conformations.\n",
      "WARNING: Energy ratio module failed to calculate ensemble conformation energy for InChI=1S/C7H3.C3H4NO.C/c1-2-4-6-5(3-1)7(4)6;1-3(5)2-4;/h2-4H;2,5H,1H2;: Failed to generate conformations.\n",
      "WARNING: Energy ratio module failed to calculate ensemble conformation energy for InChI=1S/C7H3.C3H4NO.C/c1-2-4-6-5(3-1)7(4)6;1-3(5)2-4;/h2-4H;2,5H,1H2;: Failed to generate conformations.\n",
      "WARNING: Energy ratio module failed to calculate ensemble conformation energy for InChI=1S/C7H3.C3H4NO.C/c1-2-4-6-5(3-1)7(4)6;1-3(5)2-4;/h2-4H;2,5H,1H2;: Failed to generate conformations.\n",
      "WARNING: Energy ratio module failed to calculate ensemble conformation energy for InChI=1S/C7H3.C3H4NO.C/c1-2-4-6-5(3-1)7(4)6;1-3(5)2-4;/h2-4H;2,5H,1H2;: Failed to generate conformations.\n",
      "WARNING: Energy ratio module failed to calculate ensemble conformation energy for InChI=1S/C7H3.C3H4NO.C/c1-2-4-6-5(3-1)7(4)6;1-3(5)2-4;/h2-4H;2,5H,1H2;: Failed to generate conformations.\n",
      "WARNING: Energy ratio module failed to calculate ensemble conformation energy for InChI=1S/C7H3.C3H4NO.C/c1-2-4-6-5(3-1)7(4)6;1-3(5)2-4;/h2-4H;2,5H,1H2;: Failed to generate conformations.\n",
      "WARNING: Energy ratio module failed to calculate ensemble conformation energy for InChI=1S/C7H3.C3H4NO.C/c1-2-4-6-5(3-1)7(4)6;1-3(5)2-4;/h2-4H;2,5H,1H2;: Failed to generate conformations.\n"
     ]
    },
    {
     "name": "stdout",
     "output_type": "stream",
     "text": [
      "5v6v\n",
      "6j4p\n",
      "not all poses were predicted for 6j4p, moving to next\n",
      "1hv7\n"
     ]
    },
    {
     "name": "stderr",
     "output_type": "stream",
     "text": [
      "[08:42:51] WARNING:  Problems/mismatches: Mobile-H( Hydrogens: Locations or number; Mobile-H groups: Missing, Attachment points)\n",
      "\n",
      "[08:42:51] WARNING:  Problems/mismatches: Mobile-H( Hydrogens: Locations or number; Mobile-H groups: Missing, Attachment points)\n",
      "\n"
     ]
    },
    {
     "name": "stdout",
     "output_type": "stream",
     "text": [
      "3k7f\n",
      "not all poses were predicted for 3k7f, moving to next\n",
      "3t9t\n",
      "not all poses were predicted for 3t9t, moving to next\n",
      "6aff\n"
     ]
    },
    {
     "name": "stderr",
     "output_type": "stream",
     "text": [
      "[08:42:52] WARNING:  Problems/mismatches: Mobile-H( Hydrogens: Locations or number; Mobile-H groups: Missing, Attachment points)\n",
      "\n",
      "[08:42:52] WARNING:  Problems/mismatches: Mobile-H( Hydrogens: Locations or number; Mobile-H groups: Missing, Attachment points)\n",
      "\n",
      "[08:42:53] WARNING:  Problems/mismatches: Mobile-H( Hydrogens: Locations or number; Mobile-H groups: Missing, Attachment points)\n",
      "\n",
      "[08:42:53] WARNING:  Problems/mismatches: Mobile-H( Hydrogens: Locations or number; Mobile-H groups: Missing, Attachment points)\n",
      "\n",
      "[08:42:53] WARNING:  Problems/mismatches: Mobile-H( Hydrogens: Locations or number; Mobile-H groups: Missing, Attachment points)\n",
      "\n",
      "[08:42:53] WARNING:  Problems/mismatches: Mobile-H( Hydrogens: Locations or number; Mobile-H groups: Missing, Attachment points)\n",
      "\n",
      "[08:42:54] WARNING:  Problems/mismatches: Mobile-H( Hydrogens: Locations or number; Mobile-H groups: Missing, Attachment points)\n",
      "\n",
      "[08:42:54] WARNING:  Problems/mismatches: Mobile-H( Hydrogens: Locations or number; Mobile-H groups: Missing, Attachment points)\n",
      "\n",
      "[08:42:54] WARNING:  Problems/mismatches: Mobile-H( Hydrogens: Locations or number; Mobile-H groups: Missing, Attachment points)\n",
      "\n",
      "[08:42:54] WARNING:  Problems/mismatches: Mobile-H( Hydrogens: Locations or number; Mobile-H groups: Missing, Attachment points)\n",
      "\n",
      "[08:42:55] WARNING:  Problems/mismatches: Mobile-H( Hydrogens: Locations or number; Mobile-H groups: Missing, Attachment points)\n",
      "\n",
      "[08:42:55] WARNING:  Problems/mismatches: Mobile-H( Hydrogens: Locations or number; Mobile-H groups: Missing, Attachment points)\n",
      "\n",
      "[08:42:55] WARNING:  Problems/mismatches: Mobile-H( Hydrogens: Locations or number; Mobile-H groups: Missing, Attachment points)\n",
      "\n",
      "[08:42:55] WARNING:  Problems/mismatches: Mobile-H( Hydrogens: Locations or number; Mobile-H groups: Missing, Attachment points)\n",
      "\n",
      "[08:42:56] WARNING:  Problems/mismatches: Mobile-H( Hydrogens: Locations or number; Mobile-H groups: Missing, Attachment points)\n",
      "\n",
      "[08:42:56] WARNING:  Problems/mismatches: Mobile-H( Hydrogens: Locations or number; Mobile-H groups: Missing, Attachment points)\n",
      "\n",
      "[08:42:57] WARNING:  Problems/mismatches: Mobile-H( Hydrogens: Locations or number; Mobile-H groups: Missing, Attachment points)\n",
      "\n",
      "[08:42:57] WARNING:  Problems/mismatches: Mobile-H( Hydrogens: Locations or number; Mobile-H groups: Missing, Attachment points)\n",
      "\n"
     ]
    },
    {
     "name": "stdout",
     "output_type": "stream",
     "text": [
      "4bs5\n",
      "4amy\n"
     ]
    },
    {
     "name": "stderr",
     "output_type": "stream",
     "text": [
      "Could not load molecule from /home/ymanasa/turbo/ymanasa/opt/DiffDockL-Cov/data/CSKDE95_datamol_af2/4cl8/4cl8_processed.pdb with error: Could not load molecule.\n"
     ]
    },
    {
     "name": "stdout",
     "output_type": "stream",
     "text": [
      "1ewm\n",
      "not all poses were predicted for 1ewm, moving to next\n",
      "4cl8\n"
     ]
    },
    {
     "name": "stderr",
     "output_type": "stream",
     "text": [
      "Could not load molecule from /home/ymanasa/turbo/ymanasa/opt/DiffDockL-Cov/data/CSKDE95_datamol_af2/4cl8/4cl8_processed.pdb with error: Could not load molecule.\n",
      "Could not load molecule from /home/ymanasa/turbo/ymanasa/opt/DiffDockL-Cov/data/CSKDE95_datamol_af2/4cl8/4cl8_processed.pdb with error: Could not load molecule.\n",
      "Could not load molecule from /home/ymanasa/turbo/ymanasa/opt/DiffDockL-Cov/data/CSKDE95_datamol_af2/4cl8/4cl8_processed.pdb with error: Could not load molecule.\n",
      "Could not load molecule from /home/ymanasa/turbo/ymanasa/opt/DiffDockL-Cov/data/CSKDE95_datamol_af2/4cl8/4cl8_processed.pdb with error: Could not load molecule.\n",
      "Could not load molecule from /home/ymanasa/turbo/ymanasa/opt/DiffDockL-Cov/data/CSKDE95_datamol_af2/4cl8/4cl8_processed.pdb with error: Could not load molecule.\n",
      "Could not load molecule from /home/ymanasa/turbo/ymanasa/opt/DiffDockL-Cov/data/CSKDE95_datamol_af2/4cl8/4cl8_processed.pdb with error: Could not load molecule.\n",
      "Could not load molecule from /home/ymanasa/turbo/ymanasa/opt/DiffDockL-Cov/data/CSKDE95_datamol_af2/4cl8/4cl8_processed.pdb with error: Could not load molecule.\n",
      "Could not load molecule from /home/ymanasa/turbo/ymanasa/opt/DiffDockL-Cov/data/CSKDE95_datamol_af2/4cl8/4cl8_processed.pdb with error: Could not load molecule.\n",
      "Could not load molecule from /home/ymanasa/turbo/ymanasa/opt/DiffDockL-Cov/data/CSKDE95_datamol_af2/4cl8/4cl8_processed.pdb with error: Could not load molecule.\n",
      "[08:43:43] ERROR: *Conversion failed*\n",
      "\n"
     ]
    },
    {
     "name": "stdout",
     "output_type": "stream",
     "text": [
      "6wp8\n"
     ]
    },
    {
     "name": "stderr",
     "output_type": "stream",
     "text": [
      "[08:43:47] ERROR: *Conversion failed*\n",
      "\n",
      "[08:43:48] ERROR: *Conversion failed*\n",
      "\n",
      "[08:43:49] ERROR: *Conversion failed*\n",
      "\n",
      "[08:43:50] ERROR: *Conversion failed*\n",
      "\n",
      "[08:43:50] ERROR: *Conversion failed*\n",
      "\n",
      "[08:43:50] ERROR: *Conversion failed*\n",
      "\n",
      "[08:43:51] ERROR: *Conversion failed*\n",
      "\n",
      "[08:43:52] ERROR: *Conversion failed*\n",
      "\n",
      "[08:43:52] ERROR: *Conversion failed*\n",
      "\n",
      "[08:43:53] ERROR: *Conversion failed*\n",
      "\n",
      "[08:43:53] ERROR: *Conversion failed*\n",
      "\n",
      "[08:43:53] ERROR: *Conversion failed*\n",
      "\n"
     ]
    },
    {
     "name": "stdout",
     "output_type": "stream",
     "text": [
      "5ty2\n",
      "not all poses were predicted for 5ty2, moving to next\n",
      "5o3y\n",
      "3oj8\n"
     ]
    },
    {
     "name": "stderr",
     "output_type": "stream",
     "text": [
      "[08:44:28] WARNING:  Problems/mismatches: Mobile-H( Hydrogens: Locations or number, Number; Charge(s): Do not match; Proton balance: Does not match)\n",
      "\n",
      "[08:44:28] WARNING:  Problems/mismatches: Mobile-H( Hydrogens: Locations or number, Number; Charge(s): Do not match; Proton balance: Does not match)\n",
      "\n"
     ]
    },
    {
     "name": "stdout",
     "output_type": "stream",
     "text": [
      "3kwb\n"
     ]
    },
    {
     "name": "stderr",
     "output_type": "stream",
     "text": [
      "[08:44:32] WARNING:  Problems/mismatches: Mobile-H( Hydrogens: Locations or number, Number; Charge(s): Do not match; Proton balance: Does not match)\n",
      "\n",
      "[08:44:32] WARNING:  Problems/mismatches: Mobile-H( Hydrogens: Locations or number, Number; Charge(s): Do not match; Proton balance: Does not match)\n",
      "\n",
      "[08:44:33] WARNING:  Problems/mismatches: Mobile-H( Hydrogens: Locations or number, Number; Charge(s): Do not match; Proton balance: Does not match)\n",
      "\n",
      "[08:44:33] WARNING:  Problems/mismatches: Mobile-H( Hydrogens: Locations or number, Number; Charge(s): Do not match; Proton balance: Does not match)\n",
      "\n",
      "[08:44:34] WARNING:  Problems/mismatches: Mobile-H( Hydrogens: Locations or number, Number; Charge(s): Do not match; Proton balance: Does not match)\n",
      "\n",
      "[08:44:34] WARNING:  Problems/mismatches: Mobile-H( Hydrogens: Locations or number, Number; Charge(s): Do not match; Proton balance: Does not match)\n",
      "\n",
      "[08:44:35] WARNING:  Problems/mismatches: Mobile-H( Hydrogens: Locations or number, Number; Charge(s): Do not match; Proton balance: Does not match)\n",
      "\n",
      "[08:44:35] WARNING:  Problems/mismatches: Mobile-H( Hydrogens: Locations or number, Number; Charge(s): Do not match; Proton balance: Does not match)\n",
      "\n",
      "[08:44:36] WARNING:  Problems/mismatches: Mobile-H( Hydrogens: Locations or number, Number; Charge(s): Do not match; Proton balance: Does not match)\n",
      "\n",
      "[08:44:36] WARNING:  Problems/mismatches: Mobile-H( Hydrogens: Locations or number, Number; Charge(s): Do not match; Proton balance: Does not match)\n",
      "\n",
      "[08:44:37] WARNING:  Problems/mismatches: Mobile-H( Hydrogens: Locations or number, Number; Charge(s): Do not match; Proton balance: Does not match)\n",
      "\n",
      "[08:44:37] WARNING:  Problems/mismatches: Mobile-H( Hydrogens: Locations or number, Number; Charge(s): Do not match; Proton balance: Does not match)\n",
      "\n",
      "[08:44:37] WARNING:  Problems/mismatches: Mobile-H( Hydrogens: Locations or number, Number; Charge(s): Do not match; Proton balance: Does not match)\n",
      "\n",
      "[08:44:37] WARNING:  Problems/mismatches: Mobile-H( Hydrogens: Locations or number, Number; Charge(s): Do not match; Proton balance: Does not match)\n",
      "\n",
      "[08:44:38] WARNING:  Problems/mismatches: Mobile-H( Hydrogens: Locations or number, Number; Charge(s): Do not match; Proton balance: Does not match)\n",
      "\n",
      "[08:44:38] WARNING:  Problems/mismatches: Mobile-H( Hydrogens: Locations or number, Number; Charge(s): Do not match; Proton balance: Does not match)\n",
      "\n",
      "[08:44:39] WARNING:  Problems/mismatches: Mobile-H( Hydrogens: Locations or number, Number; Charge(s): Do not match; Proton balance: Does not match)\n",
      "\n",
      "[08:44:39] WARNING:  Problems/mismatches: Mobile-H( Hydrogens: Locations or number, Number; Charge(s): Do not match; Proton balance: Does not match)\n",
      "\n",
      "Could not load molecule from /home/ymanasa/turbo/ymanasa/opt/DiffDockL-Cov/data/CSKDE95_datamol_af2/5ac2/5ac2_processed.pdb with error: Could not load molecule.\n"
     ]
    },
    {
     "name": "stdout",
     "output_type": "stream",
     "text": [
      "5ac2\n"
     ]
    },
    {
     "name": "stderr",
     "output_type": "stream",
     "text": [
      "Could not load molecule from /home/ymanasa/turbo/ymanasa/opt/DiffDockL-Cov/data/CSKDE95_datamol_af2/5ac2/5ac2_processed.pdb with error: Could not load molecule.\n",
      "Could not load molecule from /home/ymanasa/turbo/ymanasa/opt/DiffDockL-Cov/data/CSKDE95_datamol_af2/5ac2/5ac2_processed.pdb with error: Could not load molecule.\n",
      "Could not load molecule from /home/ymanasa/turbo/ymanasa/opt/DiffDockL-Cov/data/CSKDE95_datamol_af2/5ac2/5ac2_processed.pdb with error: Could not load molecule.\n",
      "Could not load molecule from /home/ymanasa/turbo/ymanasa/opt/DiffDockL-Cov/data/CSKDE95_datamol_af2/5ac2/5ac2_processed.pdb with error: Could not load molecule.\n",
      "Could not load molecule from /home/ymanasa/turbo/ymanasa/opt/DiffDockL-Cov/data/CSKDE95_datamol_af2/5ac2/5ac2_processed.pdb with error: Could not load molecule.\n",
      "Could not load molecule from /home/ymanasa/turbo/ymanasa/opt/DiffDockL-Cov/data/CSKDE95_datamol_af2/5ac2/5ac2_processed.pdb with error: Could not load molecule.\n",
      "Could not load molecule from /home/ymanasa/turbo/ymanasa/opt/DiffDockL-Cov/data/CSKDE95_datamol_af2/5ac2/5ac2_processed.pdb with error: Could not load molecule.\n",
      "Could not load molecule from /home/ymanasa/turbo/ymanasa/opt/DiffDockL-Cov/data/CSKDE95_datamol_af2/5ac2/5ac2_processed.pdb with error: Could not load molecule.\n",
      "Could not load molecule from /home/ymanasa/turbo/ymanasa/opt/DiffDockL-Cov/data/CSKDE95_datamol_af2/5ac2/5ac2_processed.pdb with error: Could not load molecule.\n",
      "[08:44:42] WARNING:  Problems/mismatches: Mobile-H( Hydrogens: Number; Mobile-H groups: One instead of multiple, Attachment points, Number; Charge(s): Do not match; Proton balance: Does not match)\n",
      "\n",
      "[08:44:42] WARNING:  Problems/mismatches: Mobile-H( Hydrogens: Number; Mobile-H groups: One instead of multiple, Attachment points, Number; Charge(s): Do not match; Proton balance: Does not match)\n",
      "\n"
     ]
    },
    {
     "name": "stdout",
     "output_type": "stream",
     "text": [
      "1zpb\n"
     ]
    },
    {
     "name": "stderr",
     "output_type": "stream",
     "text": [
      "[08:44:51] WARNING:  Problems/mismatches: Mobile-H( Hydrogens: Number; Mobile-H groups: One instead of multiple, Attachment points, Number; Charge(s): Do not match; Proton balance: Does not match)\n",
      "\n",
      "[08:44:51] WARNING:  Problems/mismatches: Mobile-H( Hydrogens: Number; Mobile-H groups: One instead of multiple, Attachment points, Number; Charge(s): Do not match; Proton balance: Does not match)\n",
      "\n",
      "[08:44:52] WARNING:  Problems/mismatches: Mobile-H( Hydrogens: Number; Mobile-H groups: One instead of multiple, Attachment points, Number; Charge(s): Do not match; Proton balance: Does not match)\n",
      "\n",
      "[08:44:52] WARNING:  Problems/mismatches: Mobile-H( Hydrogens: Number; Mobile-H groups: One instead of multiple, Attachment points, Number; Charge(s): Do not match; Proton balance: Does not match)\n",
      "\n",
      "[08:44:53] WARNING:  Problems/mismatches: Mobile-H( Hydrogens: Number; Mobile-H groups: One instead of multiple, Attachment points, Number; Charge(s): Do not match; Proton balance: Does not match)\n",
      "\n",
      "[08:44:53] WARNING:  Problems/mismatches: Mobile-H( Hydrogens: Number; Mobile-H groups: One instead of multiple, Attachment points, Number; Charge(s): Do not match; Proton balance: Does not match)\n",
      "\n",
      "[08:44:54] WARNING:  Problems/mismatches: Mobile-H( Hydrogens: Number; Mobile-H groups: One instead of multiple, Attachment points, Number; Charge(s): Do not match; Proton balance: Does not match)\n",
      "\n",
      "[08:44:54] WARNING:  Problems/mismatches: Mobile-H( Hydrogens: Number; Mobile-H groups: One instead of multiple, Attachment points, Number; Charge(s): Do not match; Proton balance: Does not match)\n",
      "\n",
      "[08:44:55] WARNING:  Problems/mismatches: Mobile-H( Hydrogens: Number; Mobile-H groups: One instead of multiple, Attachment points, Number; Charge(s): Do not match; Proton balance: Does not match)\n",
      "\n",
      "[08:44:55] WARNING:  Problems/mismatches: Mobile-H( Hydrogens: Number; Mobile-H groups: One instead of multiple, Attachment points, Number; Charge(s): Do not match; Proton balance: Does not match)\n",
      "\n",
      "[08:44:56] WARNING:  Problems/mismatches: Mobile-H( Hydrogens: Number; Mobile-H groups: One instead of multiple, Attachment points, Number; Charge(s): Do not match; Proton balance: Does not match)\n",
      "\n",
      "[08:44:56] WARNING:  Problems/mismatches: Mobile-H( Hydrogens: Number; Mobile-H groups: One instead of multiple, Attachment points, Number; Charge(s): Do not match; Proton balance: Does not match)\n",
      "\n",
      "[08:44:58] WARNING:  Problems/mismatches: Mobile-H( Hydrogens: Number; Mobile-H groups: One instead of multiple, Attachment points, Number; Charge(s): Do not match; Proton balance: Does not match)\n",
      "\n",
      "[08:44:58] WARNING:  Problems/mismatches: Mobile-H( Hydrogens: Number; Mobile-H groups: One instead of multiple, Attachment points, Number; Charge(s): Do not match; Proton balance: Does not match)\n",
      "\n",
      "[08:44:59] WARNING:  Problems/mismatches: Mobile-H( Hydrogens: Number; Mobile-H groups: One instead of multiple, Attachment points, Number; Charge(s): Do not match; Proton balance: Does not match)\n",
      "\n",
      "[08:44:59] WARNING:  Problems/mismatches: Mobile-H( Hydrogens: Number; Mobile-H groups: One instead of multiple, Attachment points, Number; Charge(s): Do not match; Proton balance: Does not match)\n",
      "\n",
      "[08:45:00] WARNING:  Problems/mismatches: Mobile-H( Hydrogens: Number; Mobile-H groups: One instead of multiple, Attachment points, Number; Charge(s): Do not match; Proton balance: Does not match)\n",
      "\n",
      "[08:45:00] WARNING:  Problems/mismatches: Mobile-H( Hydrogens: Number; Mobile-H groups: One instead of multiple, Attachment points, Number; Charge(s): Do not match; Proton balance: Does not match)\n",
      "\n"
     ]
    },
    {
     "name": "stdout",
     "output_type": "stream",
     "text": [
      "6c7z\n",
      "1fj8\n",
      "4wsk\n",
      "6q6l\n",
      "not all poses were predicted for 6q6l, moving to next\n",
      "3mzd\n",
      "not all poses were predicted for 3mzd, moving to next\n",
      "5vnp\n",
      "2op9\n"
     ]
    },
    {
     "name": "stderr",
     "output_type": "stream",
     "text": [
      "[08:46:21] UFFTYPER: Unrecognized atom type: B_ (22)\n"
     ]
    },
    {
     "name": "stdout",
     "output_type": "stream",
     "text": [
      "4lqm\n"
     ]
    },
    {
     "name": "stderr",
     "output_type": "stream",
     "text": [
      "[08:46:24] UFFTYPER: Unrecognized atom type: B_ (22)\n",
      "[08:46:25] UFFTYPER: Unrecognized atom type: B_ (22)\n",
      "[08:46:26] UFFTYPER: Unrecognized atom type: B_ (22)\n",
      "[08:46:27] UFFTYPER: Unrecognized atom type: B_ (22)\n",
      "[08:46:28] UFFTYPER: Unrecognized atom type: B_ (22)\n",
      "[08:46:29] UFFTYPER: Unrecognized atom type: B_ (22)\n",
      "[08:46:30] UFFTYPER: Unrecognized atom type: B_ (22)\n",
      "[08:46:31] UFFTYPER: Unrecognized atom type: B_ (22)\n",
      "[08:46:32] UFFTYPER: Unrecognized atom type: B_ (22)\n"
     ]
    },
    {
     "name": "stdout",
     "output_type": "stream",
     "text": [
      "5uxz\n",
      "2wj1\n"
     ]
    },
    {
     "name": "stderr",
     "output_type": "stream",
     "text": [
      "Could not load molecule from /home/ymanasa/turbo/ymanasa/opt/DiffDockL-Cov/data/CSKDE95_datamol_af2/6hn2/6hn2_processed.pdb with error: Could not load molecule.\n",
      "[08:47:16] UFFTYPER: Unrecognized charge state for atom: 13\n"
     ]
    },
    {
     "name": "stdout",
     "output_type": "stream",
     "text": [
      "3qsd\n",
      "not all poses were predicted for 3qsd, moving to next\n",
      "6hn2\n"
     ]
    },
    {
     "name": "stderr",
     "output_type": "stream",
     "text": [
      "Could not load molecule from /home/ymanasa/turbo/ymanasa/opt/DiffDockL-Cov/data/CSKDE95_datamol_af2/6hn2/6hn2_processed.pdb with error: Could not load molecule.\n",
      "[08:47:16] UFFTYPER: Unrecognized charge state for atom: 13\n",
      "Could not load molecule from /home/ymanasa/turbo/ymanasa/opt/DiffDockL-Cov/data/CSKDE95_datamol_af2/6hn2/6hn2_processed.pdb with error: Could not load molecule.\n",
      "[08:47:17] UFFTYPER: Unrecognized charge state for atom: 13\n",
      "Could not load molecule from /home/ymanasa/turbo/ymanasa/opt/DiffDockL-Cov/data/CSKDE95_datamol_af2/6hn2/6hn2_processed.pdb with error: Could not load molecule.\n",
      "[08:47:17] UFFTYPER: Unrecognized charge state for atom: 13\n",
      "Could not load molecule from /home/ymanasa/turbo/ymanasa/opt/DiffDockL-Cov/data/CSKDE95_datamol_af2/6hn2/6hn2_processed.pdb with error: Could not load molecule.\n",
      "[08:47:17] UFFTYPER: Unrecognized charge state for atom: 13\n",
      "Could not load molecule from /home/ymanasa/turbo/ymanasa/opt/DiffDockL-Cov/data/CSKDE95_datamol_af2/6hn2/6hn2_processed.pdb with error: Could not load molecule.\n",
      "[08:47:17] UFFTYPER: Unrecognized charge state for atom: 13\n",
      "Could not load molecule from /home/ymanasa/turbo/ymanasa/opt/DiffDockL-Cov/data/CSKDE95_datamol_af2/6hn2/6hn2_processed.pdb with error: Could not load molecule.\n",
      "[08:47:17] UFFTYPER: Unrecognized charge state for atom: 13\n",
      "Could not load molecule from /home/ymanasa/turbo/ymanasa/opt/DiffDockL-Cov/data/CSKDE95_datamol_af2/6hn2/6hn2_processed.pdb with error: Could not load molecule.\n",
      "[08:47:17] UFFTYPER: Unrecognized charge state for atom: 13\n",
      "Could not load molecule from /home/ymanasa/turbo/ymanasa/opt/DiffDockL-Cov/data/CSKDE95_datamol_af2/6hn2/6hn2_processed.pdb with error: Could not load molecule.\n",
      "[08:47:18] UFFTYPER: Unrecognized charge state for atom: 13\n",
      "Could not load molecule from /home/ymanasa/turbo/ymanasa/opt/DiffDockL-Cov/data/CSKDE95_datamol_af2/6hn2/6hn2_processed.pdb with error: Could not load molecule.\n",
      "[08:47:18] UFFTYPER: Unrecognized charge state for atom: 13\n"
     ]
    },
    {
     "name": "stdout",
     "output_type": "stream",
     "text": [
      "1td2\n",
      "5e1i\n",
      "3svv\n",
      "4cdf\n",
      "2dw5\n",
      "6eej\n",
      "not all poses were predicted for 6eej, moving to next\n",
      "5d6e\n",
      "4jxg\n",
      "not all poses were predicted for 4jxg, moving to next\n",
      "3pdf\n",
      "5rep\n",
      "1nqc\n",
      "4qgv\n"
     ]
    },
    {
     "name": "stderr",
     "output_type": "stream",
     "text": [
      "[08:49:48] UFFTYPER: Unrecognized charge state for atom: 5\n"
     ]
    },
    {
     "name": "stdout",
     "output_type": "stream",
     "text": [
      "3otu\n"
     ]
    },
    {
     "name": "stderr",
     "output_type": "stream",
     "text": [
      "[08:49:53] UFFTYPER: Unrecognized charge state for atom: 5\n",
      "[08:49:54] UFFTYPER: Unrecognized charge state for atom: 5\n",
      "[08:49:55] UFFTYPER: Unrecognized charge state for atom: 5\n",
      "[08:49:56] UFFTYPER: Unrecognized charge state for atom: 5\n",
      "[08:49:57] UFFTYPER: Unrecognized charge state for atom: 5\n",
      "[08:49:58] UFFTYPER: Unrecognized charge state for atom: 5\n",
      "[08:49:59] UFFTYPER: Unrecognized charge state for atom: 5\n",
      "[08:50:00] UFFTYPER: Unrecognized charge state for atom: 5\n",
      "[08:50:01] UFFTYPER: Unrecognized charge state for atom: 5\n"
     ]
    },
    {
     "name": "stdout",
     "output_type": "stream",
     "text": [
      "6j7b\n",
      "not all poses were predicted for 6j7b, moving to next\n",
      "4x6j\n"
     ]
    }
   ],
   "source": [
    "true_poses = '/home/ymanasa/turbo/ymanasa/opt/DiffDockL-Cov/data/CSKDE95_datamol_af2'\n",
    "pred_poses = '/home/ymanasa/turbo/ymanasa/opt/DiffDockL-Cov/results/cskde95_inference'\n",
    "all_df = make_eval_df(true_poses, pred_poses, pose_bust_cols=pose_bust_cols)"
   ]
  },
  {
   "cell_type": "code",
   "execution_count": null,
   "metadata": {},
   "outputs": [],
   "source": [
    "score_model_metrics = score_model_eval(all_df)"
   ]
  },
  {
   "cell_type": "code",
   "execution_count": null,
   "metadata": {},
   "outputs": [],
   "source": [
    "confidence_model_metrics = confidence_model_eval(all_df)"
   ]
  },
  {
   "cell_type": "code",
   "execution_count": null,
   "metadata": {},
   "outputs": [
    {
     "name": "stdout",
     "output_type": "stream",
     "text": [
      "1.8908935919761511\n",
      "2.3215856519844356\n",
      "5.547063965789069\n"
     ]
    },
    {
     "name": "stderr",
     "output_type": "stream",
     "text": [
      "/tmp/ipykernel_2703483/3145253633.py:8: DeprecationWarning: DataFrameGroupBy.apply operated on the grouping columns. This behavior is deprecated, and in a future version of pandas the grouping columns will be excluded from the operation. Either pass `include_groups=False` to exclude the groupings or explicitly select the grouping columns after groupby to silence this warning.\n",
      "  sorted_df = all_df.groupby('protein', group_keys=False).apply(lambda group: group.sort_values('rank'))\n"
     ]
    }
   ],
   "source": [
    "from scipy.stats import spearmanr\n",
    "\n",
    "count_rank1 = 0 \n",
    "rmsd_check = 2\n",
    "num_gen = 10\n",
    "\n",
    "all_df['protein'] = all_df['molecule'].str.extract(r'^(.*?)_') \n",
    "all_df['rank'] = all_df['molecule'].str.extract(r'rank(\\d+)').astype(int)\n",
    "\n",
    "sorted_df = all_df.groupby('protein', group_keys=False).apply(lambda group: group.sort_values('rank'))\n",
    "group_df = sorted_df.groupby('protein')\n",
    "\n",
    "num_prots= len(group_df.groups)\n",
    "\n",
    "count_rank1 = 0\n",
    "for prot, row_index in group_df.groups.items(): \n",
    "    rank1_rmsd = sorted_df.loc[row_index[0], 'rmsd']\n",
    "    lowest_rmsd = (sorted_df.loc[row_index, 'rmsd']).min()\n",
    "    count_rank1 += (rank1_rmsd == lowest_rmsd)\n",
    "\n",
    "rank1_corrects = count_rank1/num_prots * 100 \n",
    "# look at precision/recall and averages\n"
   ]
  },
  {
   "cell_type": "code",
   "execution_count": 20,
   "metadata": {},
   "outputs": [
    {
     "data": {
      "text/plain": [
       "(10.0, 10.0)"
      ]
     },
     "execution_count": 20,
     "metadata": {},
     "output_type": "execute_result"
    }
   ],
   "source": [
    "top_50, top_10"
   ]
  }
 ],
 "metadata": {
  "kernelspec": {
   "display_name": "posebusters",
   "language": "python",
   "name": "python3"
  },
  "language_info": {
   "codemirror_mode": {
    "name": "ipython",
    "version": 3
   },
   "file_extension": ".py",
   "mimetype": "text/x-python",
   "name": "python",
   "nbconvert_exporter": "python",
   "pygments_lexer": "ipython3",
   "version": "3.10.16"
  }
 },
 "nbformat": 4,
 "nbformat_minor": 2
}
