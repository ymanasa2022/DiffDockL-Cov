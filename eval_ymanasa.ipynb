{
 "cells": [
  {
   "cell_type": "markdown",
   "metadata": {},
   "source": [
    "\n",
    "###### By Manasa Yadavalli \n",
    "###### Jan 2025\n",
    "\n",
    "### Evaluation for CSKDE95 and CovPDB. \n",
    "#### Use ***posebusters*** conda env"
   ]
  },
  {
   "cell_type": "code",
   "execution_count": 1,
   "metadata": {},
   "outputs": [],
   "source": [
    "import glob\n",
    "import os \n",
    "from posebusters import PoseBusters\n",
    "from pathlib import Path\n",
    "import pandas as pd\n",
    "from evaluate_cov import make_eval_df \n",
    "from evaluate_cov import score_model_eval\n",
    "from evaluate_cov import confidence_model_eval"
   ]
  },
  {
   "cell_type": "code",
   "execution_count": 2,
   "metadata": {},
   "outputs": [],
   "source": [
    "pose_bust_cols = ['file',\n",
    " 'molecule',\n",
    " 'mol_pred_loaded',\n",
    " 'mol_true_loaded',\n",
    " 'mol_cond_loaded',\n",
    " 'sanitization',\n",
    " 'inchi_convertible',\n",
    " 'all_atoms_connected',\n",
    " 'molecular_formula',\n",
    " 'molecular_bonds',\n",
    " 'double_bond_stereochemistry',\n",
    " 'tetrahedral_chirality',\n",
    " 'bond_lengths',\n",
    " 'bond_angles',\n",
    " 'internal_steric_clash',\n",
    " 'aromatic_ring_flatness',\n",
    " 'double_bond_flatness',\n",
    " 'internal_energy',\n",
    " 'protein-ligand_maximum_distance',\n",
    " 'minimum_distance_to_protein',\n",
    " 'minimum_distance_to_organic_cofactors',\n",
    " 'minimum_distance_to_inorganic_cofactors',\n",
    " 'minimum_distance_to_waters',\n",
    " 'volume_overlap_with_protein',\n",
    " 'volume_overlap_with_organic_cofactors',\n",
    " 'volume_overlap_with_inorganic_cofactors',\n",
    " 'volume_overlap_with_waters',\n",
    " 'rmsd_≤_2å',\n",
    " 'passes_valence_checks',\n",
    " 'passes_kekulization',\n",
    " 'inchi_crystal_valid',\n",
    " 'inchi_docked_valid',\n",
    " 'inchi_crystal',\n",
    " 'inchi_docked',\n",
    " 'inchi_overall',\n",
    " 'inchi_version',\n",
    " 'stereochemistry_preserved',\n",
    " 'hydrogens',\n",
    " 'net_charge',\n",
    " 'protons',\n",
    " 'stereo_sp3',\n",
    " 'stereo_sp3_inverted',\n",
    " 'stereo_type',\n",
    " 'number_bonds',\n",
    " 'shortest_bond_relative_length',\n",
    " 'longest_bond_relative_length',\n",
    " 'number_short_outlier_bonds',\n",
    " 'number_long_outlier_bonds',\n",
    " 'number_angles',\n",
    " 'most_extreme_relative_angle',\n",
    " 'number_outlier_angles',\n",
    " 'number_noncov_pairs',\n",
    " 'shortest_noncovalent_relative_distance',\n",
    " 'number_clashes',\n",
    " 'number_valid_bonds',\n",
    " 'number_valid_angles',\n",
    " 'number_valid_noncov_pairs',\n",
    " 'number_aromatic_rings_checked',\n",
    " 'number_aromatic_rings_pass',\n",
    " 'aromatic_ring_maximum_distance_from_plane',\n",
    " 'number_double_bonds_checked',\n",
    " 'number_double_bonds_pass',\n",
    " 'double_bond_maximum_distance_from_plane',\n",
    " 'ensemble_avg_energy',\n",
    " 'mol_pred_energy',\n",
    " 'energy_ratio',\n",
    " 'smallest_distance_protein',\n",
    " 'num_pairwise_clashes_protein',\n",
    " 'most_extreme_ligand_atom_id_protein',\n",
    " 'most_extreme_protein_atom_id_protein',\n",
    " 'most_extreme_ligand_element_protein',\n",
    " 'most_extreme_protein_element_protein',\n",
    " 'most_extreme_ligand_vdw_protein',\n",
    " 'most_extreme_protein_vdw_protein',\n",
    " 'most_extreme_sum_radii_protein',\n",
    " 'most_extreme_distance_protein',\n",
    " 'most_extreme_sum_radii_scaled_protein',\n",
    " 'most_extreme_relative_distance_protein',\n",
    " 'most_extreme_clash_protein',\n",
    " 'smallest_distance_organic_cofactors',\n",
    " 'not_too_far_away_organic_cofactors',\n",
    " 'num_pairwise_clashes_organic_cofactors',\n",
    " 'most_extreme_ligand_atom_id_organic_cofactors',\n",
    " 'most_extreme_protein_atom_id_organic_cofactors',\n",
    " 'most_extreme_ligand_element_organic_cofactors',\n",
    " 'most_extreme_protein_element_organic_cofactors',\n",
    " 'most_extreme_ligand_vdw_organic_cofactors',\n",
    " 'most_extreme_protein_vdw_organic_cofactors',\n",
    " 'most_extreme_sum_radii_organic_cofactors',\n",
    " 'most_extreme_distance_organic_cofactors',\n",
    " 'most_extreme_sum_radii_scaled_organic_cofactors',\n",
    " 'most_extreme_relative_distance_organic_cofactors',\n",
    " 'most_extreme_clash_organic_cofactors',\n",
    " 'smallest_distance_inorganic_cofactors',\n",
    " 'not_too_far_away_inorganic_cofactors',\n",
    " 'num_pairwise_clashes_inorganic_cofactors',\n",
    " 'most_extreme_ligand_atom_id_inorganic_cofactors',\n",
    " 'most_extreme_protein_atom_id_inorganic_cofactors',\n",
    " 'most_extreme_ligand_element_inorganic_cofactors',\n",
    " 'most_extreme_protein_element_inorganic_cofactors',\n",
    " 'most_extreme_ligand_vdw_inorganic_cofactors',\n",
    " 'most_extreme_protein_vdw_inorganic_cofactors',\n",
    " 'most_extreme_sum_radii_inorganic_cofactors',\n",
    " 'most_extreme_distance_inorganic_cofactors',\n",
    " 'most_extreme_sum_radii_scaled_inorganic_cofactors',\n",
    " 'most_extreme_relative_distance_inorganic_cofactors',\n",
    " 'most_extreme_clash_inorganic_cofactors',\n",
    " 'smallest_distance_waters',\n",
    " 'not_too_far_away_waters',\n",
    " 'num_pairwise_clashes_waters',\n",
    " 'most_extreme_ligand_atom_id_waters',\n",
    " 'most_extreme_protein_atom_id_waters',\n",
    " 'most_extreme_ligand_element_waters',\n",
    " 'most_extreme_protein_element_waters',\n",
    " 'most_extreme_ligand_vdw_waters',\n",
    " 'most_extreme_protein_vdw_waters',\n",
    " 'most_extreme_sum_radii_waters',\n",
    " 'most_extreme_distance_waters',\n",
    " 'most_extreme_sum_radii_scaled_waters',\n",
    " 'most_extreme_relative_distance_waters',\n",
    " 'most_extreme_clash_waters',\n",
    " 'volume_overlap_protein',\n",
    " 'volume_overlap_organic_cofactors',\n",
    " 'volume_overlap_inorganic_cofactors',\n",
    " 'volume_overlap_waters',\n",
    " 'rmsd',\n",
    " 'kabsch_rmsd',\n",
    " 'centroid_distance']\n"
   ]
  },
  {
   "cell_type": "code",
   "execution_count": null,
   "metadata": {},
   "outputs": [],
   "source": [
    "# eval for working ligands cskde95\n",
    "true_poses = '/home/ymanasa/turbo/ymanasa/opt/DiffDockL-Cov/data/working_pose_bust_cskde'\n",
    "pred_poses = '/home/ymanasa/turbo/ymanasa/opt/DiffDockL-Cov/results/cskde95_inference'\n",
    "\n",
    "all_pose_evals =  make_eval_df(true_poses, pred_poses, pose_bust_cols)"
   ]
  },
  {
   "cell_type": "code",
   "execution_count": 15,
   "metadata": {},
   "outputs": [
    {
     "name": "stderr",
     "output_type": "stream",
     "text": [
      "/tmp/ipykernel_1026200/2694011.py:4: DeprecationWarning: DataFrameGroupBy.apply operated on the grouping columns. This behavior is deprecated, and in a future version of pandas the grouping columns will be excluded from the operation. Either pass `include_groups=False` to exclude the groupings or explicitly select the grouping columns after groupby to silence this warning.\n",
      "  sorted_df = all_pose_evals.groupby('protein', group_keys=False).apply(lambda group: group.sort_values('rmsd'))\n"
     ]
    }
   ],
   "source": [
    "all_pose_evals['protein'] = all_pose_evals['molecule'].str.extract(r'^(.*?)_') \n",
    "all_pose_evals['rank'] = all_pose_evals['molecule'].str.extract(r'rank(\\d+)').astype(int)\n",
    "# sort within proteins based on rmsd of poses generated NOT by rank predicted\n",
    "sorted_df = all_pose_evals.groupby('protein', group_keys=False).apply(lambda group: group.sort_values('rmsd'))\n",
    "group_df = sorted_df.groupby('protein')\n",
    "\n",
    "num_prots= len(group_df.groups)"
   ]
  },
  {
   "cell_type": "code",
   "execution_count": 56,
   "metadata": {},
   "outputs": [
    {
     "name": "stdout",
     "output_type": "stream",
     "text": [
      "median top-1 rmsd: 7.17 \n",
      " std top-1 rmsds: 4.53\n",
      "top1 rmsd < 2A % 18.18\n"
     ]
    }
   ],
   "source": [
    "import numpy as np\n",
    "rmsd_best = np.array([]) # top-1 pose rmsds\n",
    "prots = np.array([])\n",
    "for prot, row_index in group_df.groups.items(): \n",
    "    rmsd_best = np.append(rmsd_best, sorted_df.loc[row_index[0], 'rmsd'])\n",
    "    prots = np.append(prots, prot)\n",
    "\n",
    "# median Top-1 RMSD\n",
    "median_top1 = round(np.mean(rmsd_best), 2)\n",
    "std_top1 = round(np.std(rmsd_best), 2)\n",
    "print('median top-1 rmsd:', median_top1, '\\n', 'std top-1 rmsds:', std_top1)\n",
    "\n",
    "# Top-1 RMSD \n",
    "count = np.sum(rmsd_best < 2)\n",
    "top1_rmsd_perc = round(count/len(rmsd_best) * 100, 2)\n",
    "print('top1 rmsd < 2A %',top1_rmsd_perc)"
   ]
  },
  {
   "cell_type": "code",
   "execution_count": 67,
   "metadata": {},
   "outputs": [
    {
     "name": "stdout",
     "output_type": "stream",
     "text": [
      "prot with min rmsd: 1nqc \n",
      "rmsd: 0.497\n",
      "prot with max rmsd: 6vgy \n",
      "rmsd: 16.919\n"
     ]
    }
   ],
   "source": [
    "prot_rmsd_best = dict(zip(prots, rmsd_best))\n",
    "prot_min_rmsd = min(prot_rmsd_best, key=prot_rmsd_best.get)\n",
    "prot_max_rmsd= max(prot_rmsd_best, key=prot_rmsd_best.get)\n",
    "print('prot with min rmsd:', prot_min_rmsd, '\\nrmsd:', round(prot_rmsd_best[prot_min_rmsd], 3))\n",
    "print('prot with max rmsd:', prot_max_rmsd, '\\nrmsd:', round(prot_rmsd_best[prot_max_rmsd], 3))"
   ]
  },
  {
   "cell_type": "code",
   "execution_count": 9,
   "metadata": {},
   "outputs": [],
   "source": [
    "from rdkit import Chem\n",
    "from posebusters.modules.rmsd import check_rmsd\n",
    "true_lig = '/home/ymanasa/turbo/ymanasa/opt/DiffDockL-Cov/data/CSKDE95_datamol_af2/1nqc/1nqc_ligand.sdf'\n",
    "pose = '/home/ymanasa/turbo/ymanasa/opt/DiffDockL-Cov/results/cskde95_inference/1nqc/rank1.sdf'\n",
    "\n",
    "true_ligand_supplier = Chem.SDMolSupplier(true_lig)\n",
    "predicted_pose_supplier = Chem.SDMolSupplier(pose)\n",
    "\n",
    "mol_true = true_ligand_supplier[0]\n",
    "mol_pred = predicted_pose_supplier[0]"
   ]
  },
  {
   "cell_type": "code",
   "execution_count": 10,
   "metadata": {},
   "outputs": [],
   "source": [
    "rmsd_result = check_rmsd(mol_pred, mol_true, rmsd_threshold=2.0)"
   ]
  },
  {
   "cell_type": "code",
   "execution_count": 15,
   "metadata": {},
   "outputs": [
    {
     "data": {
      "text/plain": [
       "0.4972252727637645"
      ]
     },
     "execution_count": 15,
     "metadata": {},
     "output_type": "execute_result"
    }
   ],
   "source": [
    "rmsd_result['results']['rmsd']"
   ]
  },
  {
   "cell_type": "code",
   "execution_count": 5,
   "metadata": {},
   "outputs": [
    {
     "name": "stderr",
     "output_type": "stream",
     "text": [
      "Could not load molecule from /home/ymanasa/turbo/ymanasa/opt/DiffDockL-Cov/data/CSKDE95/Structures/CSKDE95/5orl/ac/system-pre.pdb with error: Could not load molecule.\n",
      "[10:22:40] WARNING:  Problems/mismatches: Mobile-H( Hydrogens: Locations or number, Number; Mobile-H groups: Attachment points, Number; Charge(s): Do not match; Proton balance: Does not match)\n",
      "\n",
      "[10:22:40] WARNING:  Problems/mismatches: Mobile-H( Hydrogens: Locations or number, Number; Mobile-H groups: Attachment points, Number; Charge(s): Do not match; Proton balance: Does not match)\n",
      "\n",
      "[10:22:40] UFFTYPER: Unrecognized charge state for atom: 11\n"
     ]
    },
    {
     "data": {
      "text/html": [
       "<div>\n",
       "<style scoped>\n",
       "    .dataframe tbody tr th:only-of-type {\n",
       "        vertical-align: middle;\n",
       "    }\n",
       "\n",
       "    .dataframe tbody tr th {\n",
       "        vertical-align: top;\n",
       "    }\n",
       "\n",
       "    .dataframe thead th {\n",
       "        text-align: right;\n",
       "    }\n",
       "</style>\n",
       "<table border=\"1\" class=\"dataframe\">\n",
       "  <thead>\n",
       "    <tr style=\"text-align: right;\">\n",
       "      <th></th>\n",
       "      <th>file</th>\n",
       "      <th>molecule</th>\n",
       "      <th>mol_pred_loaded</th>\n",
       "      <th>mol_true_loaded</th>\n",
       "      <th>mol_cond_loaded</th>\n",
       "      <th>sanitization</th>\n",
       "      <th>inchi_convertible</th>\n",
       "      <th>all_atoms_connected</th>\n",
       "      <th>molecular_formula</th>\n",
       "      <th>molecular_bonds</th>\n",
       "      <th>...</th>\n",
       "      <th>protein-ligand_maximum_distance</th>\n",
       "      <th>minimum_distance_to_protein</th>\n",
       "      <th>minimum_distance_to_organic_cofactors</th>\n",
       "      <th>minimum_distance_to_inorganic_cofactors</th>\n",
       "      <th>minimum_distance_to_waters</th>\n",
       "      <th>volume_overlap_with_protein</th>\n",
       "      <th>volume_overlap_with_organic_cofactors</th>\n",
       "      <th>volume_overlap_with_inorganic_cofactors</th>\n",
       "      <th>volume_overlap_with_waters</th>\n",
       "      <th>rmsd_≤_2å</th>\n",
       "    </tr>\n",
       "  </thead>\n",
       "  <tbody>\n",
       "    <tr>\n",
       "      <th>0</th>\n",
       "      <td>/home/ymanasa/turbo/ymanasa/opt/DiffDockL-Cov/...</td>\n",
       "      <td>mol_at_pos_0</td>\n",
       "      <td>True</td>\n",
       "      <td>True</td>\n",
       "      <td>False</td>\n",
       "      <td>True</td>\n",
       "      <td>True</td>\n",
       "      <td>True</td>\n",
       "      <td>True</td>\n",
       "      <td>True</td>\n",
       "      <td>...</td>\n",
       "      <td>&lt;NA&gt;</td>\n",
       "      <td>&lt;NA&gt;</td>\n",
       "      <td>&lt;NA&gt;</td>\n",
       "      <td>&lt;NA&gt;</td>\n",
       "      <td>&lt;NA&gt;</td>\n",
       "      <td>&lt;NA&gt;</td>\n",
       "      <td>&lt;NA&gt;</td>\n",
       "      <td>&lt;NA&gt;</td>\n",
       "      <td>&lt;NA&gt;</td>\n",
       "      <td>False</td>\n",
       "    </tr>\n",
       "  </tbody>\n",
       "</table>\n",
       "<p>1 rows × 28 columns</p>\n",
       "</div>"
      ],
      "text/plain": [
       "                                                file      molecule  \\\n",
       "0  /home/ymanasa/turbo/ymanasa/opt/DiffDockL-Cov/...  mol_at_pos_0   \n",
       "\n",
       "   mol_pred_loaded  mol_true_loaded  mol_cond_loaded  sanitization  \\\n",
       "0             True             True            False          True   \n",
       "\n",
       "   inchi_convertible  all_atoms_connected  molecular_formula  molecular_bonds  \\\n",
       "0               True                 True               True             True   \n",
       "\n",
       "   ...  protein-ligand_maximum_distance  minimum_distance_to_protein  \\\n",
       "0  ...                             <NA>                         <NA>   \n",
       "\n",
       "   minimum_distance_to_organic_cofactors  \\\n",
       "0                                   <NA>   \n",
       "\n",
       "   minimum_distance_to_inorganic_cofactors  minimum_distance_to_waters  \\\n",
       "0                                     <NA>                        <NA>   \n",
       "\n",
       "   volume_overlap_with_protein  volume_overlap_with_organic_cofactors  \\\n",
       "0                         <NA>                                   <NA>   \n",
       "\n",
       "   volume_overlap_with_inorganic_cofactors volume_overlap_with_waters  \\\n",
       "0                                     <NA>                       <NA>   \n",
       "\n",
       "  rmsd_≤_2å  \n",
       "0     False  \n",
       "\n",
       "[1 rows x 28 columns]"
      ]
     },
     "execution_count": 5,
     "metadata": {},
     "output_type": "execute_result"
    }
   ],
   "source": [
    "prot = '/home/ymanasa/turbo/ymanasa/opt/DiffDockL-Cov/data/CSKDE95/Structures/CSKDE95/5orl/ac/system-pre.pdb'\n",
    "# prot = '/home/ymanasa/turbo/ymanasa/opt/DiffDockL-Cov/data/CSKDE95_datamol_af2/5orl/5orl_processed.pdb'\n",
    "true_lig = '/home/ymanasa/turbo/ymanasa/opt/DiffDockL-Cov/data/CSKDE95_datamol_af2/5orl/5orl_ligand.sdf'\n",
    "pose = '/home/ymanasa/turbo/ymanasa/opt/DiffDockL-Cov/results/cskde95_inference/5orl/rank1.sdf'\n",
    "\n",
    "buster = PoseBusters(config=\"redock\")\n",
    "buster_current = buster.bust(pose, true_lig, prot)\n",
    "\n",
    "df_buster_reset = buster_current.reset_index() # changing file and molecule to columns instead of indexes\n",
    "\n",
    "df_buster_reset"
   ]
  },
  {
   "cell_type": "code",
   "execution_count": 7,
   "metadata": {},
   "outputs": [
    {
     "ename": "OSError",
     "evalue": "Bad input file system-pre.pdb",
     "output_type": "error",
     "traceback": [
      "\u001b[0;31m---------------------------------------------------------------------------\u001b[0m",
      "\u001b[0;31mOSError\u001b[0m                                   Traceback (most recent call last)",
      "Cell \u001b[0;32mIn[7], line 2\u001b[0m\n\u001b[1;32m      1\u001b[0m \u001b[38;5;28;01mfrom\u001b[39;00m \u001b[38;5;21;01mrdkit\u001b[39;00m \u001b[38;5;28;01mimport\u001b[39;00m Chem\n\u001b[0;32m----> 2\u001b[0m mol \u001b[38;5;241m=\u001b[39m \u001b[43mChem\u001b[49m\u001b[38;5;241;43m.\u001b[39;49m\u001b[43mMolFromPDBFile\u001b[49m\u001b[43m(\u001b[49m\u001b[38;5;124;43m'\u001b[39;49m\u001b[38;5;124;43msystem-pre.pdb\u001b[39;49m\u001b[38;5;124;43m'\u001b[39;49m\u001b[43m,\u001b[49m\u001b[43m \u001b[49m\u001b[43msanitize\u001b[49m\u001b[38;5;241;43m=\u001b[39;49m\u001b[38;5;28;43;01mTrue\u001b[39;49;00m\u001b[43m)\u001b[49m\n\u001b[1;32m      3\u001b[0m \u001b[38;5;28;01mif\u001b[39;00m mol \u001b[38;5;129;01mis\u001b[39;00m \u001b[38;5;28;01mNone\u001b[39;00m:\n\u001b[1;32m      4\u001b[0m     \u001b[38;5;28mprint\u001b[39m(\u001b[38;5;124m\"\u001b[39m\u001b[38;5;124mRDKit could not parse the file.\u001b[39m\u001b[38;5;124m\"\u001b[39m)\n",
      "\u001b[0;31mOSError\u001b[0m: Bad input file system-pre.pdb"
     ]
    }
   ],
   "source": [
    "from rdkit import Chem\n",
    "mol = Chem.MolFromPDBFile('system-pre.pdb', sanitize=True)\n",
    "if mol is None:\n",
    "    print(\"RDKit could not parse the file.\")"
   ]
  },
  {
   "cell_type": "code",
   "execution_count": 14,
   "metadata": {},
   "outputs": [
    {
     "name": "stdout",
     "output_type": "stream",
     "text": [
      "5p9m\n",
      "not all poses were predicted for 5p9m, moving to next\n",
      "6yq2\n",
      "not all poses were predicted for 6yq2, moving to next\n",
      "6wp8\n",
      "not all poses were predicted for 6wp8, moving to next\n"
     ]
    }
   ],
   "source": [
    "true_poses = '/home/ymanasa/posebusters_eval/CSKDE95_datamol_af2'\n",
    "pred_poses = '/home/ymanasa/posebusters_eval/cskde95_inference'\n",
    "all_df = make_eval_df(true_poses, pred_poses, pose_bust_cols=pose_bust_cols)"
   ]
  },
  {
   "cell_type": "code",
   "execution_count": 5,
   "metadata": {},
   "outputs": [
    {
     "name": "stdout",
     "output_type": "stream",
     "text": [
      "4cdc\n",
      "6j4p\n",
      "not all poses were predicted for 6j4p, moving to next\n",
      "4qps\n",
      "not all poses were predicted for 4qps, moving to next\n",
      "1hbj\n",
      "4dmy\n"
     ]
    },
    {
     "name": "stderr",
     "output_type": "stream",
     "text": [
      "Could not load molecule from /home/ymanasa/turbo/ymanasa/opt/DiffDockL-Cov/data/CSKDE95_datamol_af2/4luc/4luc_processed.pdb with error: Could not load molecule.\n",
      "[13:09:58] WARNING:  Problems/mismatches: Mobile-H( Hydrogens: Number; Mobile-H groups: Missing, Attachment points; Charge(s): Do not match; Proton balance: Does not match)\n",
      "\n",
      "[13:09:58] WARNING:  Problems/mismatches: Mobile-H( Hydrogens: Number; Mobile-H groups: Missing, Attachment points; Charge(s): Do not match; Proton balance: Does not match)\n",
      "\n"
     ]
    },
    {
     "name": "stdout",
     "output_type": "stream",
     "text": [
      "1qdq\n",
      "not all poses were predicted for 1qdq, moving to next\n",
      "4luc\n"
     ]
    },
    {
     "name": "stderr",
     "output_type": "stream",
     "text": [
      "Could not load molecule from /home/ymanasa/turbo/ymanasa/opt/DiffDockL-Cov/data/CSKDE95_datamol_af2/4luc/4luc_processed.pdb with error: Could not load molecule.\n",
      "[13:10:01] WARNING:  Problems/mismatches: Mobile-H( Hydrogens: Number; Mobile-H groups: Missing, Attachment points; Charge(s): Do not match; Proton balance: Does not match)\n",
      "\n",
      "[13:10:01] WARNING:  Problems/mismatches: Mobile-H( Hydrogens: Number; Mobile-H groups: Missing, Attachment points; Charge(s): Do not match; Proton balance: Does not match)\n",
      "\n",
      "Could not load molecule from /home/ymanasa/turbo/ymanasa/opt/DiffDockL-Cov/data/CSKDE95_datamol_af2/4luc/4luc_processed.pdb with error: Could not load molecule.\n",
      "[13:10:02] WARNING:  Problems/mismatches: Mobile-H( Hydrogens: Number; Mobile-H groups: Missing, Attachment points; Charge(s): Do not match; Proton balance: Does not match)\n",
      "\n",
      "[13:10:02] WARNING:  Problems/mismatches: Mobile-H( Hydrogens: Number; Mobile-H groups: Missing, Attachment points; Charge(s): Do not match; Proton balance: Does not match)\n",
      "\n",
      "Could not load molecule from /home/ymanasa/turbo/ymanasa/opt/DiffDockL-Cov/data/CSKDE95_datamol_af2/4luc/4luc_processed.pdb with error: Could not load molecule.\n",
      "[13:10:02] WARNING:  Problems/mismatches: Mobile-H( Hydrogens: Number; Mobile-H groups: Missing, Attachment points; Charge(s): Do not match; Proton balance: Does not match)\n",
      "\n",
      "[13:10:02] WARNING:  Problems/mismatches: Mobile-H( Hydrogens: Number; Mobile-H groups: Missing, Attachment points; Charge(s): Do not match; Proton balance: Does not match)\n",
      "\n",
      "Could not load molecule from /home/ymanasa/turbo/ymanasa/opt/DiffDockL-Cov/data/CSKDE95_datamol_af2/4luc/4luc_processed.pdb with error: Could not load molecule.\n",
      "[13:10:02] WARNING:  Problems/mismatches: Mobile-H( Hydrogens: Number; Mobile-H groups: Missing, Attachment points; Charge(s): Do not match; Proton balance: Does not match)\n",
      "\n",
      "[13:10:02] WARNING:  Problems/mismatches: Mobile-H( Hydrogens: Number; Mobile-H groups: Missing, Attachment points; Charge(s): Do not match; Proton balance: Does not match)\n",
      "\n",
      "Could not load molecule from /home/ymanasa/turbo/ymanasa/opt/DiffDockL-Cov/data/CSKDE95_datamol_af2/4luc/4luc_processed.pdb with error: Could not load molecule.\n",
      "[13:10:02] WARNING:  Problems/mismatches: Mobile-H( Hydrogens: Number; Mobile-H groups: Missing, Attachment points; Charge(s): Do not match; Proton balance: Does not match)\n",
      "\n",
      "[13:10:02] WARNING:  Problems/mismatches: Mobile-H( Hydrogens: Number; Mobile-H groups: Missing, Attachment points; Charge(s): Do not match; Proton balance: Does not match)\n",
      "\n",
      "Could not load molecule from /home/ymanasa/turbo/ymanasa/opt/DiffDockL-Cov/data/CSKDE95_datamol_af2/4luc/4luc_processed.pdb with error: Could not load molecule.\n",
      "[13:10:02] WARNING:  Problems/mismatches: Mobile-H( Hydrogens: Number; Mobile-H groups: Missing, Attachment points; Charge(s): Do not match; Proton balance: Does not match)\n",
      "\n",
      "[13:10:02] WARNING:  Problems/mismatches: Mobile-H( Hydrogens: Number; Mobile-H groups: Missing, Attachment points; Charge(s): Do not match; Proton balance: Does not match)\n",
      "\n",
      "Could not load molecule from /home/ymanasa/turbo/ymanasa/opt/DiffDockL-Cov/data/CSKDE95_datamol_af2/4luc/4luc_processed.pdb with error: Could not load molecule.\n",
      "[13:10:03] WARNING:  Problems/mismatches: Mobile-H( Hydrogens: Number; Mobile-H groups: Missing, Attachment points; Charge(s): Do not match; Proton balance: Does not match)\n",
      "\n",
      "[13:10:03] WARNING:  Problems/mismatches: Mobile-H( Hydrogens: Number; Mobile-H groups: Missing, Attachment points; Charge(s): Do not match; Proton balance: Does not match)\n",
      "\n",
      "Could not load molecule from /home/ymanasa/turbo/ymanasa/opt/DiffDockL-Cov/data/CSKDE95_datamol_af2/4luc/4luc_processed.pdb with error: Could not load molecule.\n",
      "[13:10:03] WARNING:  Problems/mismatches: Mobile-H( Hydrogens: Number; Mobile-H groups: Missing, Attachment points; Charge(s): Do not match; Proton balance: Does not match)\n",
      "\n",
      "[13:10:03] WARNING:  Problems/mismatches: Mobile-H( Hydrogens: Number; Mobile-H groups: Missing, Attachment points; Charge(s): Do not match; Proton balance: Does not match)\n",
      "\n",
      "Could not load molecule from /home/ymanasa/turbo/ymanasa/opt/DiffDockL-Cov/data/CSKDE95_datamol_af2/4luc/4luc_processed.pdb with error: Could not load molecule.\n",
      "[13:10:03] WARNING:  Problems/mismatches: Mobile-H( Hydrogens: Number; Mobile-H groups: Missing, Attachment points; Charge(s): Do not match; Proton balance: Does not match)\n",
      "\n",
      "[13:10:03] WARNING:  Problems/mismatches: Mobile-H( Hydrogens: Number; Mobile-H groups: Missing, Attachment points; Charge(s): Do not match; Proton balance: Does not match)\n",
      "\n",
      "[13:10:03] UFFTYPER: Unrecognized charge state for atom: 14\n"
     ]
    },
    {
     "name": "stdout",
     "output_type": "stream",
     "text": [
      "4i9o\n"
     ]
    },
    {
     "name": "stderr",
     "output_type": "stream",
     "text": [
      "[13:10:06] UFFTYPER: Unrecognized charge state for atom: 14\n",
      "[13:10:06] UFFTYPER: Unrecognized charge state for atom: 14\n",
      "[13:10:07] UFFTYPER: Unrecognized charge state for atom: 14\n",
      "[13:10:07] UFFTYPER: Unrecognized charge state for atom: 14\n",
      "[13:10:07] UFFTYPER: Unrecognized charge state for atom: 14\n",
      "[13:10:08] UFFTYPER: Unrecognized charge state for atom: 14\n",
      "[13:10:08] UFFTYPER: Unrecognized charge state for atom: 14\n",
      "[13:10:09] UFFTYPER: Unrecognized charge state for atom: 14\n",
      "[13:10:09] UFFTYPER: Unrecognized charge state for atom: 14\n"
     ]
    },
    {
     "name": "stdout",
     "output_type": "stream",
     "text": [
      "4mll\n",
      "not all poses were predicted for 4mll, moving to next\n",
      "6ary\n"
     ]
    },
    {
     "name": "stderr",
     "output_type": "stream",
     "text": [
      "Could not load molecule from /home/ymanasa/turbo/ymanasa/opt/DiffDockL-Cov/data/CSKDE95_datamol_af2/5vbm/5vbm_processed.pdb with error: Could not load molecule.\n"
     ]
    },
    {
     "name": "stdout",
     "output_type": "stream",
     "text": [
      "5vbm\n"
     ]
    },
    {
     "name": "stderr",
     "output_type": "stream",
     "text": [
      "Could not load molecule from /home/ymanasa/turbo/ymanasa/opt/DiffDockL-Cov/data/CSKDE95_datamol_af2/5vbm/5vbm_processed.pdb with error: Could not load molecule.\n",
      "Could not load molecule from /home/ymanasa/turbo/ymanasa/opt/DiffDockL-Cov/data/CSKDE95_datamol_af2/5vbm/5vbm_processed.pdb with error: Could not load molecule.\n",
      "Could not load molecule from /home/ymanasa/turbo/ymanasa/opt/DiffDockL-Cov/data/CSKDE95_datamol_af2/5vbm/5vbm_processed.pdb with error: Could not load molecule.\n",
      "Could not load molecule from /home/ymanasa/turbo/ymanasa/opt/DiffDockL-Cov/data/CSKDE95_datamol_af2/5vbm/5vbm_processed.pdb with error: Could not load molecule.\n",
      "Could not load molecule from /home/ymanasa/turbo/ymanasa/opt/DiffDockL-Cov/data/CSKDE95_datamol_af2/5vbm/5vbm_processed.pdb with error: Could not load molecule.\n",
      "Could not load molecule from /home/ymanasa/turbo/ymanasa/opt/DiffDockL-Cov/data/CSKDE95_datamol_af2/5vbm/5vbm_processed.pdb with error: Could not load molecule.\n",
      "Could not load molecule from /home/ymanasa/turbo/ymanasa/opt/DiffDockL-Cov/data/CSKDE95_datamol_af2/5vbm/5vbm_processed.pdb with error: Could not load molecule.\n",
      "Could not load molecule from /home/ymanasa/turbo/ymanasa/opt/DiffDockL-Cov/data/CSKDE95_datamol_af2/5vbm/5vbm_processed.pdb with error: Could not load molecule.\n",
      "Could not load molecule from /home/ymanasa/turbo/ymanasa/opt/DiffDockL-Cov/data/CSKDE95_datamol_af2/5vbm/5vbm_processed.pdb with error: Could not load molecule.\n",
      "[13:10:26] UFFTYPER: Unrecognized charge state for atom: 17\n"
     ]
    },
    {
     "name": "stdout",
     "output_type": "stream",
     "text": [
      "6hmu\n"
     ]
    },
    {
     "name": "stderr",
     "output_type": "stream",
     "text": [
      "[13:10:28] UFFTYPER: Unrecognized charge state for atom: 17\n",
      "[13:10:29] UFFTYPER: Unrecognized charge state for atom: 17\n",
      "[13:10:29] UFFTYPER: Unrecognized charge state for atom: 17\n",
      "[13:10:30] UFFTYPER: Unrecognized charge state for atom: 17\n",
      "[13:10:31] UFFTYPER: Unrecognized charge state for atom: 17\n",
      "[13:10:32] UFFTYPER: Unrecognized charge state for atom: 17\n",
      "[13:10:33] UFFTYPER: Unrecognized charge state for atom: 17\n",
      "[13:10:34] UFFTYPER: Unrecognized charge state for atom: 17\n",
      "[13:10:35] UFFTYPER: Unrecognized charge state for atom: 17\n"
     ]
    },
    {
     "name": "stdout",
     "output_type": "stream",
     "text": [
      "5p9m\n",
      "5j9z\n",
      "2xyp\n",
      "6vgy\n",
      "2xyg\n",
      "5ac0\n",
      "3sn8\n",
      "not all poses were predicted for 3sn8, moving to next\n",
      "1ghm\n"
     ]
    },
    {
     "name": "stderr",
     "output_type": "stream",
     "text": [
      "[13:12:09] UFFTYPER: Unrecognized charge state for atom: 5\n"
     ]
    },
    {
     "name": "stdout",
     "output_type": "stream",
     "text": [
      "3orz\n"
     ]
    },
    {
     "name": "stderr",
     "output_type": "stream",
     "text": [
      "[13:12:11] UFFTYPER: Unrecognized charge state for atom: 5\n",
      "[13:12:12] UFFTYPER: Unrecognized charge state for atom: 5\n",
      "[13:12:13] UFFTYPER: Unrecognized charge state for atom: 5\n",
      "[13:12:14] UFFTYPER: Unrecognized charge state for atom: 5\n",
      "[13:12:15] UFFTYPER: Unrecognized charge state for atom: 5\n",
      "[13:12:17] UFFTYPER: Unrecognized charge state for atom: 5\n",
      "[13:12:18] UFFTYPER: Unrecognized charge state for atom: 5\n",
      "[13:12:19] UFFTYPER: Unrecognized charge state for atom: 5\n",
      "[13:12:19] UFFTYPER: Unrecognized charge state for atom: 5\n",
      "[13:12:20] UFFTYPER: Unrecognized charge state for atom: 5\n"
     ]
    },
    {
     "name": "stdout",
     "output_type": "stream",
     "text": [
      "5maj\n"
     ]
    },
    {
     "name": "stderr",
     "output_type": "stream",
     "text": [
      "[13:12:20] UFFTYPER: Unrecognized charge state for atom: 5\n",
      "[13:12:21] UFFTYPER: Unrecognized charge state for atom: 5\n",
      "[13:12:22] UFFTYPER: Unrecognized charge state for atom: 5\n",
      "[13:12:23] UFFTYPER: Unrecognized charge state for atom: 5\n",
      "[13:12:23] UFFTYPER: Unrecognized charge state for atom: 5\n",
      "[13:12:24] UFFTYPER: Unrecognized charge state for atom: 5\n",
      "[13:12:25] UFFTYPER: Unrecognized charge state for atom: 5\n",
      "[13:12:26] UFFTYPER: Unrecognized charge state for atom: 5\n",
      "[13:12:26] UFFTYPER: Unrecognized charge state for atom: 5\n",
      "Could not load molecule from /home/ymanasa/turbo/ymanasa/opt/DiffDockL-Cov/data/CSKDE95_datamol_af2/5orl/5orl_processed.pdb with error: Could not load molecule.\n",
      "[13:12:27] WARNING:  Problems/mismatches: Mobile-H( Hydrogens: Locations or number, Number; Mobile-H groups: Attachment points, Number; Charge(s): Do not match; Proton balance: Does not match)\n",
      "\n",
      "[13:12:27] WARNING:  Problems/mismatches: Mobile-H( Hydrogens: Locations or number, Number; Mobile-H groups: Attachment points, Number; Charge(s): Do not match; Proton balance: Does not match)\n",
      "\n",
      "[13:12:27] UFFTYPER: Unrecognized charge state for atom: 11\n"
     ]
    },
    {
     "name": "stdout",
     "output_type": "stream",
     "text": [
      "5orl\n"
     ]
    },
    {
     "name": "stderr",
     "output_type": "stream",
     "text": [
      "Could not load molecule from /home/ymanasa/turbo/ymanasa/opt/DiffDockL-Cov/data/CSKDE95_datamol_af2/5orl/5orl_processed.pdb with error: Could not load molecule.\n",
      "[13:12:28] WARNING:  Problems/mismatches: Mobile-H( Hydrogens: Locations or number, Number; Mobile-H groups: Attachment points, Number; Charge(s): Do not match; Proton balance: Does not match)\n",
      "\n",
      "[13:12:28] WARNING:  Problems/mismatches: Mobile-H( Hydrogens: Locations or number, Number; Mobile-H groups: Attachment points, Number; Charge(s): Do not match; Proton balance: Does not match)\n",
      "\n",
      "[13:12:28] UFFTYPER: Unrecognized charge state for atom: 11\n",
      "Could not load molecule from /home/ymanasa/turbo/ymanasa/opt/DiffDockL-Cov/data/CSKDE95_datamol_af2/5orl/5orl_processed.pdb with error: Could not load molecule.\n",
      "[13:12:28] WARNING:  Problems/mismatches: Mobile-H( Hydrogens: Locations or number, Number; Mobile-H groups: Attachment points, Number; Charge(s): Do not match; Proton balance: Does not match)\n",
      "\n",
      "[13:12:28] WARNING:  Problems/mismatches: Mobile-H( Hydrogens: Locations or number, Number; Mobile-H groups: Attachment points, Number; Charge(s): Do not match; Proton balance: Does not match)\n",
      "\n",
      "[13:12:28] UFFTYPER: Unrecognized charge state for atom: 11\n",
      "Could not load molecule from /home/ymanasa/turbo/ymanasa/opt/DiffDockL-Cov/data/CSKDE95_datamol_af2/5orl/5orl_processed.pdb with error: Could not load molecule.\n",
      "[13:12:28] WARNING:  Problems/mismatches: Mobile-H( Hydrogens: Locations or number, Number; Mobile-H groups: Attachment points, Number; Charge(s): Do not match; Proton balance: Does not match)\n",
      "\n",
      "[13:12:28] WARNING:  Problems/mismatches: Mobile-H( Hydrogens: Locations or number, Number; Mobile-H groups: Attachment points, Number; Charge(s): Do not match; Proton balance: Does not match)\n",
      "\n",
      "[13:12:28] UFFTYPER: Unrecognized charge state for atom: 11\n",
      "Could not load molecule from /home/ymanasa/turbo/ymanasa/opt/DiffDockL-Cov/data/CSKDE95_datamol_af2/5orl/5orl_processed.pdb with error: Could not load molecule.\n",
      "[13:12:28] WARNING:  Problems/mismatches: Mobile-H( Hydrogens: Locations or number, Number; Mobile-H groups: Attachment points, Number; Charge(s): Do not match; Proton balance: Does not match)\n",
      "\n",
      "[13:12:28] WARNING:  Problems/mismatches: Mobile-H( Hydrogens: Locations or number, Number; Mobile-H groups: Attachment points, Number; Charge(s): Do not match; Proton balance: Does not match)\n",
      "\n",
      "[13:12:28] UFFTYPER: Unrecognized charge state for atom: 11\n",
      "Could not load molecule from /home/ymanasa/turbo/ymanasa/opt/DiffDockL-Cov/data/CSKDE95_datamol_af2/5orl/5orl_processed.pdb with error: Could not load molecule.\n",
      "[13:12:28] WARNING:  Problems/mismatches: Mobile-H( Hydrogens: Locations or number, Number; Mobile-H groups: Attachment points, Number; Charge(s): Do not match; Proton balance: Does not match)\n",
      "\n",
      "[13:12:28] WARNING:  Problems/mismatches: Mobile-H( Hydrogens: Locations or number, Number; Mobile-H groups: Attachment points, Number; Charge(s): Do not match; Proton balance: Does not match)\n",
      "\n",
      "[13:12:28] UFFTYPER: Unrecognized charge state for atom: 11\n",
      "Could not load molecule from /home/ymanasa/turbo/ymanasa/opt/DiffDockL-Cov/data/CSKDE95_datamol_af2/5orl/5orl_processed.pdb with error: Could not load molecule.\n",
      "[13:12:28] WARNING:  Problems/mismatches: Mobile-H( Hydrogens: Locations or number, Number; Mobile-H groups: Attachment points, Number; Charge(s): Do not match; Proton balance: Does not match)\n",
      "\n",
      "[13:12:28] WARNING:  Problems/mismatches: Mobile-H( Hydrogens: Locations or number, Number; Mobile-H groups: Attachment points, Number; Charge(s): Do not match; Proton balance: Does not match)\n",
      "\n",
      "[13:12:28] UFFTYPER: Unrecognized charge state for atom: 11\n",
      "Could not load molecule from /home/ymanasa/turbo/ymanasa/opt/DiffDockL-Cov/data/CSKDE95_datamol_af2/5orl/5orl_processed.pdb with error: Could not load molecule.\n",
      "[13:12:29] WARNING:  Problems/mismatches: Mobile-H( Hydrogens: Locations or number, Number; Mobile-H groups: Attachment points, Number; Charge(s): Do not match; Proton balance: Does not match)\n",
      "\n",
      "[13:12:29] WARNING:  Problems/mismatches: Mobile-H( Hydrogens: Locations or number, Number; Mobile-H groups: Attachment points, Number; Charge(s): Do not match; Proton balance: Does not match)\n",
      "\n",
      "[13:12:29] UFFTYPER: Unrecognized charge state for atom: 11\n",
      "Could not load molecule from /home/ymanasa/turbo/ymanasa/opt/DiffDockL-Cov/data/CSKDE95_datamol_af2/5orl/5orl_processed.pdb with error: Could not load molecule.\n",
      "[13:12:29] WARNING:  Problems/mismatches: Mobile-H( Hydrogens: Locations or number, Number; Mobile-H groups: Attachment points, Number; Charge(s): Do not match; Proton balance: Does not match)\n",
      "\n",
      "[13:12:29] WARNING:  Problems/mismatches: Mobile-H( Hydrogens: Locations or number, Number; Mobile-H groups: Attachment points, Number; Charge(s): Do not match; Proton balance: Does not match)\n",
      "\n",
      "[13:12:29] UFFTYPER: Unrecognized charge state for atom: 11\n",
      "Could not load molecule from /home/ymanasa/turbo/ymanasa/opt/DiffDockL-Cov/data/CSKDE95_datamol_af2/5orl/5orl_processed.pdb with error: Could not load molecule.\n",
      "[13:12:29] WARNING:  Problems/mismatches: Mobile-H( Hydrogens: Locations or number, Number; Mobile-H groups: Attachment points, Number; Charge(s): Do not match; Proton balance: Does not match)\n",
      "\n",
      "[13:12:29] WARNING:  Problems/mismatches: Mobile-H( Hydrogens: Locations or number, Number; Mobile-H groups: Attachment points, Number; Charge(s): Do not match; Proton balance: Does not match)\n",
      "\n",
      "[13:12:29] UFFTYPER: Unrecognized charge state for atom: 11\n"
     ]
    },
    {
     "name": "stdout",
     "output_type": "stream",
     "text": [
      "5dzj\n",
      "5qir\n",
      "6puh\n"
     ]
    },
    {
     "name": "stderr",
     "output_type": "stream",
     "text": [
      "[13:12:58] WARNING:  Problems/mismatches: Mobile-H( Mobile-H groups: Attachment points, Number)\n",
      "\n",
      "[13:12:58] WARNING:  Problems/mismatches: Mobile-H( Mobile-H groups: Attachment points, Number)\n",
      "\n"
     ]
    },
    {
     "name": "stdout",
     "output_type": "stream",
     "text": [
      "5u17\n"
     ]
    },
    {
     "name": "stderr",
     "output_type": "stream",
     "text": [
      "[13:12:59] WARNING:  Problems/mismatches: Mobile-H( Mobile-H groups: Attachment points, Number)\n",
      "\n",
      "[13:12:59] WARNING:  Problems/mismatches: Mobile-H( Mobile-H groups: Attachment points, Number)\n",
      "\n",
      "[13:13:00] WARNING:  Problems/mismatches: Mobile-H( Mobile-H groups: Attachment points, Number)\n",
      "\n",
      "[13:13:00] WARNING:  Problems/mismatches: Mobile-H( Mobile-H groups: Attachment points, Number)\n",
      "\n",
      "[13:13:01] WARNING:  Problems/mismatches: Mobile-H( Mobile-H groups: Attachment points, Number)\n",
      "\n",
      "[13:13:01] WARNING:  Problems/mismatches: Mobile-H( Mobile-H groups: Attachment points, Number)\n",
      "\n",
      "[13:13:01] WARNING:  Problems/mismatches: Mobile-H( Mobile-H groups: Attachment points, Number)\n",
      "\n",
      "[13:13:01] WARNING:  Problems/mismatches: Mobile-H( Mobile-H groups: Attachment points, Number)\n",
      "\n",
      "[13:13:01] WARNING:  Problems/mismatches: Mobile-H( Mobile-H groups: Attachment points, Number)\n",
      "\n",
      "[13:13:01] WARNING:  Problems/mismatches: Mobile-H( Mobile-H groups: Attachment points, Number)\n",
      "\n",
      "[13:13:02] WARNING:  Problems/mismatches: Mobile-H( Mobile-H groups: Attachment points, Number)\n",
      "\n",
      "[13:13:02] WARNING:  Problems/mismatches: Mobile-H( Mobile-H groups: Attachment points, Number)\n",
      "\n",
      "[13:13:03] WARNING:  Problems/mismatches: Mobile-H( Mobile-H groups: Attachment points, Number)\n",
      "\n",
      "[13:13:03] WARNING:  Problems/mismatches: Mobile-H( Mobile-H groups: Attachment points, Number)\n",
      "\n",
      "[13:13:03] WARNING:  Problems/mismatches: Mobile-H( Mobile-H groups: Attachment points, Number)\n",
      "\n",
      "[13:13:03] WARNING:  Problems/mismatches: Mobile-H( Mobile-H groups: Attachment points, Number)\n",
      "\n",
      "[13:13:04] WARNING:  Problems/mismatches: Mobile-H( Mobile-H groups: Attachment points, Number)\n",
      "\n",
      "[13:13:04] WARNING:  Problems/mismatches: Mobile-H( Mobile-H groups: Attachment points, Number)\n",
      "\n",
      "[13:13:04] WARNING:  Problems/mismatches: Mobile-H( Hydrogens: Locations or number, Number; Charge(s): Do not match; Proton balance: Does not match)\n",
      "\n",
      "[13:13:04] WARNING:  Problems/mismatches: Mobile-H( Hydrogens: Locations or number, Number; Charge(s): Do not match; Proton balance: Does not match)\n",
      "\n"
     ]
    },
    {
     "name": "stdout",
     "output_type": "stream",
     "text": [
      "3hhi\n",
      "not all poses were predicted for 3hhi, moving to next\n",
      "3h0e\n"
     ]
    },
    {
     "name": "stderr",
     "output_type": "stream",
     "text": [
      "[13:13:11] WARNING:  Problems/mismatches: Mobile-H( Hydrogens: Locations or number, Number; Charge(s): Do not match; Proton balance: Does not match)\n",
      "\n",
      "[13:13:11] WARNING:  Problems/mismatches: Mobile-H( Hydrogens: Locations or number, Number; Charge(s): Do not match; Proton balance: Does not match)\n",
      "\n",
      "[13:13:12] WARNING:  Problems/mismatches: Mobile-H( Hydrogens: Locations or number, Number; Charge(s): Do not match; Proton balance: Does not match)\n",
      "\n",
      "[13:13:12] WARNING:  Problems/mismatches: Mobile-H( Hydrogens: Locations or number, Number; Charge(s): Do not match; Proton balance: Does not match)\n",
      "\n",
      "[13:13:13] WARNING:  Problems/mismatches: Mobile-H( Hydrogens: Locations or number, Number; Charge(s): Do not match; Proton balance: Does not match)\n",
      "\n",
      "[13:13:13] WARNING:  Problems/mismatches: Mobile-H( Hydrogens: Locations or number, Number; Charge(s): Do not match; Proton balance: Does not match)\n",
      "\n",
      "[13:13:14] WARNING:  Problems/mismatches: Mobile-H( Hydrogens: Locations or number, Number; Charge(s): Do not match; Proton balance: Does not match)\n",
      "\n",
      "[13:13:14] WARNING:  Problems/mismatches: Mobile-H( Hydrogens: Locations or number, Number; Charge(s): Do not match; Proton balance: Does not match)\n",
      "\n",
      "[13:13:15] WARNING:  Problems/mismatches: Mobile-H( Hydrogens: Locations or number, Number; Charge(s): Do not match; Proton balance: Does not match)\n",
      "\n",
      "[13:13:15] WARNING:  Problems/mismatches: Mobile-H( Hydrogens: Locations or number, Number; Charge(s): Do not match; Proton balance: Does not match)\n",
      "\n",
      "[13:13:16] WARNING:  Problems/mismatches: Mobile-H( Hydrogens: Locations or number, Number; Charge(s): Do not match; Proton balance: Does not match)\n",
      "\n",
      "[13:13:16] WARNING:  Problems/mismatches: Mobile-H( Hydrogens: Locations or number, Number; Charge(s): Do not match; Proton balance: Does not match)\n",
      "\n",
      "[13:13:17] WARNING:  Problems/mismatches: Mobile-H( Hydrogens: Locations or number, Number; Charge(s): Do not match; Proton balance: Does not match)\n",
      "\n",
      "[13:13:17] WARNING:  Problems/mismatches: Mobile-H( Hydrogens: Locations or number, Number; Charge(s): Do not match; Proton balance: Does not match)\n",
      "\n",
      "[13:13:18] WARNING:  Problems/mismatches: Mobile-H( Hydrogens: Locations or number, Number; Charge(s): Do not match; Proton balance: Does not match)\n",
      "\n",
      "[13:13:18] WARNING:  Problems/mismatches: Mobile-H( Hydrogens: Locations or number, Number; Charge(s): Do not match; Proton balance: Does not match)\n",
      "\n",
      "[13:13:19] WARNING:  Problems/mismatches: Mobile-H( Hydrogens: Locations or number, Number; Charge(s): Do not match; Proton balance: Does not match)\n",
      "\n",
      "[13:13:19] WARNING:  Problems/mismatches: Mobile-H( Hydrogens: Locations or number, Number; Charge(s): Do not match; Proton balance: Does not match)\n",
      "\n"
     ]
    },
    {
     "name": "stdout",
     "output_type": "stream",
     "text": [
      "5qh8\n",
      "4cde\n",
      "5xhr\n",
      "not all poses were predicted for 5xhr, moving to next\n",
      "2g8e\n",
      "not all poses were predicted for 2g8e, moving to next\n",
      "3q7z\n",
      "not all poses were predicted for 3q7z, moving to next\n",
      "3ovx\n",
      "4an1\n"
     ]
    },
    {
     "name": "stderr",
     "output_type": "stream",
     "text": [
      "Could not load molecule from /home/ymanasa/turbo/ymanasa/opt/DiffDockL-Cov/data/CSKDE95_datamol_af2/3zmh/3zmh_processed.pdb with error: Could not load molecule.\n"
     ]
    },
    {
     "name": "stdout",
     "output_type": "stream",
     "text": [
      "3zmh\n"
     ]
    },
    {
     "name": "stderr",
     "output_type": "stream",
     "text": [
      "Could not load molecule from /home/ymanasa/turbo/ymanasa/opt/DiffDockL-Cov/data/CSKDE95_datamol_af2/3zmh/3zmh_processed.pdb with error: Could not load molecule.\n",
      "Could not load molecule from /home/ymanasa/turbo/ymanasa/opt/DiffDockL-Cov/data/CSKDE95_datamol_af2/3zmh/3zmh_processed.pdb with error: Could not load molecule.\n",
      "Could not load molecule from /home/ymanasa/turbo/ymanasa/opt/DiffDockL-Cov/data/CSKDE95_datamol_af2/3zmh/3zmh_processed.pdb with error: Could not load molecule.\n",
      "Could not load molecule from /home/ymanasa/turbo/ymanasa/opt/DiffDockL-Cov/data/CSKDE95_datamol_af2/3zmh/3zmh_processed.pdb with error: Could not load molecule.\n",
      "Could not load molecule from /home/ymanasa/turbo/ymanasa/opt/DiffDockL-Cov/data/CSKDE95_datamol_af2/3zmh/3zmh_processed.pdb with error: Could not load molecule.\n",
      "Could not load molecule from /home/ymanasa/turbo/ymanasa/opt/DiffDockL-Cov/data/CSKDE95_datamol_af2/3zmh/3zmh_processed.pdb with error: Could not load molecule.\n",
      "Could not load molecule from /home/ymanasa/turbo/ymanasa/opt/DiffDockL-Cov/data/CSKDE95_datamol_af2/3zmh/3zmh_processed.pdb with error: Could not load molecule.\n",
      "Could not load molecule from /home/ymanasa/turbo/ymanasa/opt/DiffDockL-Cov/data/CSKDE95_datamol_af2/3zmh/3zmh_processed.pdb with error: Could not load molecule.\n",
      "Could not load molecule from /home/ymanasa/turbo/ymanasa/opt/DiffDockL-Cov/data/CSKDE95_datamol_af2/3zmh/3zmh_processed.pdb with error: Could not load molecule.\n"
     ]
    },
    {
     "name": "stdout",
     "output_type": "stream",
     "text": [
      "5d11\n",
      "6yq2\n",
      "6iuo\n",
      "not all poses were predicted for 6iuo, moving to next\n",
      "4amz\n"
     ]
    },
    {
     "name": "stderr",
     "output_type": "stream",
     "text": [
      "Could not load molecule from /home/ymanasa/turbo/ymanasa/opt/DiffDockL-Cov/data/CSKDE95_datamol_af2/5l6p/5l6p_processed.pdb with error: Could not load molecule.\n"
     ]
    },
    {
     "name": "stdout",
     "output_type": "stream",
     "text": [
      "5l6p\n"
     ]
    },
    {
     "name": "stderr",
     "output_type": "stream",
     "text": [
      "Could not load molecule from /home/ymanasa/turbo/ymanasa/opt/DiffDockL-Cov/data/CSKDE95_datamol_af2/5l6p/5l6p_processed.pdb with error: Could not load molecule.\n",
      "Could not load molecule from /home/ymanasa/turbo/ymanasa/opt/DiffDockL-Cov/data/CSKDE95_datamol_af2/5l6p/5l6p_processed.pdb with error: Could not load molecule.\n",
      "Could not load molecule from /home/ymanasa/turbo/ymanasa/opt/DiffDockL-Cov/data/CSKDE95_datamol_af2/5l6p/5l6p_processed.pdb with error: Could not load molecule.\n",
      "Could not load molecule from /home/ymanasa/turbo/ymanasa/opt/DiffDockL-Cov/data/CSKDE95_datamol_af2/5l6p/5l6p_processed.pdb with error: Could not load molecule.\n",
      "Could not load molecule from /home/ymanasa/turbo/ymanasa/opt/DiffDockL-Cov/data/CSKDE95_datamol_af2/5l6p/5l6p_processed.pdb with error: Could not load molecule.\n",
      "Could not load molecule from /home/ymanasa/turbo/ymanasa/opt/DiffDockL-Cov/data/CSKDE95_datamol_af2/5l6p/5l6p_processed.pdb with error: Could not load molecule.\n",
      "Could not load molecule from /home/ymanasa/turbo/ymanasa/opt/DiffDockL-Cov/data/CSKDE95_datamol_af2/5l6p/5l6p_processed.pdb with error: Could not load molecule.\n",
      "Could not load molecule from /home/ymanasa/turbo/ymanasa/opt/DiffDockL-Cov/data/CSKDE95_datamol_af2/5l6p/5l6p_processed.pdb with error: Could not load molecule.\n",
      "Could not load molecule from /home/ymanasa/turbo/ymanasa/opt/DiffDockL-Cov/data/CSKDE95_datamol_af2/5l6p/5l6p_processed.pdb with error: Could not load molecule.\n"
     ]
    },
    {
     "name": "stdout",
     "output_type": "stream",
     "text": [
      "1ewl\n",
      "not all poses were predicted for 1ewl, moving to next\n",
      "2z9w\n",
      "6ezp\n",
      "2q9m\n"
     ]
    },
    {
     "name": "stderr",
     "output_type": "stream",
     "text": [
      "[13:15:29] UFFTYPER: Unrecognized charge state for atom: 5\n"
     ]
    },
    {
     "name": "stdout",
     "output_type": "stream",
     "text": [
      "3m2z\n"
     ]
    },
    {
     "name": "stderr",
     "output_type": "stream",
     "text": [
      "[13:15:30] UFFTYPER: Unrecognized charge state for atom: 5\n",
      "[13:15:30] UFFTYPER: Unrecognized charge state for atom: 5\n",
      "[13:15:30] UFFTYPER: Unrecognized charge state for atom: 5\n",
      "[13:15:31] UFFTYPER: Unrecognized charge state for atom: 5\n",
      "[13:15:31] UFFTYPER: Unrecognized charge state for atom: 5\n",
      "[13:15:31] UFFTYPER: Unrecognized charge state for atom: 5\n",
      "[13:15:32] UFFTYPER: Unrecognized charge state for atom: 5\n",
      "[13:15:32] UFFTYPER: Unrecognized charge state for atom: 5\n",
      "[13:15:33] UFFTYPER: Unrecognized charge state for atom: 5\n",
      "[13:15:33] WARNING:  Problems/mismatches: Mobile-H( Hydrogens: Locations or number; Mobile-H groups: One instead of multiple, Attachment points, Number)\n",
      "\n",
      "[13:15:33] WARNING:  Problems/mismatches: Mobile-H( Hydrogens: Locations or number; Mobile-H groups: One instead of multiple, Attachment points, Number)\n",
      "\n"
     ]
    },
    {
     "name": "stdout",
     "output_type": "stream",
     "text": [
      "5mjb\n"
     ]
    },
    {
     "name": "stderr",
     "output_type": "stream",
     "text": [
      "[13:15:36] WARNING:  Problems/mismatches: Mobile-H( Hydrogens: Locations or number; Mobile-H groups: One instead of multiple, Attachment points, Number)\n",
      "\n",
      "[13:15:36] WARNING:  Problems/mismatches: Mobile-H( Hydrogens: Locations or number; Mobile-H groups: One instead of multiple, Attachment points, Number)\n",
      "\n",
      "[13:15:37] WARNING:  Problems/mismatches: Mobile-H( Hydrogens: Locations or number; Mobile-H groups: One instead of multiple, Attachment points, Number)\n",
      "\n",
      "[13:15:37] WARNING:  Problems/mismatches: Mobile-H( Hydrogens: Locations or number; Mobile-H groups: One instead of multiple, Attachment points, Number)\n",
      "\n",
      "[13:15:38] WARNING:  Problems/mismatches: Mobile-H( Hydrogens: Locations or number; Mobile-H groups: One instead of multiple, Attachment points, Number)\n",
      "\n",
      "[13:15:38] WARNING:  Problems/mismatches: Mobile-H( Hydrogens: Locations or number; Mobile-H groups: One instead of multiple, Attachment points, Number)\n",
      "\n",
      "[13:15:39] WARNING:  Problems/mismatches: Mobile-H( Hydrogens: Locations or number; Mobile-H groups: One instead of multiple, Attachment points, Number)\n",
      "\n",
      "[13:15:39] WARNING:  Problems/mismatches: Mobile-H( Hydrogens: Locations or number; Mobile-H groups: One instead of multiple, Attachment points, Number)\n",
      "\n",
      "[13:15:40] WARNING:  Problems/mismatches: Mobile-H( Hydrogens: Locations or number; Mobile-H groups: One instead of multiple, Attachment points, Number)\n",
      "\n",
      "[13:15:40] WARNING:  Problems/mismatches: Mobile-H( Hydrogens: Locations or number; Mobile-H groups: One instead of multiple, Attachment points, Number)\n",
      "\n",
      "[13:15:41] WARNING:  Problems/mismatches: Mobile-H( Hydrogens: Locations or number; Mobile-H groups: One instead of multiple, Attachment points, Number)\n",
      "\n",
      "[13:15:41] WARNING:  Problems/mismatches: Mobile-H( Hydrogens: Locations or number; Mobile-H groups: One instead of multiple, Attachment points, Number)\n",
      "\n",
      "[13:15:42] WARNING:  Problems/mismatches: Mobile-H( Hydrogens: Locations or number; Mobile-H groups: One instead of multiple, Attachment points, Number)\n",
      "\n",
      "[13:15:42] WARNING:  Problems/mismatches: Mobile-H( Hydrogens: Locations or number; Mobile-H groups: One instead of multiple, Attachment points, Number)\n",
      "\n",
      "[13:15:43] WARNING:  Problems/mismatches: Mobile-H( Hydrogens: Locations or number; Mobile-H groups: One instead of multiple, Attachment points, Number)\n",
      "\n",
      "[13:15:43] WARNING:  Problems/mismatches: Mobile-H( Hydrogens: Locations or number; Mobile-H groups: One instead of multiple, Attachment points, Number)\n",
      "\n",
      "[13:15:44] WARNING:  Problems/mismatches: Mobile-H( Hydrogens: Locations or number; Mobile-H groups: One instead of multiple, Attachment points, Number)\n",
      "\n",
      "[13:15:44] WARNING:  Problems/mismatches: Mobile-H( Hydrogens: Locations or number; Mobile-H groups: One instead of multiple, Attachment points, Number)\n",
      "\n"
     ]
    },
    {
     "name": "stdout",
     "output_type": "stream",
     "text": [
      "1xrl\n"
     ]
    },
    {
     "name": "stderr",
     "output_type": "stream",
     "text": [
      "WARNING: Energy ratio module failed to calculate ensemble conformation energy for InChI=1S/C7H3.C3H4NO.C/c1-2-4-6-5(3-1)7(4)6;1-3(5)2-4;/h2-4H;2,5H,1H2;: Failed to generate conformations.\n",
      "WARNING: Energy ratio module failed to calculate ensemble conformation energy for InChI=1S/C7H3.C3H4NO.C/c1-2-4-6-5(3-1)7(4)6;1-3(5)2-4;/h2-4H;2,5H,1H2;: Failed to generate conformations.\n",
      "WARNING: Energy ratio module failed to calculate ensemble conformation energy for InChI=1S/C7H3.C3H4NO.C/c1-2-4-6-5(3-1)7(4)6;1-3(5)2-4;/h2-4H;2,5H,1H2;: Failed to generate conformations.\n",
      "WARNING: Energy ratio module failed to calculate ensemble conformation energy for InChI=1S/C7H3.C3H4NO.C/c1-2-4-6-5(3-1)7(4)6;1-3(5)2-4;/h2-4H;2,5H,1H2;: Failed to generate conformations.\n",
      "WARNING: Energy ratio module failed to calculate ensemble conformation energy for InChI=1S/C7H3.C3H4NO.C/c1-2-4-6-5(3-1)7(4)6;1-3(5)2-4;/h2-4H;2,5H,1H2;: Failed to generate conformations.\n",
      "WARNING: Energy ratio module failed to calculate ensemble conformation energy for InChI=1S/C7H3.C3H4NO.C/c1-2-4-6-5(3-1)7(4)6;1-3(5)2-4;/h2-4H;2,5H,1H2;: Failed to generate conformations.\n",
      "WARNING: Energy ratio module failed to calculate ensemble conformation energy for InChI=1S/C7H3.C3H4NO.C/c1-2-4-6-5(3-1)7(4)6;1-3(5)2-4;/h2-4H;2,5H,1H2;: Failed to generate conformations.\n",
      "WARNING: Energy ratio module failed to calculate ensemble conformation energy for InChI=1S/C7H3.C3H4NO.C/c1-2-4-6-5(3-1)7(4)6;1-3(5)2-4;/h2-4H;2,5H,1H2;: Failed to generate conformations.\n",
      "WARNING: Energy ratio module failed to calculate ensemble conformation energy for InChI=1S/C7H3.C3H4NO.C/c1-2-4-6-5(3-1)7(4)6;1-3(5)2-4;/h2-4H;2,5H,1H2;: Failed to generate conformations.\n",
      "WARNING: Energy ratio module failed to calculate ensemble conformation energy for InChI=1S/C7H3.C3H4NO.C/c1-2-4-6-5(3-1)7(4)6;1-3(5)2-4;/h2-4H;2,5H,1H2;: Failed to generate conformations.\n"
     ]
    },
    {
     "name": "stdout",
     "output_type": "stream",
     "text": [
      "5v6v\n",
      "6j4p\n",
      "not all poses were predicted for 6j4p, moving to next\n",
      "1hv7\n"
     ]
    },
    {
     "name": "stderr",
     "output_type": "stream",
     "text": [
      "[13:16:39] WARNING:  Problems/mismatches: Mobile-H( Hydrogens: Locations or number; Mobile-H groups: Missing, Attachment points)\n",
      "\n",
      "[13:16:39] WARNING:  Problems/mismatches: Mobile-H( Hydrogens: Locations or number; Mobile-H groups: Missing, Attachment points)\n",
      "\n"
     ]
    },
    {
     "name": "stdout",
     "output_type": "stream",
     "text": [
      "3k7f\n",
      "not all poses were predicted for 3k7f, moving to next\n",
      "3t9t\n",
      "not all poses were predicted for 3t9t, moving to next\n",
      "6aff\n"
     ]
    },
    {
     "name": "stderr",
     "output_type": "stream",
     "text": [
      "[13:16:40] WARNING:  Problems/mismatches: Mobile-H( Hydrogens: Locations or number; Mobile-H groups: Missing, Attachment points)\n",
      "\n",
      "[13:16:40] WARNING:  Problems/mismatches: Mobile-H( Hydrogens: Locations or number; Mobile-H groups: Missing, Attachment points)\n",
      "\n",
      "[13:16:41] WARNING:  Problems/mismatches: Mobile-H( Hydrogens: Locations or number; Mobile-H groups: Missing, Attachment points)\n",
      "\n",
      "[13:16:41] WARNING:  Problems/mismatches: Mobile-H( Hydrogens: Locations or number; Mobile-H groups: Missing, Attachment points)\n",
      "\n",
      "[13:16:41] WARNING:  Problems/mismatches: Mobile-H( Hydrogens: Locations or number; Mobile-H groups: Missing, Attachment points)\n",
      "\n",
      "[13:16:41] WARNING:  Problems/mismatches: Mobile-H( Hydrogens: Locations or number; Mobile-H groups: Missing, Attachment points)\n",
      "\n",
      "[13:16:42] WARNING:  Problems/mismatches: Mobile-H( Hydrogens: Locations or number; Mobile-H groups: Missing, Attachment points)\n",
      "\n",
      "[13:16:42] WARNING:  Problems/mismatches: Mobile-H( Hydrogens: Locations or number; Mobile-H groups: Missing, Attachment points)\n",
      "\n",
      "[13:16:43] WARNING:  Problems/mismatches: Mobile-H( Hydrogens: Locations or number; Mobile-H groups: Missing, Attachment points)\n",
      "\n",
      "[13:16:43] WARNING:  Problems/mismatches: Mobile-H( Hydrogens: Locations or number; Mobile-H groups: Missing, Attachment points)\n",
      "\n",
      "[13:16:43] WARNING:  Problems/mismatches: Mobile-H( Hydrogens: Locations or number; Mobile-H groups: Missing, Attachment points)\n",
      "\n",
      "[13:16:43] WARNING:  Problems/mismatches: Mobile-H( Hydrogens: Locations or number; Mobile-H groups: Missing, Attachment points)\n",
      "\n",
      "[13:16:44] WARNING:  Problems/mismatches: Mobile-H( Hydrogens: Locations or number; Mobile-H groups: Missing, Attachment points)\n",
      "\n",
      "[13:16:44] WARNING:  Problems/mismatches: Mobile-H( Hydrogens: Locations or number; Mobile-H groups: Missing, Attachment points)\n",
      "\n",
      "[13:16:45] WARNING:  Problems/mismatches: Mobile-H( Hydrogens: Locations or number; Mobile-H groups: Missing, Attachment points)\n",
      "\n",
      "[13:16:45] WARNING:  Problems/mismatches: Mobile-H( Hydrogens: Locations or number; Mobile-H groups: Missing, Attachment points)\n",
      "\n",
      "[13:16:45] WARNING:  Problems/mismatches: Mobile-H( Hydrogens: Locations or number; Mobile-H groups: Missing, Attachment points)\n",
      "\n",
      "[13:16:45] WARNING:  Problems/mismatches: Mobile-H( Hydrogens: Locations or number; Mobile-H groups: Missing, Attachment points)\n",
      "\n"
     ]
    },
    {
     "name": "stdout",
     "output_type": "stream",
     "text": [
      "4bs5\n",
      "4amy\n"
     ]
    },
    {
     "name": "stderr",
     "output_type": "stream",
     "text": [
      "Could not load molecule from /home/ymanasa/turbo/ymanasa/opt/DiffDockL-Cov/data/CSKDE95_datamol_af2/4cl8/4cl8_processed.pdb with error: Could not load molecule.\n"
     ]
    },
    {
     "name": "stdout",
     "output_type": "stream",
     "text": [
      "1ewm\n",
      "not all poses were predicted for 1ewm, moving to next\n",
      "4cl8\n"
     ]
    },
    {
     "name": "stderr",
     "output_type": "stream",
     "text": [
      "Could not load molecule from /home/ymanasa/turbo/ymanasa/opt/DiffDockL-Cov/data/CSKDE95_datamol_af2/4cl8/4cl8_processed.pdb with error: Could not load molecule.\n",
      "Could not load molecule from /home/ymanasa/turbo/ymanasa/opt/DiffDockL-Cov/data/CSKDE95_datamol_af2/4cl8/4cl8_processed.pdb with error: Could not load molecule.\n",
      "Could not load molecule from /home/ymanasa/turbo/ymanasa/opt/DiffDockL-Cov/data/CSKDE95_datamol_af2/4cl8/4cl8_processed.pdb with error: Could not load molecule.\n",
      "Could not load molecule from /home/ymanasa/turbo/ymanasa/opt/DiffDockL-Cov/data/CSKDE95_datamol_af2/4cl8/4cl8_processed.pdb with error: Could not load molecule.\n",
      "Could not load molecule from /home/ymanasa/turbo/ymanasa/opt/DiffDockL-Cov/data/CSKDE95_datamol_af2/4cl8/4cl8_processed.pdb with error: Could not load molecule.\n",
      "Could not load molecule from /home/ymanasa/turbo/ymanasa/opt/DiffDockL-Cov/data/CSKDE95_datamol_af2/4cl8/4cl8_processed.pdb with error: Could not load molecule.\n",
      "Could not load molecule from /home/ymanasa/turbo/ymanasa/opt/DiffDockL-Cov/data/CSKDE95_datamol_af2/4cl8/4cl8_processed.pdb with error: Could not load molecule.\n",
      "Could not load molecule from /home/ymanasa/turbo/ymanasa/opt/DiffDockL-Cov/data/CSKDE95_datamol_af2/4cl8/4cl8_processed.pdb with error: Could not load molecule.\n",
      "Could not load molecule from /home/ymanasa/turbo/ymanasa/opt/DiffDockL-Cov/data/CSKDE95_datamol_af2/4cl8/4cl8_processed.pdb with error: Could not load molecule.\n",
      "[13:17:24] ERROR: *Conversion failed*\n",
      "\n"
     ]
    },
    {
     "name": "stdout",
     "output_type": "stream",
     "text": [
      "6wp8\n"
     ]
    },
    {
     "name": "stderr",
     "output_type": "stream",
     "text": [
      "[13:17:28] ERROR: *Conversion failed*\n",
      "\n",
      "[13:17:29] ERROR: *Conversion failed*\n",
      "\n",
      "[13:17:30] ERROR: *Conversion failed*\n",
      "\n",
      "[13:17:30] ERROR: *Conversion failed*\n",
      "\n",
      "[13:17:30] ERROR: *Conversion failed*\n",
      "\n",
      "[13:17:31] ERROR: *Conversion failed*\n",
      "\n",
      "[13:17:32] ERROR: *Conversion failed*\n",
      "\n",
      "[13:17:32] ERROR: *Conversion failed*\n",
      "\n",
      "[13:17:32] ERROR: *Conversion failed*\n",
      "\n",
      "[13:17:33] ERROR: *Conversion failed*\n",
      "\n",
      "[13:17:33] ERROR: *Conversion failed*\n",
      "\n",
      "[13:17:34] ERROR: *Conversion failed*\n",
      "\n"
     ]
    },
    {
     "name": "stdout",
     "output_type": "stream",
     "text": [
      "5ty2\n",
      "not all poses were predicted for 5ty2, moving to next\n",
      "5o3y\n",
      "3oj8\n"
     ]
    },
    {
     "name": "stderr",
     "output_type": "stream",
     "text": [
      "[13:18:07] WARNING:  Problems/mismatches: Mobile-H( Hydrogens: Locations or number, Number; Charge(s): Do not match; Proton balance: Does not match)\n",
      "\n",
      "[13:18:07] WARNING:  Problems/mismatches: Mobile-H( Hydrogens: Locations or number, Number; Charge(s): Do not match; Proton balance: Does not match)\n",
      "\n"
     ]
    },
    {
     "name": "stdout",
     "output_type": "stream",
     "text": [
      "3kwb\n"
     ]
    },
    {
     "name": "stderr",
     "output_type": "stream",
     "text": [
      "[13:18:11] WARNING:  Problems/mismatches: Mobile-H( Hydrogens: Locations or number, Number; Charge(s): Do not match; Proton balance: Does not match)\n",
      "\n",
      "[13:18:11] WARNING:  Problems/mismatches: Mobile-H( Hydrogens: Locations or number, Number; Charge(s): Do not match; Proton balance: Does not match)\n",
      "\n",
      "[13:18:12] WARNING:  Problems/mismatches: Mobile-H( Hydrogens: Locations or number, Number; Charge(s): Do not match; Proton balance: Does not match)\n",
      "\n",
      "[13:18:12] WARNING:  Problems/mismatches: Mobile-H( Hydrogens: Locations or number, Number; Charge(s): Do not match; Proton balance: Does not match)\n",
      "\n",
      "[13:18:13] WARNING:  Problems/mismatches: Mobile-H( Hydrogens: Locations or number, Number; Charge(s): Do not match; Proton balance: Does not match)\n",
      "\n",
      "[13:18:13] WARNING:  Problems/mismatches: Mobile-H( Hydrogens: Locations or number, Number; Charge(s): Do not match; Proton balance: Does not match)\n",
      "\n",
      "[13:18:13] WARNING:  Problems/mismatches: Mobile-H( Hydrogens: Locations or number, Number; Charge(s): Do not match; Proton balance: Does not match)\n",
      "\n",
      "[13:18:13] WARNING:  Problems/mismatches: Mobile-H( Hydrogens: Locations or number, Number; Charge(s): Do not match; Proton balance: Does not match)\n",
      "\n",
      "[13:18:14] WARNING:  Problems/mismatches: Mobile-H( Hydrogens: Locations or number, Number; Charge(s): Do not match; Proton balance: Does not match)\n",
      "\n",
      "[13:18:14] WARNING:  Problems/mismatches: Mobile-H( Hydrogens: Locations or number, Number; Charge(s): Do not match; Proton balance: Does not match)\n",
      "\n",
      "[13:18:15] WARNING:  Problems/mismatches: Mobile-H( Hydrogens: Locations or number, Number; Charge(s): Do not match; Proton balance: Does not match)\n",
      "\n",
      "[13:18:15] WARNING:  Problems/mismatches: Mobile-H( Hydrogens: Locations or number, Number; Charge(s): Do not match; Proton balance: Does not match)\n",
      "\n",
      "[13:18:15] WARNING:  Problems/mismatches: Mobile-H( Hydrogens: Locations or number, Number; Charge(s): Do not match; Proton balance: Does not match)\n",
      "\n",
      "[13:18:15] WARNING:  Problems/mismatches: Mobile-H( Hydrogens: Locations or number, Number; Charge(s): Do not match; Proton balance: Does not match)\n",
      "\n",
      "[13:18:16] WARNING:  Problems/mismatches: Mobile-H( Hydrogens: Locations or number, Number; Charge(s): Do not match; Proton balance: Does not match)\n",
      "\n",
      "[13:18:16] WARNING:  Problems/mismatches: Mobile-H( Hydrogens: Locations or number, Number; Charge(s): Do not match; Proton balance: Does not match)\n",
      "\n",
      "[13:18:17] WARNING:  Problems/mismatches: Mobile-H( Hydrogens: Locations or number, Number; Charge(s): Do not match; Proton balance: Does not match)\n",
      "\n",
      "[13:18:17] WARNING:  Problems/mismatches: Mobile-H( Hydrogens: Locations or number, Number; Charge(s): Do not match; Proton balance: Does not match)\n",
      "\n"
     ]
    },
    {
     "name": "stdout",
     "output_type": "stream",
     "text": [
      "5ac2\n"
     ]
    },
    {
     "name": "stderr",
     "output_type": "stream",
     "text": [
      "Could not load molecule from /home/ymanasa/turbo/ymanasa/opt/DiffDockL-Cov/data/CSKDE95_datamol_af2/5ac2/5ac2_processed.pdb with error: Could not load molecule.\n",
      "Could not load molecule from /home/ymanasa/turbo/ymanasa/opt/DiffDockL-Cov/data/CSKDE95_datamol_af2/5ac2/5ac2_processed.pdb with error: Could not load molecule.\n",
      "Could not load molecule from /home/ymanasa/turbo/ymanasa/opt/DiffDockL-Cov/data/CSKDE95_datamol_af2/5ac2/5ac2_processed.pdb with error: Could not load molecule.\n",
      "Could not load molecule from /home/ymanasa/turbo/ymanasa/opt/DiffDockL-Cov/data/CSKDE95_datamol_af2/5ac2/5ac2_processed.pdb with error: Could not load molecule.\n",
      "Could not load molecule from /home/ymanasa/turbo/ymanasa/opt/DiffDockL-Cov/data/CSKDE95_datamol_af2/5ac2/5ac2_processed.pdb with error: Could not load molecule.\n",
      "Could not load molecule from /home/ymanasa/turbo/ymanasa/opt/DiffDockL-Cov/data/CSKDE95_datamol_af2/5ac2/5ac2_processed.pdb with error: Could not load molecule.\n",
      "Could not load molecule from /home/ymanasa/turbo/ymanasa/opt/DiffDockL-Cov/data/CSKDE95_datamol_af2/5ac2/5ac2_processed.pdb with error: Could not load molecule.\n",
      "Could not load molecule from /home/ymanasa/turbo/ymanasa/opt/DiffDockL-Cov/data/CSKDE95_datamol_af2/5ac2/5ac2_processed.pdb with error: Could not load molecule.\n",
      "Could not load molecule from /home/ymanasa/turbo/ymanasa/opt/DiffDockL-Cov/data/CSKDE95_datamol_af2/5ac2/5ac2_processed.pdb with error: Could not load molecule.\n",
      "Could not load molecule from /home/ymanasa/turbo/ymanasa/opt/DiffDockL-Cov/data/CSKDE95_datamol_af2/5ac2/5ac2_processed.pdb with error: Could not load molecule.\n",
      "[13:18:21] WARNING:  Problems/mismatches: Mobile-H( Hydrogens: Number; Mobile-H groups: One instead of multiple, Attachment points, Number; Charge(s): Do not match; Proton balance: Does not match)\n",
      "\n",
      "[13:18:21] WARNING:  Problems/mismatches: Mobile-H( Hydrogens: Number; Mobile-H groups: One instead of multiple, Attachment points, Number; Charge(s): Do not match; Proton balance: Does not match)\n",
      "\n"
     ]
    },
    {
     "name": "stdout",
     "output_type": "stream",
     "text": [
      "1zpb\n"
     ]
    },
    {
     "name": "stderr",
     "output_type": "stream",
     "text": [
      "[13:18:28] WARNING:  Problems/mismatches: Mobile-H( Hydrogens: Number; Mobile-H groups: One instead of multiple, Attachment points, Number; Charge(s): Do not match; Proton balance: Does not match)\n",
      "\n",
      "[13:18:28] WARNING:  Problems/mismatches: Mobile-H( Hydrogens: Number; Mobile-H groups: One instead of multiple, Attachment points, Number; Charge(s): Do not match; Proton balance: Does not match)\n",
      "\n",
      "[13:18:29] WARNING:  Problems/mismatches: Mobile-H( Hydrogens: Number; Mobile-H groups: One instead of multiple, Attachment points, Number; Charge(s): Do not match; Proton balance: Does not match)\n",
      "\n",
      "[13:18:30] WARNING:  Problems/mismatches: Mobile-H( Hydrogens: Number; Mobile-H groups: One instead of multiple, Attachment points, Number; Charge(s): Do not match; Proton balance: Does not match)\n",
      "\n",
      "[13:18:31] WARNING:  Problems/mismatches: Mobile-H( Hydrogens: Number; Mobile-H groups: One instead of multiple, Attachment points, Number; Charge(s): Do not match; Proton balance: Does not match)\n",
      "\n",
      "[13:18:31] WARNING:  Problems/mismatches: Mobile-H( Hydrogens: Number; Mobile-H groups: One instead of multiple, Attachment points, Number; Charge(s): Do not match; Proton balance: Does not match)\n",
      "\n",
      "[13:18:32] WARNING:  Problems/mismatches: Mobile-H( Hydrogens: Number; Mobile-H groups: One instead of multiple, Attachment points, Number; Charge(s): Do not match; Proton balance: Does not match)\n",
      "\n",
      "[13:18:32] WARNING:  Problems/mismatches: Mobile-H( Hydrogens: Number; Mobile-H groups: One instead of multiple, Attachment points, Number; Charge(s): Do not match; Proton balance: Does not match)\n",
      "\n",
      "[13:18:33] WARNING:  Problems/mismatches: Mobile-H( Hydrogens: Number; Mobile-H groups: One instead of multiple, Attachment points, Number; Charge(s): Do not match; Proton balance: Does not match)\n",
      "\n",
      "[13:18:33] WARNING:  Problems/mismatches: Mobile-H( Hydrogens: Number; Mobile-H groups: One instead of multiple, Attachment points, Number; Charge(s): Do not match; Proton balance: Does not match)\n",
      "\n",
      "[13:18:34] WARNING:  Problems/mismatches: Mobile-H( Hydrogens: Number; Mobile-H groups: One instead of multiple, Attachment points, Number; Charge(s): Do not match; Proton balance: Does not match)\n",
      "\n",
      "[13:18:34] WARNING:  Problems/mismatches: Mobile-H( Hydrogens: Number; Mobile-H groups: One instead of multiple, Attachment points, Number; Charge(s): Do not match; Proton balance: Does not match)\n",
      "\n",
      "[13:18:36] WARNING:  Problems/mismatches: Mobile-H( Hydrogens: Number; Mobile-H groups: One instead of multiple, Attachment points, Number; Charge(s): Do not match; Proton balance: Does not match)\n",
      "\n",
      "[13:18:36] WARNING:  Problems/mismatches: Mobile-H( Hydrogens: Number; Mobile-H groups: One instead of multiple, Attachment points, Number; Charge(s): Do not match; Proton balance: Does not match)\n",
      "\n",
      "[13:18:37] WARNING:  Problems/mismatches: Mobile-H( Hydrogens: Number; Mobile-H groups: One instead of multiple, Attachment points, Number; Charge(s): Do not match; Proton balance: Does not match)\n",
      "\n",
      "[13:18:37] WARNING:  Problems/mismatches: Mobile-H( Hydrogens: Number; Mobile-H groups: One instead of multiple, Attachment points, Number; Charge(s): Do not match; Proton balance: Does not match)\n",
      "\n",
      "[13:18:38] WARNING:  Problems/mismatches: Mobile-H( Hydrogens: Number; Mobile-H groups: One instead of multiple, Attachment points, Number; Charge(s): Do not match; Proton balance: Does not match)\n",
      "\n",
      "[13:18:38] WARNING:  Problems/mismatches: Mobile-H( Hydrogens: Number; Mobile-H groups: One instead of multiple, Attachment points, Number; Charge(s): Do not match; Proton balance: Does not match)\n",
      "\n"
     ]
    },
    {
     "name": "stdout",
     "output_type": "stream",
     "text": [
      "6c7z\n",
      "1fj8\n",
      "4wsk\n",
      "6q6l\n",
      "not all poses were predicted for 6q6l, moving to next\n",
      "3mzd\n",
      "not all poses were predicted for 3mzd, moving to next\n",
      "5vnp\n",
      "2op9\n"
     ]
    },
    {
     "name": "stderr",
     "output_type": "stream",
     "text": [
      "[13:19:54] UFFTYPER: Unrecognized atom type: B_ (22)\n"
     ]
    },
    {
     "name": "stdout",
     "output_type": "stream",
     "text": [
      "4lqm\n"
     ]
    },
    {
     "name": "stderr",
     "output_type": "stream",
     "text": [
      "[13:19:56] UFFTYPER: Unrecognized atom type: B_ (22)\n",
      "[13:19:58] UFFTYPER: Unrecognized atom type: B_ (22)\n",
      "[13:19:59] UFFTYPER: Unrecognized atom type: B_ (22)\n",
      "[13:20:00] UFFTYPER: Unrecognized atom type: B_ (22)\n",
      "[13:20:01] UFFTYPER: Unrecognized atom type: B_ (22)\n",
      "[13:20:02] UFFTYPER: Unrecognized atom type: B_ (22)\n",
      "[13:20:03] UFFTYPER: Unrecognized atom type: B_ (22)\n",
      "[13:20:04] UFFTYPER: Unrecognized atom type: B_ (22)\n",
      "[13:20:06] UFFTYPER: Unrecognized atom type: B_ (22)\n"
     ]
    },
    {
     "name": "stdout",
     "output_type": "stream",
     "text": [
      "5uxz\n",
      "2wj1\n",
      "3qsd\n",
      "not all poses were predicted for 3qsd, moving to next\n",
      "6hn2\n"
     ]
    },
    {
     "name": "stderr",
     "output_type": "stream",
     "text": [
      "Could not load molecule from /home/ymanasa/turbo/ymanasa/opt/DiffDockL-Cov/data/CSKDE95_datamol_af2/6hn2/6hn2_processed.pdb with error: Could not load molecule.\n",
      "[13:20:47] UFFTYPER: Unrecognized charge state for atom: 13\n",
      "Could not load molecule from /home/ymanasa/turbo/ymanasa/opt/DiffDockL-Cov/data/CSKDE95_datamol_af2/6hn2/6hn2_processed.pdb with error: Could not load molecule.\n",
      "[13:20:48] UFFTYPER: Unrecognized charge state for atom: 13\n",
      "Could not load molecule from /home/ymanasa/turbo/ymanasa/opt/DiffDockL-Cov/data/CSKDE95_datamol_af2/6hn2/6hn2_processed.pdb with error: Could not load molecule.\n",
      "[13:20:48] UFFTYPER: Unrecognized charge state for atom: 13\n",
      "Could not load molecule from /home/ymanasa/turbo/ymanasa/opt/DiffDockL-Cov/data/CSKDE95_datamol_af2/6hn2/6hn2_processed.pdb with error: Could not load molecule.\n",
      "[13:20:48] UFFTYPER: Unrecognized charge state for atom: 13\n",
      "Could not load molecule from /home/ymanasa/turbo/ymanasa/opt/DiffDockL-Cov/data/CSKDE95_datamol_af2/6hn2/6hn2_processed.pdb with error: Could not load molecule.\n",
      "[13:20:48] UFFTYPER: Unrecognized charge state for atom: 13\n",
      "Could not load molecule from /home/ymanasa/turbo/ymanasa/opt/DiffDockL-Cov/data/CSKDE95_datamol_af2/6hn2/6hn2_processed.pdb with error: Could not load molecule.\n",
      "[13:20:48] UFFTYPER: Unrecognized charge state for atom: 13\n",
      "Could not load molecule from /home/ymanasa/turbo/ymanasa/opt/DiffDockL-Cov/data/CSKDE95_datamol_af2/6hn2/6hn2_processed.pdb with error: Could not load molecule.\n",
      "[13:20:49] UFFTYPER: Unrecognized charge state for atom: 13\n",
      "Could not load molecule from /home/ymanasa/turbo/ymanasa/opt/DiffDockL-Cov/data/CSKDE95_datamol_af2/6hn2/6hn2_processed.pdb with error: Could not load molecule.\n",
      "[13:20:49] UFFTYPER: Unrecognized charge state for atom: 13\n",
      "Could not load molecule from /home/ymanasa/turbo/ymanasa/opt/DiffDockL-Cov/data/CSKDE95_datamol_af2/6hn2/6hn2_processed.pdb with error: Could not load molecule.\n",
      "[13:20:49] UFFTYPER: Unrecognized charge state for atom: 13\n",
      "Could not load molecule from /home/ymanasa/turbo/ymanasa/opt/DiffDockL-Cov/data/CSKDE95_datamol_af2/6hn2/6hn2_processed.pdb with error: Could not load molecule.\n",
      "[13:20:49] UFFTYPER: Unrecognized charge state for atom: 13\n"
     ]
    },
    {
     "name": "stdout",
     "output_type": "stream",
     "text": [
      "1td2\n",
      "5e1i\n",
      "3svv\n",
      "4cdf\n",
      "2dw5\n",
      "6eej\n",
      "not all poses were predicted for 6eej, moving to next\n",
      "5d6e\n",
      "4jxg\n",
      "not all poses were predicted for 4jxg, moving to next\n",
      "3pdf\n",
      "5rep\n",
      "1nqc\n",
      "4qgv\n"
     ]
    },
    {
     "name": "stderr",
     "output_type": "stream",
     "text": [
      "[13:23:16] UFFTYPER: Unrecognized charge state for atom: 5\n"
     ]
    },
    {
     "name": "stdout",
     "output_type": "stream",
     "text": [
      "3otu\n"
     ]
    },
    {
     "name": "stderr",
     "output_type": "stream",
     "text": [
      "[13:23:20] UFFTYPER: Unrecognized charge state for atom: 5\n",
      "[13:23:21] UFFTYPER: Unrecognized charge state for atom: 5\n",
      "[13:23:22] UFFTYPER: Unrecognized charge state for atom: 5\n",
      "[13:23:23] UFFTYPER: Unrecognized charge state for atom: 5\n",
      "[13:23:24] UFFTYPER: Unrecognized charge state for atom: 5\n",
      "[13:23:25] UFFTYPER: Unrecognized charge state for atom: 5\n",
      "[13:23:26] UFFTYPER: Unrecognized charge state for atom: 5\n",
      "[13:23:27] UFFTYPER: Unrecognized charge state for atom: 5\n",
      "[13:23:28] UFFTYPER: Unrecognized charge state for atom: 5\n"
     ]
    },
    {
     "name": "stdout",
     "output_type": "stream",
     "text": [
      "6j7b\n",
      "not all poses were predicted for 6j7b, moving to next\n",
      "4x6j\n"
     ]
    }
   ],
   "source": [
    "true_poses = '/home/ymanasa/turbo/ymanasa/opt/DiffDockL-Cov/data/CSKDE95_datamol_af2'\n",
    "pred_poses = '/home/ymanasa/turbo/ymanasa/opt/DiffDockL-Cov/results/cskde95_inference'\n",
    "all_df = make_eval_df(true_poses, pred_poses, pose_bust_cols=pose_bust_cols)"
   ]
  },
  {
   "cell_type": "code",
   "execution_count": 6,
   "metadata": {},
   "outputs": [
    {
     "data": {
      "text/html": [
       "<div>\n",
       "<style scoped>\n",
       "    .dataframe tbody tr th:only-of-type {\n",
       "        vertical-align: middle;\n",
       "    }\n",
       "\n",
       "    .dataframe tbody tr th {\n",
       "        vertical-align: top;\n",
       "    }\n",
       "\n",
       "    .dataframe thead th {\n",
       "        text-align: right;\n",
       "    }\n",
       "</style>\n",
       "<table border=\"1\" class=\"dataframe\">\n",
       "  <thead>\n",
       "    <tr style=\"text-align: right;\">\n",
       "      <th></th>\n",
       "      <th>file</th>\n",
       "      <th>molecule</th>\n",
       "      <th>mol_pred_loaded</th>\n",
       "      <th>mol_true_loaded</th>\n",
       "      <th>mol_cond_loaded</th>\n",
       "      <th>sanitization</th>\n",
       "      <th>inchi_convertible</th>\n",
       "      <th>all_atoms_connected</th>\n",
       "      <th>molecular_formula</th>\n",
       "      <th>molecular_bonds</th>\n",
       "      <th>...</th>\n",
       "      <th>most_extreme_sum_radii_scaled_waters</th>\n",
       "      <th>most_extreme_relative_distance_waters</th>\n",
       "      <th>most_extreme_clash_waters</th>\n",
       "      <th>volume_overlap_protein</th>\n",
       "      <th>volume_overlap_organic_cofactors</th>\n",
       "      <th>volume_overlap_inorganic_cofactors</th>\n",
       "      <th>volume_overlap_waters</th>\n",
       "      <th>rmsd</th>\n",
       "      <th>kabsch_rmsd</th>\n",
       "      <th>centroid_distance</th>\n",
       "    </tr>\n",
       "  </thead>\n",
       "  <tbody>\n",
       "    <tr>\n",
       "      <th>0</th>\n",
       "      <td>/home/ymanasa/turbo/ymanasa/opt/DiffDockL-Cov/...</td>\n",
       "      <td>4cdc_rank4</td>\n",
       "      <td>True</td>\n",
       "      <td>True</td>\n",
       "      <td>True</td>\n",
       "      <td>True</td>\n",
       "      <td>True</td>\n",
       "      <td>True</td>\n",
       "      <td>True</td>\n",
       "      <td>True</td>\n",
       "      <td>...</td>\n",
       "      <td>NaN</td>\n",
       "      <td>NaN</td>\n",
       "      <td>NaN</td>\n",
       "      <td>NaN</td>\n",
       "      <td>NaN</td>\n",
       "      <td>NaN</td>\n",
       "      <td>NaN</td>\n",
       "      <td>NaN</td>\n",
       "      <td>NaN</td>\n",
       "      <td>NaN</td>\n",
       "    </tr>\n",
       "    <tr>\n",
       "      <th>1</th>\n",
       "      <td>/home/ymanasa/turbo/ymanasa/opt/DiffDockL-Cov/...</td>\n",
       "      <td>4cdc_rank10</td>\n",
       "      <td>True</td>\n",
       "      <td>True</td>\n",
       "      <td>True</td>\n",
       "      <td>True</td>\n",
       "      <td>True</td>\n",
       "      <td>True</td>\n",
       "      <td>True</td>\n",
       "      <td>True</td>\n",
       "      <td>...</td>\n",
       "      <td>NaN</td>\n",
       "      <td>NaN</td>\n",
       "      <td>NaN</td>\n",
       "      <td>NaN</td>\n",
       "      <td>NaN</td>\n",
       "      <td>NaN</td>\n",
       "      <td>NaN</td>\n",
       "      <td>NaN</td>\n",
       "      <td>NaN</td>\n",
       "      <td>NaN</td>\n",
       "    </tr>\n",
       "    <tr>\n",
       "      <th>2</th>\n",
       "      <td>/home/ymanasa/turbo/ymanasa/opt/DiffDockL-Cov/...</td>\n",
       "      <td>4cdc_rank6</td>\n",
       "      <td>True</td>\n",
       "      <td>True</td>\n",
       "      <td>True</td>\n",
       "      <td>True</td>\n",
       "      <td>True</td>\n",
       "      <td>True</td>\n",
       "      <td>True</td>\n",
       "      <td>True</td>\n",
       "      <td>...</td>\n",
       "      <td>NaN</td>\n",
       "      <td>NaN</td>\n",
       "      <td>NaN</td>\n",
       "      <td>NaN</td>\n",
       "      <td>NaN</td>\n",
       "      <td>NaN</td>\n",
       "      <td>NaN</td>\n",
       "      <td>NaN</td>\n",
       "      <td>NaN</td>\n",
       "      <td>NaN</td>\n",
       "    </tr>\n",
       "    <tr>\n",
       "      <th>3</th>\n",
       "      <td>/home/ymanasa/turbo/ymanasa/opt/DiffDockL-Cov/...</td>\n",
       "      <td>4cdc_rank2</td>\n",
       "      <td>True</td>\n",
       "      <td>True</td>\n",
       "      <td>True</td>\n",
       "      <td>True</td>\n",
       "      <td>True</td>\n",
       "      <td>True</td>\n",
       "      <td>True</td>\n",
       "      <td>True</td>\n",
       "      <td>...</td>\n",
       "      <td>NaN</td>\n",
       "      <td>NaN</td>\n",
       "      <td>NaN</td>\n",
       "      <td>NaN</td>\n",
       "      <td>NaN</td>\n",
       "      <td>NaN</td>\n",
       "      <td>NaN</td>\n",
       "      <td>NaN</td>\n",
       "      <td>NaN</td>\n",
       "      <td>NaN</td>\n",
       "    </tr>\n",
       "    <tr>\n",
       "      <th>4</th>\n",
       "      <td>/home/ymanasa/turbo/ymanasa/opt/DiffDockL-Cov/...</td>\n",
       "      <td>4cdc_rank1</td>\n",
       "      <td>True</td>\n",
       "      <td>True</td>\n",
       "      <td>True</td>\n",
       "      <td>True</td>\n",
       "      <td>True</td>\n",
       "      <td>True</td>\n",
       "      <td>True</td>\n",
       "      <td>True</td>\n",
       "      <td>...</td>\n",
       "      <td>NaN</td>\n",
       "      <td>NaN</td>\n",
       "      <td>NaN</td>\n",
       "      <td>NaN</td>\n",
       "      <td>NaN</td>\n",
       "      <td>NaN</td>\n",
       "      <td>NaN</td>\n",
       "      <td>NaN</td>\n",
       "      <td>NaN</td>\n",
       "      <td>NaN</td>\n",
       "    </tr>\n",
       "    <tr>\n",
       "      <th>...</th>\n",
       "      <td>...</td>\n",
       "      <td>...</td>\n",
       "      <td>...</td>\n",
       "      <td>...</td>\n",
       "      <td>...</td>\n",
       "      <td>...</td>\n",
       "      <td>...</td>\n",
       "      <td>...</td>\n",
       "      <td>...</td>\n",
       "      <td>...</td>\n",
       "      <td>...</td>\n",
       "      <td>...</td>\n",
       "      <td>...</td>\n",
       "      <td>...</td>\n",
       "      <td>...</td>\n",
       "      <td>...</td>\n",
       "      <td>...</td>\n",
       "      <td>...</td>\n",
       "      <td>...</td>\n",
       "      <td>...</td>\n",
       "      <td>...</td>\n",
       "    </tr>\n",
       "    <tr>\n",
       "      <th>705</th>\n",
       "      <td>/home/ymanasa/turbo/ymanasa/opt/DiffDockL-Cov/...</td>\n",
       "      <td>4x6j_rank10</td>\n",
       "      <td>True</td>\n",
       "      <td>True</td>\n",
       "      <td>True</td>\n",
       "      <td>True</td>\n",
       "      <td>True</td>\n",
       "      <td>False</td>\n",
       "      <td>True</td>\n",
       "      <td>True</td>\n",
       "      <td>...</td>\n",
       "      <td>NaN</td>\n",
       "      <td>NaN</td>\n",
       "      <td>NaN</td>\n",
       "      <td>NaN</td>\n",
       "      <td>NaN</td>\n",
       "      <td>NaN</td>\n",
       "      <td>NaN</td>\n",
       "      <td>NaN</td>\n",
       "      <td>NaN</td>\n",
       "      <td>NaN</td>\n",
       "    </tr>\n",
       "    <tr>\n",
       "      <th>706</th>\n",
       "      <td>/home/ymanasa/turbo/ymanasa/opt/DiffDockL-Cov/...</td>\n",
       "      <td>4x6j_rank9</td>\n",
       "      <td>True</td>\n",
       "      <td>True</td>\n",
       "      <td>True</td>\n",
       "      <td>True</td>\n",
       "      <td>True</td>\n",
       "      <td>False</td>\n",
       "      <td>True</td>\n",
       "      <td>True</td>\n",
       "      <td>...</td>\n",
       "      <td>NaN</td>\n",
       "      <td>NaN</td>\n",
       "      <td>NaN</td>\n",
       "      <td>NaN</td>\n",
       "      <td>NaN</td>\n",
       "      <td>NaN</td>\n",
       "      <td>NaN</td>\n",
       "      <td>NaN</td>\n",
       "      <td>NaN</td>\n",
       "      <td>NaN</td>\n",
       "    </tr>\n",
       "    <tr>\n",
       "      <th>707</th>\n",
       "      <td>/home/ymanasa/turbo/ymanasa/opt/DiffDockL-Cov/...</td>\n",
       "      <td>4x6j_rank5</td>\n",
       "      <td>True</td>\n",
       "      <td>True</td>\n",
       "      <td>True</td>\n",
       "      <td>True</td>\n",
       "      <td>True</td>\n",
       "      <td>False</td>\n",
       "      <td>True</td>\n",
       "      <td>True</td>\n",
       "      <td>...</td>\n",
       "      <td>NaN</td>\n",
       "      <td>NaN</td>\n",
       "      <td>NaN</td>\n",
       "      <td>NaN</td>\n",
       "      <td>NaN</td>\n",
       "      <td>NaN</td>\n",
       "      <td>NaN</td>\n",
       "      <td>NaN</td>\n",
       "      <td>NaN</td>\n",
       "      <td>NaN</td>\n",
       "    </tr>\n",
       "    <tr>\n",
       "      <th>708</th>\n",
       "      <td>/home/ymanasa/turbo/ymanasa/opt/DiffDockL-Cov/...</td>\n",
       "      <td>4x6j_rank8</td>\n",
       "      <td>True</td>\n",
       "      <td>True</td>\n",
       "      <td>True</td>\n",
       "      <td>True</td>\n",
       "      <td>True</td>\n",
       "      <td>False</td>\n",
       "      <td>True</td>\n",
       "      <td>True</td>\n",
       "      <td>...</td>\n",
       "      <td>NaN</td>\n",
       "      <td>NaN</td>\n",
       "      <td>NaN</td>\n",
       "      <td>NaN</td>\n",
       "      <td>NaN</td>\n",
       "      <td>NaN</td>\n",
       "      <td>NaN</td>\n",
       "      <td>NaN</td>\n",
       "      <td>NaN</td>\n",
       "      <td>NaN</td>\n",
       "    </tr>\n",
       "    <tr>\n",
       "      <th>709</th>\n",
       "      <td>/home/ymanasa/turbo/ymanasa/opt/DiffDockL-Cov/...</td>\n",
       "      <td>4x6j_rank7</td>\n",
       "      <td>True</td>\n",
       "      <td>True</td>\n",
       "      <td>True</td>\n",
       "      <td>True</td>\n",
       "      <td>True</td>\n",
       "      <td>False</td>\n",
       "      <td>True</td>\n",
       "      <td>True</td>\n",
       "      <td>...</td>\n",
       "      <td>NaN</td>\n",
       "      <td>NaN</td>\n",
       "      <td>NaN</td>\n",
       "      <td>NaN</td>\n",
       "      <td>NaN</td>\n",
       "      <td>NaN</td>\n",
       "      <td>NaN</td>\n",
       "      <td>NaN</td>\n",
       "      <td>NaN</td>\n",
       "      <td>NaN</td>\n",
       "    </tr>\n",
       "  </tbody>\n",
       "</table>\n",
       "<p>710 rows × 128 columns</p>\n",
       "</div>"
      ],
      "text/plain": [
       "                                                  file     molecule  \\\n",
       "0    /home/ymanasa/turbo/ymanasa/opt/DiffDockL-Cov/...   4cdc_rank4   \n",
       "1    /home/ymanasa/turbo/ymanasa/opt/DiffDockL-Cov/...  4cdc_rank10   \n",
       "2    /home/ymanasa/turbo/ymanasa/opt/DiffDockL-Cov/...   4cdc_rank6   \n",
       "3    /home/ymanasa/turbo/ymanasa/opt/DiffDockL-Cov/...   4cdc_rank2   \n",
       "4    /home/ymanasa/turbo/ymanasa/opt/DiffDockL-Cov/...   4cdc_rank1   \n",
       "..                                                 ...          ...   \n",
       "705  /home/ymanasa/turbo/ymanasa/opt/DiffDockL-Cov/...  4x6j_rank10   \n",
       "706  /home/ymanasa/turbo/ymanasa/opt/DiffDockL-Cov/...   4x6j_rank9   \n",
       "707  /home/ymanasa/turbo/ymanasa/opt/DiffDockL-Cov/...   4x6j_rank5   \n",
       "708  /home/ymanasa/turbo/ymanasa/opt/DiffDockL-Cov/...   4x6j_rank8   \n",
       "709  /home/ymanasa/turbo/ymanasa/opt/DiffDockL-Cov/...   4x6j_rank7   \n",
       "\n",
       "    mol_pred_loaded mol_true_loaded mol_cond_loaded sanitization  \\\n",
       "0              True            True            True         True   \n",
       "1              True            True            True         True   \n",
       "2              True            True            True         True   \n",
       "3              True            True            True         True   \n",
       "4              True            True            True         True   \n",
       "..              ...             ...             ...          ...   \n",
       "705            True            True            True         True   \n",
       "706            True            True            True         True   \n",
       "707            True            True            True         True   \n",
       "708            True            True            True         True   \n",
       "709            True            True            True         True   \n",
       "\n",
       "    inchi_convertible all_atoms_connected molecular_formula molecular_bonds  \\\n",
       "0                True                True              True            True   \n",
       "1                True                True              True            True   \n",
       "2                True                True              True            True   \n",
       "3                True                True              True            True   \n",
       "4                True                True              True            True   \n",
       "..                ...                 ...               ...             ...   \n",
       "705              True               False              True            True   \n",
       "706              True               False              True            True   \n",
       "707              True               False              True            True   \n",
       "708              True               False              True            True   \n",
       "709              True               False              True            True   \n",
       "\n",
       "     ... most_extreme_sum_radii_scaled_waters  \\\n",
       "0    ...                                  NaN   \n",
       "1    ...                                  NaN   \n",
       "2    ...                                  NaN   \n",
       "3    ...                                  NaN   \n",
       "4    ...                                  NaN   \n",
       "..   ...                                  ...   \n",
       "705  ...                                  NaN   \n",
       "706  ...                                  NaN   \n",
       "707  ...                                  NaN   \n",
       "708  ...                                  NaN   \n",
       "709  ...                                  NaN   \n",
       "\n",
       "    most_extreme_relative_distance_waters most_extreme_clash_waters  \\\n",
       "0                                     NaN                       NaN   \n",
       "1                                     NaN                       NaN   \n",
       "2                                     NaN                       NaN   \n",
       "3                                     NaN                       NaN   \n",
       "4                                     NaN                       NaN   \n",
       "..                                    ...                       ...   \n",
       "705                                   NaN                       NaN   \n",
       "706                                   NaN                       NaN   \n",
       "707                                   NaN                       NaN   \n",
       "708                                   NaN                       NaN   \n",
       "709                                   NaN                       NaN   \n",
       "\n",
       "    volume_overlap_protein volume_overlap_organic_cofactors  \\\n",
       "0                      NaN                              NaN   \n",
       "1                      NaN                              NaN   \n",
       "2                      NaN                              NaN   \n",
       "3                      NaN                              NaN   \n",
       "4                      NaN                              NaN   \n",
       "..                     ...                              ...   \n",
       "705                    NaN                              NaN   \n",
       "706                    NaN                              NaN   \n",
       "707                    NaN                              NaN   \n",
       "708                    NaN                              NaN   \n",
       "709                    NaN                              NaN   \n",
       "\n",
       "    volume_overlap_inorganic_cofactors volume_overlap_waters rmsd kabsch_rmsd  \\\n",
       "0                                  NaN                   NaN  NaN         NaN   \n",
       "1                                  NaN                   NaN  NaN         NaN   \n",
       "2                                  NaN                   NaN  NaN         NaN   \n",
       "3                                  NaN                   NaN  NaN         NaN   \n",
       "4                                  NaN                   NaN  NaN         NaN   \n",
       "..                                 ...                   ...  ...         ...   \n",
       "705                                NaN                   NaN  NaN         NaN   \n",
       "706                                NaN                   NaN  NaN         NaN   \n",
       "707                                NaN                   NaN  NaN         NaN   \n",
       "708                                NaN                   NaN  NaN         NaN   \n",
       "709                                NaN                   NaN  NaN         NaN   \n",
       "\n",
       "    centroid_distance  \n",
       "0                 NaN  \n",
       "1                 NaN  \n",
       "2                 NaN  \n",
       "3                 NaN  \n",
       "4                 NaN  \n",
       "..                ...  \n",
       "705               NaN  \n",
       "706               NaN  \n",
       "707               NaN  \n",
       "708               NaN  \n",
       "709               NaN  \n",
       "\n",
       "[710 rows x 128 columns]"
      ]
     },
     "execution_count": 6,
     "metadata": {},
     "output_type": "execute_result"
    }
   ],
   "source": [
    "all_df"
   ]
  },
  {
   "cell_type": "code",
   "execution_count": 8,
   "metadata": {},
   "outputs": [
    {
     "name": "stderr",
     "output_type": "stream",
     "text": [
      "/nfs/turbo/umms-maom/ymanasa/opt/DiffDockL-Cov/evaluate_cov.py:94: FutureWarning: The behavior of DataFrame concatenation with empty or all-NA entries is deprecated. In a future version, this will no longer exclude empty or all-NA columns when determining the result dtypes. To retain the old behavior, exclude the relevant entries before the concat operation.\n",
      "  metrics_df = pd.concat([metrics_df, pd.DataFrame({'Protein': [prot],\n"
     ]
    }
   ],
   "source": [
    "mean_rmsd_perc, best_gen_perc, metrics_df = score_model_eval(all_df)"
   ]
  },
  {
   "cell_type": "code",
   "execution_count": 11,
   "metadata": {},
   "outputs": [
    {
     "data": {
      "text/html": [
       "<div>\n",
       "<style scoped>\n",
       "    .dataframe tbody tr th:only-of-type {\n",
       "        vertical-align: middle;\n",
       "    }\n",
       "\n",
       "    .dataframe tbody tr th {\n",
       "        vertical-align: top;\n",
       "    }\n",
       "\n",
       "    .dataframe thead th {\n",
       "        text-align: right;\n",
       "    }\n",
       "</style>\n",
       "<table border=\"1\" class=\"dataframe\">\n",
       "  <thead>\n",
       "    <tr style=\"text-align: right;\">\n",
       "      <th></th>\n",
       "      <th>Protein</th>\n",
       "      <th>Best RMSD</th>\n",
       "      <th>Mean RMSD</th>\n",
       "      <th>Std Dev of RMSD</th>\n",
       "      <th>RMSD &lt; 2 %</th>\n",
       "    </tr>\n",
       "  </thead>\n",
       "  <tbody>\n",
       "    <tr>\n",
       "      <th>0</th>\n",
       "      <td>1fj8</td>\n",
       "      <td>NaN</td>\n",
       "      <td>NaN</td>\n",
       "      <td>NaN</td>\n",
       "      <td>0.0</td>\n",
       "    </tr>\n",
       "    <tr>\n",
       "      <th>1</th>\n",
       "      <td>1ghm</td>\n",
       "      <td>NaN</td>\n",
       "      <td>NaN</td>\n",
       "      <td>NaN</td>\n",
       "      <td>0.0</td>\n",
       "    </tr>\n",
       "    <tr>\n",
       "      <th>2</th>\n",
       "      <td>1hbj</td>\n",
       "      <td>NaN</td>\n",
       "      <td>NaN</td>\n",
       "      <td>NaN</td>\n",
       "      <td>0.0</td>\n",
       "    </tr>\n",
       "    <tr>\n",
       "      <th>3</th>\n",
       "      <td>1hv7</td>\n",
       "      <td>NaN</td>\n",
       "      <td>NaN</td>\n",
       "      <td>NaN</td>\n",
       "      <td>0.0</td>\n",
       "    </tr>\n",
       "    <tr>\n",
       "      <th>4</th>\n",
       "      <td>1nqc</td>\n",
       "      <td>NaN</td>\n",
       "      <td>NaN</td>\n",
       "      <td>NaN</td>\n",
       "      <td>0.0</td>\n",
       "    </tr>\n",
       "    <tr>\n",
       "      <th>...</th>\n",
       "      <td>...</td>\n",
       "      <td>...</td>\n",
       "      <td>...</td>\n",
       "      <td>...</td>\n",
       "      <td>...</td>\n",
       "    </tr>\n",
       "    <tr>\n",
       "      <th>66</th>\n",
       "      <td>6hn2</td>\n",
       "      <td>NaN</td>\n",
       "      <td>NaN</td>\n",
       "      <td>NaN</td>\n",
       "      <td>0.0</td>\n",
       "    </tr>\n",
       "    <tr>\n",
       "      <th>67</th>\n",
       "      <td>6puh</td>\n",
       "      <td>NaN</td>\n",
       "      <td>NaN</td>\n",
       "      <td>NaN</td>\n",
       "      <td>0.0</td>\n",
       "    </tr>\n",
       "    <tr>\n",
       "      <th>68</th>\n",
       "      <td>6vgy</td>\n",
       "      <td>NaN</td>\n",
       "      <td>NaN</td>\n",
       "      <td>NaN</td>\n",
       "      <td>0.0</td>\n",
       "    </tr>\n",
       "    <tr>\n",
       "      <th>69</th>\n",
       "      <td>6wp8</td>\n",
       "      <td>NaN</td>\n",
       "      <td>NaN</td>\n",
       "      <td>NaN</td>\n",
       "      <td>0.0</td>\n",
       "    </tr>\n",
       "    <tr>\n",
       "      <th>70</th>\n",
       "      <td>6yq2</td>\n",
       "      <td>NaN</td>\n",
       "      <td>NaN</td>\n",
       "      <td>NaN</td>\n",
       "      <td>0.0</td>\n",
       "    </tr>\n",
       "  </tbody>\n",
       "</table>\n",
       "<p>71 rows × 5 columns</p>\n",
       "</div>"
      ],
      "text/plain": [
       "   Protein  Best RMSD  Mean RMSD  Std Dev of RMSD  RMSD < 2 %\n",
       "0     1fj8        NaN        NaN              NaN         0.0\n",
       "1     1ghm        NaN        NaN              NaN         0.0\n",
       "2     1hbj        NaN        NaN              NaN         0.0\n",
       "3     1hv7        NaN        NaN              NaN         0.0\n",
       "4     1nqc        NaN        NaN              NaN         0.0\n",
       "..     ...        ...        ...              ...         ...\n",
       "66    6hn2        NaN        NaN              NaN         0.0\n",
       "67    6puh        NaN        NaN              NaN         0.0\n",
       "68    6vgy        NaN        NaN              NaN         0.0\n",
       "69    6wp8        NaN        NaN              NaN         0.0\n",
       "70    6yq2        NaN        NaN              NaN         0.0\n",
       "\n",
       "[71 rows x 5 columns]"
      ]
     },
     "execution_count": 11,
     "metadata": {},
     "output_type": "execute_result"
    }
   ],
   "source": [
    "metrics_df"
   ]
  },
  {
   "cell_type": "code",
   "execution_count": 9,
   "metadata": {},
   "outputs": [
    {
     "data": {
      "text/plain": [
       "0.0"
      ]
     },
     "execution_count": 9,
     "metadata": {},
     "output_type": "execute_result"
    }
   ],
   "source": [
    "mean_rmsd_perc"
   ]
  },
  {
   "cell_type": "code",
   "execution_count": 10,
   "metadata": {},
   "outputs": [
    {
     "data": {
      "text/plain": [
       "0.0"
      ]
     },
     "execution_count": 10,
     "metadata": {},
     "output_type": "execute_result"
    }
   ],
   "source": [
    "best_gen_perc"
   ]
  },
  {
   "cell_type": "code",
   "execution_count": null,
   "metadata": {},
   "outputs": [],
   "source": [
    "confidence_model_metrics = confidence_model_eval(all_df)"
   ]
  },
  {
   "cell_type": "code",
   "execution_count": null,
   "metadata": {},
   "outputs": [
    {
     "name": "stdout",
     "output_type": "stream",
     "text": [
      "1.8908935919761511\n",
      "2.3215856519844356\n",
      "5.547063965789069\n"
     ]
    },
    {
     "name": "stderr",
     "output_type": "stream",
     "text": [
      "/tmp/ipykernel_2703483/3145253633.py:8: DeprecationWarning: DataFrameGroupBy.apply operated on the grouping columns. This behavior is deprecated, and in a future version of pandas the grouping columns will be excluded from the operation. Either pass `include_groups=False` to exclude the groupings or explicitly select the grouping columns after groupby to silence this warning.\n",
      "  sorted_df = all_df.groupby('protein', group_keys=False).apply(lambda group: group.sort_values('rank'))\n"
     ]
    }
   ],
   "source": [
    "from scipy.stats import spearmanr\n",
    "\n",
    "count_rank1 = 0 \n",
    "rmsd_check = 2\n",
    "num_gen = 10\n",
    "\n",
    "all_df['protein'] = all_df['molecule'].str.extract(r'^(.*?)_') \n",
    "all_df['rank'] = all_df['molecule'].str.extract(r'rank(\\d+)').astype(int)\n",
    "\n",
    "sorted_df = all_df.groupby('protein', group_keys=False).apply(lambda group: group.sort_values('rank'))\n",
    "group_df = sorted_df.groupby('protein')\n",
    "\n",
    "num_prots= len(group_df.groups)\n",
    "\n",
    "count_rank1 = 0\n",
    "for prot, row_index in group_df.groups.items(): \n",
    "    rank1_rmsd = sorted_df.loc[row_index[0], 'rmsd']\n",
    "    lowest_rmsd = (sorted_df.loc[row_index, 'rmsd']).min()\n",
    "    count_rank1 += (rank1_rmsd == lowest_rmsd)\n",
    "\n",
    "rank1_corrects = count_rank1/num_prots * 100 \n",
    "# look at precision/recall and averages\n"
   ]
  }
 ],
 "metadata": {
  "kernelspec": {
   "display_name": "posebusters",
   "language": "python",
   "name": "python3"
  },
  "language_info": {
   "codemirror_mode": {
    "name": "ipython",
    "version": 3
   },
   "file_extension": ".py",
   "mimetype": "text/x-python",
   "name": "python",
   "nbconvert_exporter": "python",
   "pygments_lexer": "ipython3",
   "version": "3.10.16"
  }
 },
 "nbformat": 4,
 "nbformat_minor": 2
}
